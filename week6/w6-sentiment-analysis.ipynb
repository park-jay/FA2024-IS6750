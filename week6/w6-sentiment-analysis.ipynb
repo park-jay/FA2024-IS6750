{
 "cells": [
  {
   "cell_type": "markdown",
   "metadata": {},
   "source": [
    ">* Sentiment analysis can be a useful way to analyze the expressed sentiment (i.e., positive, negative, or neutral) in a given text.\n",
    ">* Social media is a place where people exhibit their emotions and sentiments so it is a good place to analyze the sentiment of the people."
   ]
  },
  {
   "cell_type": "markdown",
   "metadata": {},
   "source": [
    ">* We will use the Parler data. Parler is an alternative social media platform to Twitter. It is known for its conservative user base and its lax moderation policies. "
   ]
  },
  {
   "cell_type": "code",
   "execution_count": 1,
   "metadata": {},
   "outputs": [],
   "source": [
    "import pandas as pd"
   ]
  },
  {
   "cell_type": "code",
   "execution_count": 2,
   "metadata": {},
   "outputs": [],
   "source": [
    "data=pd.read_csv('subset-2021-01-11-voter_fraud.csv')"
   ]
  },
  {
   "cell_type": "code",
   "execution_count": 3,
   "metadata": {},
   "outputs": [
    {
     "data": {
      "text/plain": [
       "Index(['article', 'body', 'bodywithurls', 'comments', 'createdAt',\n",
       "       'createdAtformatted', 'creator', 'datatype', 'depth', 'depthRaw',\n",
       "       ...\n",
       "       'urls.15.createdAt', 'urls.15.domain', 'urls.15.id', 'urls.15.long',\n",
       "       'urls.15.metadata.length', 'urls.15.metadata.mimeType',\n",
       "       'urls.15.metadata.site', 'urls.15.modified', 'urls.15.short',\n",
       "       'urls.15.state'],\n",
       "      dtype='object', length=420)"
      ]
     },
     "execution_count": 3,
     "metadata": {},
     "output_type": "execute_result"
    }
   ],
   "source": [
    "data.columns"
   ]
  },
  {
   "cell_type": "code",
   "execution_count": 4,
   "metadata": {},
   "outputs": [],
   "source": [
    "content=data[['body','username']]"
   ]
  },
  {
   "cell_type": "code",
   "execution_count": 5,
   "metadata": {},
   "outputs": [
    {
     "data": {
      "text/html": [
       "<div>\n",
       "<style scoped>\n",
       "    .dataframe tbody tr th:only-of-type {\n",
       "        vertical-align: middle;\n",
       "    }\n",
       "\n",
       "    .dataframe tbody tr th {\n",
       "        vertical-align: top;\n",
       "    }\n",
       "\n",
       "    .dataframe thead th {\n",
       "        text-align: right;\n",
       "    }\n",
       "</style>\n",
       "<table border=\"1\" class=\"dataframe\">\n",
       "  <thead>\n",
       "    <tr style=\"text-align: right;\">\n",
       "      <th></th>\n",
       "      <th>body</th>\n",
       "      <th>username</th>\n",
       "    </tr>\n",
       "  </thead>\n",
       "  <tbody>\n",
       "    <tr>\n",
       "      <th>0</th>\n",
       "      <td>Folks may be our last posts. Pogilosi just ask...</td>\n",
       "      <td>Terryb158</td>\n",
       "    </tr>\n",
       "    <tr>\n",
       "      <th>1</th>\n",
       "      <td>Oh notre they want to investigate something. L...</td>\n",
       "      <td>AlanBond7</td>\n",
       "    </tr>\n",
       "    <tr>\n",
       "      <th>2</th>\n",
       "      <td>White trash pieces of shit who are going to be...</td>\n",
       "      <td>Tifdog11</td>\n",
       "    </tr>\n",
       "    <tr>\n",
       "      <th>3</th>\n",
       "      <td>He has never lived in a totalitarian country; ...</td>\n",
       "      <td>AlexaImmigrant</td>\n",
       "    </tr>\n",
       "    <tr>\n",
       "      <th>4</th>\n",
       "      <td>White trash pieces of shit who are going to be...</td>\n",
       "      <td>Tifdog11</td>\n",
       "    </tr>\n",
       "    <tr>\n",
       "      <th>...</th>\n",
       "      <td>...</td>\n",
       "      <td>...</td>\n",
       "    </tr>\n",
       "    <tr>\n",
       "      <th>86</th>\n",
       "      <td>GRAHAM\\nHe begged us for money on Hannity and ...</td>\n",
       "      <td>Millsfarms</td>\n",
       "    </tr>\n",
       "    <tr>\n",
       "      <th>87</th>\n",
       "      <td>Neither is election fraud.</td>\n",
       "      <td>xfitnesscoach</td>\n",
       "    </tr>\n",
       "    <tr>\n",
       "      <th>88</th>\n",
       "      <td>Investigation of fraudulent voting practices, ...</td>\n",
       "      <td>Bobbfishen</td>\n",
       "    </tr>\n",
       "    <tr>\n",
       "      <th>89</th>\n",
       "      <td>Why did Nunes recuse himself on the election f...</td>\n",
       "      <td>BarryOKenyan</td>\n",
       "    </tr>\n",
       "    <tr>\n",
       "      <th>90</th>\n",
       "      <td>White trash pieces of shit who are going to be...</td>\n",
       "      <td>Tifdog11</td>\n",
       "    </tr>\n",
       "  </tbody>\n",
       "</table>\n",
       "<p>91 rows × 2 columns</p>\n",
       "</div>"
      ],
      "text/plain": [
       "                                                 body        username\n",
       "0   Folks may be our last posts. Pogilosi just ask...       Terryb158\n",
       "1   Oh notre they want to investigate something. L...       AlanBond7\n",
       "2   White trash pieces of shit who are going to be...        Tifdog11\n",
       "3   He has never lived in a totalitarian country; ...  AlexaImmigrant\n",
       "4   White trash pieces of shit who are going to be...        Tifdog11\n",
       "..                                                ...             ...\n",
       "86  GRAHAM\\nHe begged us for money on Hannity and ...      Millsfarms\n",
       "87                         Neither is election fraud.   xfitnesscoach\n",
       "88  Investigation of fraudulent voting practices, ...      Bobbfishen\n",
       "89  Why did Nunes recuse himself on the election f...    BarryOKenyan\n",
       "90  White trash pieces of shit who are going to be...        Tifdog11\n",
       "\n",
       "[91 rows x 2 columns]"
      ]
     },
     "execution_count": 5,
     "metadata": {},
     "output_type": "execute_result"
    }
   ],
   "source": [
    "content"
   ]
  },
  {
   "cell_type": "markdown",
   "metadata": {},
   "source": [
    ">* The first sentiment analysis package in Python is VADER (Valence Aware Dictionary and sEntiment Reasoner). VADER is a lexicon and rule-based sentiment analysis tool that is specifically attuned to sentiments expressed in social media. "
   ]
  },
  {
   "cell_type": "code",
   "execution_count": 6,
   "metadata": {},
   "outputs": [],
   "source": [
    "from nltk.sentiment.vader import SentimentIntensityAnalyzer as sia"
   ]
  },
  {
   "cell_type": "code",
   "execution_count": 7,
   "metadata": {},
   "outputs": [
    {
     "data": {
      "text/plain": [
       "'Folks may be our last posts. Pogilosi just asked for a Military Coup. She shoukd be fired and jailed for this. Never forget. The Govt is to blame for the DC breach. We all saw the videos and we all know the truth. Trump did not incite violence he was supportinh our rights. Thos that committed the election fraud and the breach are the murderers. The Govt failed for 4 years to hear our voice. They also failed to have 1 court hear the mass evidence on fraud. Italy did it, we all know the truth. You cant hide your lies. They have been exposed. \\n\\nIF YOU IMPEACH TRUMP YOU ARE INCITING VIOLENCE AND JUSTUCE WILL PREVAIL. THE TRUTH CAN ONLY BE HIDDEN FOR SO LONG.'"
      ]
     },
     "execution_count": 7,
     "metadata": {},
     "output_type": "execute_result"
    }
   ],
   "source": [
    "content.iloc[0]['body']"
   ]
  },
  {
   "cell_type": "code",
   "execution_count": 8,
   "metadata": {},
   "outputs": [
    {
     "data": {
      "text/plain": [
       "{'neg': 0.215, 'neu': 0.667, 'pos': 0.118, 'compound': -0.9601}"
      ]
     },
     "execution_count": 8,
     "metadata": {},
     "output_type": "execute_result"
    }
   ],
   "source": [
    "sia().polarity_scores(content.iloc[0]['body'])"
   ]
  },
  {
   "cell_type": "markdown",
   "metadata": {},
   "source": [
    ">* What is inside the `neg`, `neu`, `pos`, and `compound` are the sentiment scores. The `compound` score is computed by summing the valence scores of each word in the lexicon, adjusted according to the rules, and then normalized to be between -1 (most extreme negative) and +1 (most extreme positive). This is the most useful metric if you want a single unidimensional measure of sentiment for a given sentence. Calling it a 'normalized, weighted composite score' is accurate.\n",
    ">* For more information, you can check the [VADER github repository](https://github.com/cjhutto/vaderSentiment)"
   ]
  },
  {
   "cell_type": "markdown",
   "metadata": {},
   "source": [
    ">* Often times you will have a dataset of spreadsheets. In this case, you want to iterate over the rows of the spreadsheet and apply the sentiment analysis to each row."
   ]
  },
  {
   "cell_type": "code",
   "execution_count": 9,
   "metadata": {},
   "outputs": [],
   "source": [
    "vader_neg=[] #Inside of this list, there will be a list of negative scores corresponding\n",
    "vader_neu=[] #to each row in the content. So it is a nested list.\n",
    "vader_pos=[]\n",
    "vader_compound=[]\n",
    "for idx, val in content.iterrows():\n",
    "    scores=sia().polarity_scores(val['body'])\n",
    "    vader_neg.append(scores['neg'])\n",
    "    vader_neu.append(scores['neu'])\n",
    "    vader_pos.append(scores['pos'])\n",
    "    vader_compound.append(scores['compound'])"
   ]
  },
  {
   "cell_type": "code",
   "execution_count": 10,
   "metadata": {},
   "outputs": [
    {
     "name": "stderr",
     "output_type": "stream",
     "text": [
      "/var/folders/3_/r8z51q092v566bd_r0g_zj640000gn/T/ipykernel_2770/1985569870.py:1: SettingWithCopyWarning: \n",
      "A value is trying to be set on a copy of a slice from a DataFrame.\n",
      "Try using .loc[row_indexer,col_indexer] = value instead\n",
      "\n",
      "See the caveats in the documentation: https://pandas.pydata.org/pandas-docs/stable/user_guide/indexing.html#returning-a-view-versus-a-copy\n",
      "  content['vader_neg']=vader_neg\n",
      "/var/folders/3_/r8z51q092v566bd_r0g_zj640000gn/T/ipykernel_2770/1985569870.py:2: SettingWithCopyWarning: \n",
      "A value is trying to be set on a copy of a slice from a DataFrame.\n",
      "Try using .loc[row_indexer,col_indexer] = value instead\n",
      "\n",
      "See the caveats in the documentation: https://pandas.pydata.org/pandas-docs/stable/user_guide/indexing.html#returning-a-view-versus-a-copy\n",
      "  content['vader_neu']=vader_neu\n",
      "/var/folders/3_/r8z51q092v566bd_r0g_zj640000gn/T/ipykernel_2770/1985569870.py:3: SettingWithCopyWarning: \n",
      "A value is trying to be set on a copy of a slice from a DataFrame.\n",
      "Try using .loc[row_indexer,col_indexer] = value instead\n",
      "\n",
      "See the caveats in the documentation: https://pandas.pydata.org/pandas-docs/stable/user_guide/indexing.html#returning-a-view-versus-a-copy\n",
      "  content['vader_pos']=vader_pos\n",
      "/var/folders/3_/r8z51q092v566bd_r0g_zj640000gn/T/ipykernel_2770/1985569870.py:4: SettingWithCopyWarning: \n",
      "A value is trying to be set on a copy of a slice from a DataFrame.\n",
      "Try using .loc[row_indexer,col_indexer] = value instead\n",
      "\n",
      "See the caveats in the documentation: https://pandas.pydata.org/pandas-docs/stable/user_guide/indexing.html#returning-a-view-versus-a-copy\n",
      "  content['vader_compound']=vader_compound\n"
     ]
    }
   ],
   "source": [
    "content['vader_neg']=vader_neg\n",
    "content['vader_neu']=vader_neu\n",
    "content['vader_pos']=vader_pos\n",
    "content['vader_compound']=vader_compound"
   ]
  },
  {
   "cell_type": "code",
   "execution_count": 11,
   "metadata": {},
   "outputs": [
    {
     "data": {
      "text/html": [
       "<div>\n",
       "<style scoped>\n",
       "    .dataframe tbody tr th:only-of-type {\n",
       "        vertical-align: middle;\n",
       "    }\n",
       "\n",
       "    .dataframe tbody tr th {\n",
       "        vertical-align: top;\n",
       "    }\n",
       "\n",
       "    .dataframe thead th {\n",
       "        text-align: right;\n",
       "    }\n",
       "</style>\n",
       "<table border=\"1\" class=\"dataframe\">\n",
       "  <thead>\n",
       "    <tr style=\"text-align: right;\">\n",
       "      <th></th>\n",
       "      <th>body</th>\n",
       "      <th>username</th>\n",
       "      <th>vader_neg</th>\n",
       "      <th>vader_neu</th>\n",
       "      <th>vader_pos</th>\n",
       "      <th>vader_compound</th>\n",
       "    </tr>\n",
       "  </thead>\n",
       "  <tbody>\n",
       "    <tr>\n",
       "      <th>0</th>\n",
       "      <td>Folks may be our last posts. Pogilosi just ask...</td>\n",
       "      <td>Terryb158</td>\n",
       "      <td>0.215</td>\n",
       "      <td>0.667</td>\n",
       "      <td>0.118</td>\n",
       "      <td>-0.9601</td>\n",
       "    </tr>\n",
       "    <tr>\n",
       "      <th>1</th>\n",
       "      <td>Oh notre they want to investigate something. L...</td>\n",
       "      <td>AlanBond7</td>\n",
       "      <td>0.301</td>\n",
       "      <td>0.554</td>\n",
       "      <td>0.145</td>\n",
       "      <td>-0.7096</td>\n",
       "    </tr>\n",
       "    <tr>\n",
       "      <th>2</th>\n",
       "      <td>White trash pieces of shit who are going to be...</td>\n",
       "      <td>Tifdog11</td>\n",
       "      <td>0.312</td>\n",
       "      <td>0.510</td>\n",
       "      <td>0.178</td>\n",
       "      <td>-0.9689</td>\n",
       "    </tr>\n",
       "    <tr>\n",
       "      <th>3</th>\n",
       "      <td>He has never lived in a totalitarian country; ...</td>\n",
       "      <td>AlexaImmigrant</td>\n",
       "      <td>0.116</td>\n",
       "      <td>0.828</td>\n",
       "      <td>0.055</td>\n",
       "      <td>-0.7540</td>\n",
       "    </tr>\n",
       "    <tr>\n",
       "      <th>4</th>\n",
       "      <td>White trash pieces of shit who are going to be...</td>\n",
       "      <td>Tifdog11</td>\n",
       "      <td>0.312</td>\n",
       "      <td>0.510</td>\n",
       "      <td>0.178</td>\n",
       "      <td>-0.9689</td>\n",
       "    </tr>\n",
       "  </tbody>\n",
       "</table>\n",
       "</div>"
      ],
      "text/plain": [
       "                                                body        username  \\\n",
       "0  Folks may be our last posts. Pogilosi just ask...       Terryb158   \n",
       "1  Oh notre they want to investigate something. L...       AlanBond7   \n",
       "2  White trash pieces of shit who are going to be...        Tifdog11   \n",
       "3  He has never lived in a totalitarian country; ...  AlexaImmigrant   \n",
       "4  White trash pieces of shit who are going to be...        Tifdog11   \n",
       "\n",
       "   vader_neg  vader_neu  vader_pos  vader_compound  \n",
       "0      0.215      0.667      0.118         -0.9601  \n",
       "1      0.301      0.554      0.145         -0.7096  \n",
       "2      0.312      0.510      0.178         -0.9689  \n",
       "3      0.116      0.828      0.055         -0.7540  \n",
       "4      0.312      0.510      0.178         -0.9689  "
      ]
     },
     "execution_count": 11,
     "metadata": {},
     "output_type": "execute_result"
    }
   ],
   "source": [
    "content.head(5)\n",
    "#The compound score ranges from -1 to 1. -1 is most negative, 1 is most positive."
   ]
  },
  {
   "cell_type": "markdown",
   "metadata": {},
   "source": [
    ">* To get a broader sense of the distribution of `compound` scores, let's plot scatter plot of the `compound` scores."
   ]
  },
  {
   "cell_type": "code",
   "execution_count": 12,
   "metadata": {},
   "outputs": [
    {
     "data": {
      "image/png": "[encoded data removed]",
      "text/plain": [
       "<Figure size 640x480 with 1 Axes>"
      ]
     },
     "metadata": {},
     "output_type": "display_data"
    }
   ],
   "source": [
    "import matplotlib.pyplot as plt\n",
    "plt.scatter(content.index, content['vader_compound'], \n",
    "            c=['red' if score < 0 else 'blue' for score in content['vader_compound']])\n",
    "plt.xlabel('Index')\n",
    "plt.axhline(y=0, color='black', linestyle='--')\n",
    "plt.ylabel('Compound Score')\n",
    "plt.title('Compound Scores')\n",
    "plt.show()"
   ]
  },
  {
   "cell_type": "markdown",
   "metadata": {},
   "source": [
    ">* We can see the most of contents are negative as we can see more red dots below 0 in the scatter plot."
   ]
  },
  {
   "cell_type": "markdown",
   "metadata": {},
   "source": [
    ">* Let's sort the dataframe by the `compound` score and see the most positive and most negative comments."
   ]
  },
  {
   "cell_type": "code",
   "execution_count": 13,
   "metadata": {},
   "outputs": [
    {
     "data": {
      "text/html": [
       "<div>\n",
       "<style scoped>\n",
       "    .dataframe tbody tr th:only-of-type {\n",
       "        vertical-align: middle;\n",
       "    }\n",
       "\n",
       "    .dataframe tbody tr th {\n",
       "        vertical-align: top;\n",
       "    }\n",
       "\n",
       "    .dataframe thead th {\n",
       "        text-align: right;\n",
       "    }\n",
       "</style>\n",
       "<table border=\"1\" class=\"dataframe\">\n",
       "  <thead>\n",
       "    <tr style=\"text-align: right;\">\n",
       "      <th></th>\n",
       "      <th>body</th>\n",
       "      <th>username</th>\n",
       "      <th>vader_compound</th>\n",
       "    </tr>\n",
       "  </thead>\n",
       "  <tbody>\n",
       "    <tr>\n",
       "      <th>54</th>\n",
       "      <td>@sidneypowell @erictrump\\n@laraleatrump @linwo...</td>\n",
       "      <td>Lovewell100</td>\n",
       "      <td>0.9789</td>\n",
       "    </tr>\n",
       "    <tr>\n",
       "      <th>56</th>\n",
       "      <td>If they were not afraid of Trump, they would j...</td>\n",
       "      <td>Lorilynn2</td>\n",
       "      <td>0.9223</td>\n",
       "    </tr>\n",
       "    <tr>\n",
       "      <th>35</th>\n",
       "      <td>@sidneypowell @erictrump\\n@laraleatrump @linwo...</td>\n",
       "      <td>Lovewell100</td>\n",
       "      <td>0.7711</td>\n",
       "    </tr>\n",
       "  </tbody>\n",
       "</table>\n",
       "</div>"
      ],
      "text/plain": [
       "                                                 body     username  \\\n",
       "54  @sidneypowell @erictrump\\n@laraleatrump @linwo...  Lovewell100   \n",
       "56  If they were not afraid of Trump, they would j...    Lorilynn2   \n",
       "35  @sidneypowell @erictrump\\n@laraleatrump @linwo...  Lovewell100   \n",
       "\n",
       "    vader_compound  \n",
       "54          0.9789  \n",
       "56          0.9223  \n",
       "35          0.7711  "
      ]
     },
     "execution_count": 13,
     "metadata": {},
     "output_type": "execute_result"
    }
   ],
   "source": [
    "content[['body', 'username', 'vader_compound']].sort_values(by='vader_compound',ascending=False)[0:3]\n",
    "#The most positive posts"
   ]
  },
  {
   "cell_type": "code",
   "execution_count": 14,
   "metadata": {},
   "outputs": [
    {
     "name": "stdout",
     "output_type": "stream",
     "text": [
      "('@sidneypowell @erictrump\\n'\n",
      " '@laraleatrump @linwood\\n'\n",
      " '@devinnunes @drjeromecorsi\\n'\n",
      " '@rogerstone @alexjones @ivankatrump\\n'\n",
      " '\\n'\n",
      " 'IMPORTANT MUST READ!\\n'\n",
      " '\\n'\n",
      " 'ACCORDING TO FEDERAL LAW AND OUR U.S. CONSTITUTION â€“\\n'\n",
      " 'TRUMP IS THE CLEAR WINNER DUE TO CLEAR ELECTION FRAUD\\n'\n",
      " '\\n'\n",
      " '\"STAND WITH PRESIDENT TRUMP ALL THE WAY\"\\n'\n",
      " '\\n'\n",
      " 'by Dr. Laurie Roth, Â©2021\\n'\n",
      " '\\n'\n",
      " '\"(Jan. 7, 2021) â€” The law and Supreme Court precedents are blatantly '\n",
      " 'direct about a Presidential election with fraud in it. â€œState of the '\n",
      " 'Nationâ€\\x9d made a strong and clear case for Trump simply winning by '\n",
      " 'default. Read it, continue praying and believe the truth. Stand with Trump! '\n",
      " 'Donâ€™t run into the deep-state swamp with Mike Pence, Mitch McConnell and '\n",
      " 'other traitors.\\n'\n",
      " '\\n'\n",
      " 'Our Congress certified the election illegally and unconstitutionally. There '\n",
      " 'is nothing ambiguous about what the federal law, Supreme Court and '\n",
      " 'Constitution says.\"\\n'\n",
      " '\\n'\n",
      " 'MUST READ!\\n'\n",
      " '\\n'\n",
      " 'w w w dot thepostemail dot '\n",
      " 'com/2021/01/07/according-to-federal-law-and-our-constitution-trump-is-the-clear-winner-due-to-clear-election-fraud/')\n"
     ]
    }
   ],
   "source": [
    "from pprint import pprint\n",
    "pprint(content['body'].iloc[54]) #0.9789"
   ]
  },
  {
   "cell_type": "code",
   "execution_count": 15,
   "metadata": {},
   "outputs": [
    {
     "name": "stdout",
     "output_type": "stream",
     "text": [
      "('If they were not afraid of Trump, they would just be sitting back waiting, '\n",
      " 'laughing and gloating over their achievements of winning an election so '\n",
      " 'clearly rigged in their favor. They are like wolves on a chase. Worried '\n",
      " 'their secrets will be exposed at ant moment, and I am PRAYING they will be.')\n"
     ]
    }
   ],
   "source": [
    "pprint(content['body'].iloc[56]) #0.9223"
   ]
  },
  {
   "cell_type": "code",
   "execution_count": 16,
   "metadata": {},
   "outputs": [
    {
     "name": "stdout",
     "output_type": "stream",
     "text": [
      "('@sidneypowell @erictrump\\n'\n",
      " '@laraleatrump @linwood\\n'\n",
      " '@drjeromecorsi @seanhannity @ivankatrump @rogerstone @alexjones\\n'\n",
      " '\\n'\n",
      " 'OUTSTANDING MUST READ!\\n'\n",
      " '\\n'\n",
      " 'ACCORDING TO FEDERAL LAW AND OUR U.S. CONSTITUTION â€“\\n'\n",
      " 'TRUMP IS THE CLEAR WINNER DUE TO CLEAR ELECTION FRAUD\\n'\n",
      " '\\n'\n",
      " '\"STAND WITH PRESIDENT TRUMP ALL THE WAY\"\\n'\n",
      " '\\n'\n",
      " 'by Dr. Laurie Roth, Â©2021\\n'\n",
      " '\\n'\n",
      " 'Con\\'t: \"(Jan. 7, 2021) â€” What we also have seen with all the election '\n",
      " 'fraud-proof is many judges, most politicians and all of the mainstream '\n",
      " 'media, Fox News and even Newsmax on occasion, havenâ€™t stood with President '\n",
      " 'Trump & the Constitution. How many times from Fox and Newsmax hosts did we '\n",
      " 'hear â€œno proofâ€\\x9d or â€œlack of proofâ€\\x9d while calling on the '\n",
      " 'cowardly essence of Mitch McConnell and Mitt Romney? We arenâ€™t as stupid '\n",
      " 'as they think we are. The proof is vividly out there and documented. It is '\n",
      " 'just vividly ignored.\"\\n'\n",
      " '\\n'\n",
      " 'Continue Reading:\\n'\n",
      " 'w w w dot thepostemail dot '\n",
      " 'com/2021/01/07/according-to-federal-law-and-our-constitution-trump-is-the-clear-winner-due-to-clear-election-fraud/')\n"
     ]
    }
   ],
   "source": [
    "pprint(content['body'].iloc[35]) #0.7711"
   ]
  },
  {
   "cell_type": "code",
   "execution_count": 17,
   "metadata": {},
   "outputs": [
    {
     "data": {
      "text/plain": [
       "False"
      ]
     },
     "execution_count": 17,
     "metadata": {},
     "output_type": "execute_result"
    }
   ],
   "source": [
    "content['body'].iloc[54]==content['body'].iloc[35]\n",
    "#54 and 35 share the same part of the text but resulted in different compound scores."
   ]
  },
  {
   "cell_type": "code",
   "execution_count": 18,
   "metadata": {},
   "outputs": [
    {
     "data": {
      "text/html": [
       "<div>\n",
       "<style scoped>\n",
       "    .dataframe tbody tr th:only-of-type {\n",
       "        vertical-align: middle;\n",
       "    }\n",
       "\n",
       "    .dataframe tbody tr th {\n",
       "        vertical-align: top;\n",
       "    }\n",
       "\n",
       "    .dataframe thead th {\n",
       "        text-align: right;\n",
       "    }\n",
       "</style>\n",
       "<table border=\"1\" class=\"dataframe\">\n",
       "  <thead>\n",
       "    <tr style=\"text-align: right;\">\n",
       "      <th></th>\n",
       "      <th>body</th>\n",
       "      <th>username</th>\n",
       "      <th>vader_neg</th>\n",
       "      <th>vader_neu</th>\n",
       "      <th>vader_pos</th>\n",
       "      <th>vader_compound</th>\n",
       "    </tr>\n",
       "  </thead>\n",
       "  <tbody>\n",
       "    <tr>\n",
       "      <th>16</th>\n",
       "      <td>Those sleazbags dems are trying to pull off a ...</td>\n",
       "      <td>Dbgroup00</td>\n",
       "      <td>0.377</td>\n",
       "      <td>0.599</td>\n",
       "      <td>0.025</td>\n",
       "      <td>-0.9890</td>\n",
       "    </tr>\n",
       "    <tr>\n",
       "      <th>31</th>\n",
       "      <td>tick tock MAGA bigots, white supremacists, dom...</td>\n",
       "      <td>ArtDogg</td>\n",
       "      <td>0.250</td>\n",
       "      <td>0.686</td>\n",
       "      <td>0.064</td>\n",
       "      <td>-0.9829</td>\n",
       "    </tr>\n",
       "    <tr>\n",
       "      <th>47</th>\n",
       "      <td>Couldn't even watch all of this. WTF? Well, le...</td>\n",
       "      <td>Jillwilsey62</td>\n",
       "      <td>0.289</td>\n",
       "      <td>0.644</td>\n",
       "      <td>0.067</td>\n",
       "      <td>-0.9810</td>\n",
       "    </tr>\n",
       "  </tbody>\n",
       "</table>\n",
       "</div>"
      ],
      "text/plain": [
       "                                                 body      username  \\\n",
       "16  Those sleazbags dems are trying to pull off a ...     Dbgroup00   \n",
       "31  tick tock MAGA bigots, white supremacists, dom...       ArtDogg   \n",
       "47  Couldn't even watch all of this. WTF? Well, le...  Jillwilsey62   \n",
       "\n",
       "    vader_neg  vader_neu  vader_pos  vader_compound  \n",
       "16      0.377      0.599      0.025         -0.9890  \n",
       "31      0.250      0.686      0.064         -0.9829  \n",
       "47      0.289      0.644      0.067         -0.9810  "
      ]
     },
     "execution_count": 18,
     "metadata": {},
     "output_type": "execute_result"
    }
   ],
   "source": [
    "content.sort_values(by='vader_compound',ascending=True)[0:3]\n",
    "#The most negative posts"
   ]
  },
  {
   "cell_type": "code",
   "execution_count": 19,
   "metadata": {},
   "outputs": [
    {
     "name": "stdout",
     "output_type": "stream",
     "text": [
      "('Those sleazbags dems are trying to pull off a coup amd are still scared '\n",
      " 'President Trump may pull exec order \\n'\n",
      " 'to stop this attack on our democracy \\n'\n",
      " 'How disappointing and embarrassing - THE WHOLE WORLD WATCHED THIS EVIL '\n",
      " 'RIGGED ELECTION COUP GO DOWN RIGHT IN FRONT OF OUR EYES AND OUR \\n'\n",
      " 'AND OUR CORRUPT AMD COWARDLY GOVT FBI DOJ AND ALL DEVIEVED AND BETRAYED '\n",
      " 'US. \\n'\n",
      " 'WEâ€™re all praying Pres Trump can stop this evil coup')\n"
     ]
    }
   ],
   "source": [
    "pprint(content['body'].iloc[16]) #-0.9890"
   ]
  },
  {
   "cell_type": "code",
   "execution_count": 20,
   "metadata": {},
   "outputs": [
    {
     "name": "stdout",
     "output_type": "stream",
     "text": [
      "('tick tock MAGA bigots, white supremacists, domestic terrorist insurgents and '\n",
      " 'anti-amercan seditionist trump monkeys ... \\n'\n",
      " '\\n'\n",
      " 'tick tick tick ....\\n'\n",
      " '\\n'\n",
      " 'Parler: Everything you need to know \\n'\n",
      " 'about the banned conservative social media platform\\n'\n",
      " '\\n'\n",
      " 'Parler is rife with misinformation, including a stream of baseless '\n",
      " 'allegations of voter fraud. The platform has become a hub of Trump-backed '\n",
      " 'conspiracy theories casting doubt on the election of President-elect Biden.\\n'\n",
      " 'Accounts with swastikas as their profile pictures and disgusting racist '\n",
      " 'posts are not hard to come by on Parler. Members of the Proud Boys, '\n",
      " 'adherents of conspiracy theory QAnon, anti-government extremists and white '\n",
      " 'supremacists all openly promote their views on Parler, according to an ADL '\n",
      " 'report.\\n'\n",
      " '\"Holocaust denial, antisemitism, racism and other forms of bigotry are also '\n",
      " 'easy to find,\"')\n"
     ]
    }
   ],
   "source": [
    "pprint(content['body'].iloc[31]) #-0.9829"
   ]
  },
  {
   "cell_type": "code",
   "execution_count": 21,
   "metadata": {},
   "outputs": [
    {
     "name": "stdout",
     "output_type": "stream",
     "text": [
      "(\"Couldn't even watch all of this. WTF? Well, let's see ... his past is not \"\n",
      " \"all that great, if I recall ... Proud Boys like nazi's? What the hell is he \"\n",
      " 'even talking about? Our democracy being shattered? That came from the '\n",
      " 'outright blatant election fraud. I would think since he came here from '\n",
      " 'another country, he, of all people, would be outraged at the blatant '\n",
      " 'election fraud that just occurred. Traitor. Strip his U.S. status and send '\n",
      " 'his sorry ass back to where he came from. Traitor.')\n"
     ]
    }
   ],
   "source": [
    "pprint(content['body'].iloc[47]) #-0.9810"
   ]
  },
  {
   "cell_type": "markdown",
   "metadata": {},
   "source": [
    ">* The next package we will cover is TextBlob. TextBlob is a Python library for processing textual data. One of features that TextBlob has is a built-in sentiment analyzer. The sentiment analyzer in TextBlob returns two properties: polarity and subjectivity. Polarity is a float value within the range [-1.0, 1.0] where -1.0 is very negative and 1.0 is very positive. Subjectivity is a float value within the range [0.0, 1.0] where 0.0 is very objective and 1.0 is very subjective."
   ]
  },
  {
   "cell_type": "code",
   "execution_count": 22,
   "metadata": {},
   "outputs": [],
   "source": [
    "from textblob import TextBlob\n",
    "from textblob.sentiments import NaiveBayesAnalyzer\n",
    "#conda install -c conda-forge textblob"
   ]
  },
  {
   "cell_type": "markdown",
   "metadata": {},
   "source": [
    ">* TextBlob sentiment analysis can be customized by using different classifiers. For instance, even though the default classifier is PatternAnalyzer, you can use NaiveBayesAnalyzer instead."
   ]
  },
  {
   "cell_type": "code",
   "execution_count": 23,
   "metadata": {},
   "outputs": [
    {
     "data": {
      "text/plain": [
       "Sentiment(polarity=-0.18809523809523812, subjectivity=0.35714285714285715)"
      ]
     },
     "execution_count": 23,
     "metadata": {},
     "output_type": "execute_result"
    }
   ],
   "source": [
    "TextBlob(content['body'].iloc[0]).sentiment\n",
    "#using a default PatternAnalyzer"
   ]
  },
  {
   "cell_type": "code",
   "execution_count": 24,
   "metadata": {},
   "outputs": [
    {
     "data": {
      "text/plain": [
       "-0.18809523809523812"
      ]
     },
     "execution_count": 24,
     "metadata": {},
     "output_type": "execute_result"
    }
   ],
   "source": [
    "TextBlob(content['body'].iloc[0]).sentiment.polarity\n",
    "#ranges -1 to 1. -1 is most negative, 1 is most positive."
   ]
  },
  {
   "cell_type": "code",
   "execution_count": 25,
   "metadata": {},
   "outputs": [
    {
     "data": {
      "text/plain": [
       "0.35714285714285715"
      ]
     },
     "execution_count": 25,
     "metadata": {},
     "output_type": "execute_result"
    }
   ],
   "source": [
    "TextBlob(content['body'].iloc[0]).sentiment.subjectivity\n",
    "#ranges 0 to 1. 0 is most objective, 1 is most subjective."
   ]
  },
  {
   "cell_type": "code",
   "execution_count": 26,
   "metadata": {},
   "outputs": [
    {
     "data": {
      "text/plain": [
       "Sentiment(classification='neg', p_pos=0.39306661520895214, p_neg=0.6069333847910466)"
      ]
     },
     "execution_count": 26,
     "metadata": {},
     "output_type": "execute_result"
    }
   ],
   "source": [
    "TextBlob(content['body'].iloc[0], analyzer=NaiveBayesAnalyzer()).sentiment\n",
    "#using a NaiveBayesAnalyzer"
   ]
  },
  {
   "cell_type": "code",
   "execution_count": 27,
   "metadata": {},
   "outputs": [
    {
     "data": {
      "text/plain": [
       "'neg'"
      ]
     },
     "execution_count": 27,
     "metadata": {},
     "output_type": "execute_result"
    }
   ],
   "source": [
    "TextBlob(content['body'].iloc[0], analyzer=NaiveBayesAnalyzer()).sentiment.classification"
   ]
  },
  {
   "cell_type": "code",
   "execution_count": 28,
   "metadata": {},
   "outputs": [
    {
     "data": {
      "text/plain": [
       "0.39306661520895214"
      ]
     },
     "execution_count": 28,
     "metadata": {},
     "output_type": "execute_result"
    }
   ],
   "source": [
    "TextBlob(content['body'].iloc[0], analyzer=NaiveBayesAnalyzer()).sentiment.p_pos"
   ]
  },
  {
   "cell_type": "code",
   "execution_count": 29,
   "metadata": {},
   "outputs": [
    {
     "data": {
      "text/plain": [
       "0.6069333847910466"
      ]
     },
     "execution_count": 29,
     "metadata": {},
     "output_type": "execute_result"
    }
   ],
   "source": [
    "TextBlob(content['body'].iloc[0], analyzer=NaiveBayesAnalyzer()).sentiment.p_neg"
   ]
  },
  {
   "cell_type": "markdown",
   "metadata": {},
   "source": [
    ">* Given that most data is stored in spreadsheets, we will iterate over the rows of the spreadsheet and apply the sentiment analysis to each row."
   ]
  },
  {
   "cell_type": "code",
   "execution_count": 30,
   "metadata": {},
   "outputs": [],
   "source": [
    "sentiment=[]\n",
    "subjectivity=[]\n",
    "for idx, val in content.iterrows():\n",
    "    sentiment.append(TextBlob(val['body']).sentiment.polarity)\n",
    "    subjectivity.append(TextBlob(val['body']).sentiment.subjectivity)"
   ]
  },
  {
   "cell_type": "code",
   "execution_count": 31,
   "metadata": {},
   "outputs": [
    {
     "name": "stderr",
     "output_type": "stream",
     "text": [
      "/var/folders/3_/r8z51q092v566bd_r0g_zj640000gn/T/ipykernel_2770/3094424689.py:1: SettingWithCopyWarning: \n",
      "A value is trying to be set on a copy of a slice from a DataFrame.\n",
      "Try using .loc[row_indexer,col_indexer] = value instead\n",
      "\n",
      "See the caveats in the documentation: https://pandas.pydata.org/pandas-docs/stable/user_guide/indexing.html#returning-a-view-versus-a-copy\n",
      "  content['textblob_sentiment']=sentiment\n",
      "/var/folders/3_/r8z51q092v566bd_r0g_zj640000gn/T/ipykernel_2770/3094424689.py:2: SettingWithCopyWarning: \n",
      "A value is trying to be set on a copy of a slice from a DataFrame.\n",
      "Try using .loc[row_indexer,col_indexer] = value instead\n",
      "\n",
      "See the caveats in the documentation: https://pandas.pydata.org/pandas-docs/stable/user_guide/indexing.html#returning-a-view-versus-a-copy\n",
      "  content['textblob_subjectivity']=subjectivity\n"
     ]
    }
   ],
   "source": [
    "content['textblob_sentiment']=sentiment\n",
    "content['textblob_subjectivity']=subjectivity"
   ]
  },
  {
   "cell_type": "code",
   "execution_count": 32,
   "metadata": {},
   "outputs": [],
   "source": [
    "textblob_class=[]\n",
    "textblob_pos=[]\n",
    "textblob_neg=[]\n",
    "for idx, val in content.iterrows():\n",
    "    textblob_class.append(TextBlob(val['body'], analyzer=NaiveBayesAnalyzer()).sentiment.classification)\n",
    "    textblob_pos.append(TextBlob(val['body'], analyzer=NaiveBayesAnalyzer()).sentiment.p_pos)\n",
    "    textblob_neg.append(TextBlob(val['body'], analyzer=NaiveBayesAnalyzer()).sentiment.p_neg)"
   ]
  },
  {
   "cell_type": "code",
   "execution_count": 33,
   "metadata": {},
   "outputs": [
    {
     "name": "stderr",
     "output_type": "stream",
     "text": [
      "/var/folders/3_/r8z51q092v566bd_r0g_zj640000gn/T/ipykernel_2770/2736474915.py:1: SettingWithCopyWarning: \n",
      "A value is trying to be set on a copy of a slice from a DataFrame.\n",
      "Try using .loc[row_indexer,col_indexer] = value instead\n",
      "\n",
      "See the caveats in the documentation: https://pandas.pydata.org/pandas-docs/stable/user_guide/indexing.html#returning-a-view-versus-a-copy\n",
      "  content['textblob_class']=textblob_class\n",
      "/var/folders/3_/r8z51q092v566bd_r0g_zj640000gn/T/ipykernel_2770/2736474915.py:2: SettingWithCopyWarning: \n",
      "A value is trying to be set on a copy of a slice from a DataFrame.\n",
      "Try using .loc[row_indexer,col_indexer] = value instead\n",
      "\n",
      "See the caveats in the documentation: https://pandas.pydata.org/pandas-docs/stable/user_guide/indexing.html#returning-a-view-versus-a-copy\n",
      "  content['textblob_pos']=textblob_pos\n",
      "/var/folders/3_/r8z51q092v566bd_r0g_zj640000gn/T/ipykernel_2770/2736474915.py:3: SettingWithCopyWarning: \n",
      "A value is trying to be set on a copy of a slice from a DataFrame.\n",
      "Try using .loc[row_indexer,col_indexer] = value instead\n",
      "\n",
      "See the caveats in the documentation: https://pandas.pydata.org/pandas-docs/stable/user_guide/indexing.html#returning-a-view-versus-a-copy\n",
      "  content['textblob_neg']=textblob_neg\n"
     ]
    }
   ],
   "source": [
    "content['textblob_class']=textblob_class\n",
    "content['textblob_pos']=textblob_pos\n",
    "content['textblob_neg']=textblob_neg"
   ]
  },
  {
   "cell_type": "code",
   "execution_count": 34,
   "metadata": {},
   "outputs": [
    {
     "data": {
      "image/png": "[encoded data removed]",
      "text/plain": [
       "<Figure size 640x480 with 1 Axes>"
      ]
     },
     "metadata": {},
     "output_type": "display_data"
    }
   ],
   "source": [
    "#visualizing the sentiment scores with PatternAnalyzer\n",
    "plt.scatter(content.index, content['textblob_sentiment'],\n",
    "            c=['red' if score < 0 else 'blue' for score in content['textblob_sentiment']])\n",
    "plt.xlabel('Index')\n",
    "plt.axhline(y=0, color='black', linestyle='--')\n",
    "plt.ylabel('TextBlob Sentiment Score')\n",
    "plt.title('TextBlob Sentiment Scores')\n",
    "plt.show()"
   ]
  },
  {
   "cell_type": "markdown",
   "metadata": {},
   "source": [
    ">* You can also visualize the positive scores and negative scores with NaiveBayesAnalyzer."
   ]
  },
  {
   "cell_type": "code",
   "execution_count": 35,
   "metadata": {},
   "outputs": [
    {
     "name": "stderr",
     "output_type": "stream",
     "text": [
      "/var/folders/3_/r8z51q092v566bd_r0g_zj640000gn/T/ipykernel_2770/111561893.py:1: SettingWithCopyWarning: \n",
      "A value is trying to be set on a copy of a slice from a DataFrame.\n",
      "Try using .loc[row_indexer,col_indexer] = value instead\n",
      "\n",
      "See the caveats in the documentation: https://pandas.pydata.org/pandas-docs/stable/user_guide/indexing.html#returning-a-view-versus-a-copy\n",
      "  content['textblob_naive']=content['textblob_pos']-content['textblob_neg']\n"
     ]
    },
    {
     "data": {
      "text/plain": [
       "0    -0.213867\n",
       "1     0.211247\n",
       "2     0.563019\n",
       "3     0.861807\n",
       "4     0.563019\n",
       "        ...   \n",
       "86    0.504309\n",
       "87    0.238213\n",
       "88   -0.217036\n",
       "89    0.527363\n",
       "90    0.563019\n",
       "Name: textblob_naive, Length: 91, dtype: float64"
      ]
     },
     "execution_count": 35,
     "metadata": {},
     "output_type": "execute_result"
    }
   ],
   "source": [
    "content['textblob_naive']=content['textblob_pos']-content['textblob_neg']\n",
    "content['textblob_naive']\n",
    "#The difference between the positive and negative probabilities\n",
    "#Negative values indicate that the text is negative\n",
    "#Positive values indicate that the text is positive"
   ]
  },
  {
   "cell_type": "code",
   "execution_count": 36,
   "metadata": {},
   "outputs": [
    {
     "data": {
      "image/png": "[encoded data removed]",
      "text/plain": [
       "<Figure size 640x480 with 1 Axes>"
      ]
     },
     "metadata": {},
     "output_type": "display_data"
    }
   ],
   "source": [
    "plt.scatter(content.index, content['textblob_pos']-content['textblob_neg'],\n",
    "            c=['red' if score < 0 else 'blue' for score \n",
    "               in content['textblob_pos']-content['textblob_neg']])\n",
    "plt.xlabel('Index')\n",
    "plt.axhline(y=0, color='black', linestyle='--')\n",
    "plt.ylabel('TextBlob Pos-Neg Score')\n",
    "plt.title('TextBlob Pos-Neg Scores')\n",
    "plt.show()"
   ]
  },
  {
   "cell_type": "markdown",
   "metadata": {},
   "source": [
    ">* Q. What do you think about the results between PatternAnalyzer and NaiveBayesAnalyzer? What is the difference?"
   ]
  },
  {
   "cell_type": "markdown",
   "metadata": {},
   "source": [
    "> * This difference tells you about the core idea of research. `The law of hammer` or `the law of the instrument` is a cognitive bias that involves an over-reliance on a familiar tool. As Abraham Maslow said in 1966, \"I suppose it is tempting, if the only tool you have is a hammer, to treat everything as if it were a nail.\" This is why we have to compare the results of different tools to get a better understanding of the data."
   ]
  },
  {
   "cell_type": "markdown",
   "metadata": {},
   "source": [
    ">* Let's compare what contents have been classified as the most positive and most negative comments by PatternAnalyzer and NaiveBayesAnalyzer."
   ]
  },
  {
   "cell_type": "markdown",
   "metadata": {},
   "source": [
    ">* First let's print out examples of the most positive and most negative comments by PatternAnalyzer."
   ]
  },
  {
   "cell_type": "code",
   "execution_count": 37,
   "metadata": {},
   "outputs": [
    {
     "data": {
      "text/html": [
       "<div>\n",
       "<style scoped>\n",
       "    .dataframe tbody tr th:only-of-type {\n",
       "        vertical-align: middle;\n",
       "    }\n",
       "\n",
       "    .dataframe tbody tr th {\n",
       "        vertical-align: top;\n",
       "    }\n",
       "\n",
       "    .dataframe thead th {\n",
       "        text-align: right;\n",
       "    }\n",
       "</style>\n",
       "<table border=\"1\" class=\"dataframe\">\n",
       "  <thead>\n",
       "    <tr style=\"text-align: right;\">\n",
       "      <th></th>\n",
       "      <th>body</th>\n",
       "      <th>username</th>\n",
       "      <th>textblob_sentiment</th>\n",
       "    </tr>\n",
       "  </thead>\n",
       "  <tbody>\n",
       "    <tr>\n",
       "      <th>25</th>\n",
       "      <td>Why hadnâ€™t Trump set up special counsel inve...</td>\n",
       "      <td>LAGA57</td>\n",
       "      <td>0.871931</td>\n",
       "    </tr>\n",
       "    <tr>\n",
       "      <th>57</th>\n",
       "      <td>@Irishmick66 Guess Iâ€™m not to bright, donâ€™...</td>\n",
       "      <td>ConsertiveSon</td>\n",
       "      <td>0.700000</td>\n",
       "    </tr>\n",
       "    <tr>\n",
       "      <th>88</th>\n",
       "      <td>Investigation of fraudulent voting practices, ...</td>\n",
       "      <td>Bobbfishen</td>\n",
       "      <td>0.550000</td>\n",
       "    </tr>\n",
       "  </tbody>\n",
       "</table>\n",
       "</div>"
      ],
      "text/plain": [
       "                                                 body       username  \\\n",
       "25  Why hadnâ€™t Trump set up special counsel inve...         LAGA57   \n",
       "57  @Irishmick66 Guess Iâ€™m not to bright, donâ€™...  ConsertiveSon   \n",
       "88  Investigation of fraudulent voting practices, ...     Bobbfishen   \n",
       "\n",
       "    textblob_sentiment  \n",
       "25            0.871931  \n",
       "57            0.700000  \n",
       "88            0.550000  "
      ]
     },
     "execution_count": 37,
     "metadata": {},
     "output_type": "execute_result"
    }
   ],
   "source": [
    "content.sort_values(by='textblob_sentiment',ascending=False)[0:3][['body', 'username', 'textblob_sentiment']]\n",
    "#positive posts"
   ]
  },
  {
   "cell_type": "code",
   "execution_count": 38,
   "metadata": {},
   "outputs": [
    {
     "name": "stdout",
     "output_type": "stream",
     "text": [
      "('Why hadnâ€™t Trump set up special counsel invest on election fraud and into '\n",
      " 'Biden Obama money laundering with hunter. WE arenâ€™t going away, we are '\n",
      " 'awakened!!!! This is WAR')\n"
     ]
    }
   ],
   "source": [
    "pprint(content['body'].iloc[25]) #0.871931"
   ]
  },
  {
   "cell_type": "code",
   "execution_count": 39,
   "metadata": {},
   "outputs": [
    {
     "name": "stdout",
     "output_type": "stream",
     "text": [
      "('@Irishmick66 Guess Iâ€™m not to bright, donâ€™t know about fixing link. \\n'\n",
      " '\\n'\n",
      " 'Tried sending Biden voter fraud. Will try again. \\n'\n",
      " 'Keeps saying forbidden b')\n"
     ]
    }
   ],
   "source": [
    "pprint(content['body'].iloc[57]) #0.700000"
   ]
  },
  {
   "cell_type": "code",
   "execution_count": 40,
   "metadata": {},
   "outputs": [
    {
     "name": "stdout",
     "output_type": "stream",
     "text": [
      "('Investigation of fraudulent voting practices, and rigged voting machines. Is '\n",
      " 'your constitutional duty to insure Citizens a free and fair election. Not '\n",
      " \"investigating is where the crime is. We still don'tknow if the election was \"\n",
      " 'rigged.')\n"
     ]
    }
   ],
   "source": [
    "pprint(content['body'].iloc[88]) #0.550000"
   ]
  },
  {
   "cell_type": "code",
   "execution_count": 41,
   "metadata": {},
   "outputs": [
    {
     "data": {
      "text/html": [
       "<div>\n",
       "<style scoped>\n",
       "    .dataframe tbody tr th:only-of-type {\n",
       "        vertical-align: middle;\n",
       "    }\n",
       "\n",
       "    .dataframe tbody tr th {\n",
       "        vertical-align: top;\n",
       "    }\n",
       "\n",
       "    .dataframe thead th {\n",
       "        text-align: right;\n",
       "    }\n",
       "</style>\n",
       "<table border=\"1\" class=\"dataframe\">\n",
       "  <thead>\n",
       "    <tr style=\"text-align: right;\">\n",
       "      <th></th>\n",
       "      <th>body</th>\n",
       "      <th>username</th>\n",
       "      <th>textblob_sentiment</th>\n",
       "    </tr>\n",
       "  </thead>\n",
       "  <tbody>\n",
       "    <tr>\n",
       "      <th>28</th>\n",
       "      <td>why bother if they get away with this election...</td>\n",
       "      <td>Jeanetheys</td>\n",
       "      <td>-0.650000</td>\n",
       "    </tr>\n",
       "    <tr>\n",
       "      <th>41</th>\n",
       "      <td>Unfortunately they don't need us anymore. Elec...</td>\n",
       "      <td>ChelyB</td>\n",
       "      <td>-0.500000</td>\n",
       "    </tr>\n",
       "    <tr>\n",
       "      <th>16</th>\n",
       "      <td>Those sleazbags dems are trying to pull off a ...</td>\n",
       "      <td>Dbgroup00</td>\n",
       "      <td>-0.395692</td>\n",
       "    </tr>\n",
       "  </tbody>\n",
       "</table>\n",
       "</div>"
      ],
      "text/plain": [
       "                                                 body    username  \\\n",
       "28  why bother if they get away with this election...  Jeanetheys   \n",
       "41  Unfortunately they don't need us anymore. Elec...      ChelyB   \n",
       "16  Those sleazbags dems are trying to pull off a ...   Dbgroup00   \n",
       "\n",
       "    textblob_sentiment  \n",
       "28           -0.650000  \n",
       "41           -0.500000  \n",
       "16           -0.395692  "
      ]
     },
     "execution_count": 41,
     "metadata": {},
     "output_type": "execute_result"
    }
   ],
   "source": [
    "content.sort_values(by='textblob_sentiment',ascending=True)[0:3][['body', 'username', 'textblob_sentiment']]\n",
    "#negative posts"
   ]
  },
  {
   "cell_type": "code",
   "execution_count": 42,
   "metadata": {},
   "outputs": [
    {
     "name": "stdout",
     "output_type": "stream",
     "text": [
      "('why bother if they get away with this election fraud then they will have no '\n",
      " 'problem again fooking scum evil rats')\n"
     ]
    }
   ],
   "source": [
    "pprint(content['body'].iloc[28]) #-0.650000"
   ]
  },
  {
   "cell_type": "code",
   "execution_count": 43,
   "metadata": {},
   "outputs": [
    {
     "name": "stdout",
     "output_type": "stream",
     "text": [
      "\"Unfortunately they don't need us anymore. Elections are rigged.\"\n"
     ]
    }
   ],
   "source": [
    "pprint(content['body'].iloc[41]) #-0.500000"
   ]
  },
  {
   "cell_type": "code",
   "execution_count": 44,
   "metadata": {},
   "outputs": [
    {
     "name": "stdout",
     "output_type": "stream",
     "text": [
      "('Those sleazbags dems are trying to pull off a coup amd are still scared '\n",
      " 'President Trump may pull exec order \\n'\n",
      " 'to stop this attack on our democracy \\n'\n",
      " 'How disappointing and embarrassing - THE WHOLE WORLD WATCHED THIS EVIL '\n",
      " 'RIGGED ELECTION COUP GO DOWN RIGHT IN FRONT OF OUR EYES AND OUR \\n'\n",
      " 'AND OUR CORRUPT AMD COWARDLY GOVT FBI DOJ AND ALL DEVIEVED AND BETRAYED '\n",
      " 'US. \\n'\n",
      " 'WEâ€™re all praying Pres Trump can stop this evil coup')\n"
     ]
    }
   ],
   "source": [
    "pprint(content['body'].iloc[16]) #-0.395692"
   ]
  },
  {
   "cell_type": "markdown",
   "metadata": {},
   "source": [
    ">* Next, let's print out examples of the most positive and most negative comments by NaiveBayesAnalyzer."
   ]
  },
  {
   "cell_type": "code",
   "execution_count": 45,
   "metadata": {},
   "outputs": [
    {
     "data": {
      "text/html": [
       "<div>\n",
       "<style scoped>\n",
       "    .dataframe tbody tr th:only-of-type {\n",
       "        vertical-align: middle;\n",
       "    }\n",
       "\n",
       "    .dataframe tbody tr th {\n",
       "        vertical-align: top;\n",
       "    }\n",
       "\n",
       "    .dataframe thead th {\n",
       "        text-align: right;\n",
       "    }\n",
       "</style>\n",
       "<table border=\"1\" class=\"dataframe\">\n",
       "  <thead>\n",
       "    <tr style=\"text-align: right;\">\n",
       "      <th></th>\n",
       "      <th>body</th>\n",
       "      <th>username</th>\n",
       "      <th>textblob_naive</th>\n",
       "    </tr>\n",
       "  </thead>\n",
       "  <tbody>\n",
       "    <tr>\n",
       "      <th>40</th>\n",
       "      <td>@erictrump @laraleatrump @sidneypowell @linwoo...</td>\n",
       "      <td>Lovewell100</td>\n",
       "      <td>1.0</td>\n",
       "    </tr>\n",
       "    <tr>\n",
       "      <th>31</th>\n",
       "      <td>tick tock MAGA bigots, white supremacists, dom...</td>\n",
       "      <td>ArtDogg</td>\n",
       "      <td>1.0</td>\n",
       "    </tr>\n",
       "    <tr>\n",
       "      <th>35</th>\n",
       "      <td>@sidneypowell @erictrump\\n@laraleatrump @linwo...</td>\n",
       "      <td>Lovewell100</td>\n",
       "      <td>1.0</td>\n",
       "    </tr>\n",
       "  </tbody>\n",
       "</table>\n",
       "</div>"
      ],
      "text/plain": [
       "                                                 body     username  \\\n",
       "40  @erictrump @laraleatrump @sidneypowell @linwoo...  Lovewell100   \n",
       "31  tick tock MAGA bigots, white supremacists, dom...      ArtDogg   \n",
       "35  @sidneypowell @erictrump\\n@laraleatrump @linwo...  Lovewell100   \n",
       "\n",
       "    textblob_naive  \n",
       "40             1.0  \n",
       "31             1.0  \n",
       "35             1.0  "
      ]
     },
     "execution_count": 45,
     "metadata": {},
     "output_type": "execute_result"
    }
   ],
   "source": [
    "content.sort_values(by='textblob_naive',ascending=False)[0:3][['body', 'username', 'textblob_naive']]\n",
    "#positive posts"
   ]
  },
  {
   "cell_type": "code",
   "execution_count": 46,
   "metadata": {},
   "outputs": [
    {
     "name": "stdout",
     "output_type": "stream",
     "text": [
      "('@erictrump @laraleatrump @sidneypowell @linwood\\n'\n",
      " '@rogerstone\\n'\n",
      " '\\n'\n",
      " 'MUST READ!\\n'\n",
      " '\\n'\n",
      " 'ACCORDING TO FEDERAL LAW AND OUR U.S. CONSTITUTION â€“\\n'\n",
      " 'TRUMP IS THE CLEAR WINNER DUE TO CLEAR ELECTION FRAUD\\n'\n",
      " '\\n'\n",
      " '\"STAND WITH PRESIDENT TRUMP ALL THE WAY\"\\n'\n",
      " '\\n'\n",
      " 'by Dr. Laurie Roth, Â©2021\\n'\n",
      " '\\n'\n",
      " '(Jan 7, 2021) â€” No matter how rough the course may be for a while, Trump '\n",
      " 'has constitutionally won & Trump & real Americans must stand & fight. Trump '\n",
      " 'must never concede an election that he & America boldly won. Trump must '\n",
      " 'stand with the military & start making needed arrests for treason & election '\n",
      " 'fraud no matter how radical that sounds. Crimes & felonies have been '\n",
      " 'committed & it wasnâ€™t by Trump.\\n'\n",
      " '\\n'\n",
      " 'The MSM,RINOs,governors,AGs, judges & many in the House & Senate with Pence '\n",
      " 'must answer for supporting & standing with bold election crimes instead of '\n",
      " 'the U.S. laws, the U.S. Constitution & the USA people.\\n'\n",
      " '\\n'\n",
      " 'w w w dot thepostemail dot '\n",
      " 'com/2021/01/07/according-to-federal-law-and-our-constitution-trump-is-the-clear-winner-due-to-clear-election-fraud/')\n"
     ]
    }
   ],
   "source": [
    "pprint(content.iloc[40]['body']) #1.0"
   ]
  },
  {
   "cell_type": "code",
   "execution_count": 47,
   "metadata": {},
   "outputs": [
    {
     "name": "stdout",
     "output_type": "stream",
     "text": [
      "('tick tock MAGA bigots, white supremacists, domestic terrorist insurgents and '\n",
      " 'anti-amercan seditionist trump monkeys ... \\n'\n",
      " '\\n'\n",
      " 'tick tick tick ....\\n'\n",
      " '\\n'\n",
      " 'Parler: Everything you need to know \\n'\n",
      " 'about the banned conservative social media platform\\n'\n",
      " '\\n'\n",
      " 'Parler is rife with misinformation, including a stream of baseless '\n",
      " 'allegations of voter fraud. The platform has become a hub of Trump-backed '\n",
      " 'conspiracy theories casting doubt on the election of President-elect Biden.\\n'\n",
      " 'Accounts with swastikas as their profile pictures and disgusting racist '\n",
      " 'posts are not hard to come by on Parler. Members of the Proud Boys, '\n",
      " 'adherents of conspiracy theory QAnon, anti-government extremists and white '\n",
      " 'supremacists all openly promote their views on Parler, according to an ADL '\n",
      " 'report.\\n'\n",
      " '\"Holocaust denial, antisemitism, racism and other forms of bigotry are also '\n",
      " 'easy to find,\"')\n"
     ]
    }
   ],
   "source": [
    "pprint(content.iloc[31]['body']) #1.0"
   ]
  },
  {
   "cell_type": "code",
   "execution_count": 48,
   "metadata": {},
   "outputs": [
    {
     "name": "stdout",
     "output_type": "stream",
     "text": [
      "('@sidneypowell @erictrump\\n'\n",
      " '@laraleatrump @linwood\\n'\n",
      " '@drjeromecorsi @seanhannity @ivankatrump @rogerstone @alexjones\\n'\n",
      " '\\n'\n",
      " 'OUTSTANDING MUST READ!\\n'\n",
      " '\\n'\n",
      " 'ACCORDING TO FEDERAL LAW AND OUR U.S. CONSTITUTION â€“\\n'\n",
      " 'TRUMP IS THE CLEAR WINNER DUE TO CLEAR ELECTION FRAUD\\n'\n",
      " '\\n'\n",
      " '\"STAND WITH PRESIDENT TRUMP ALL THE WAY\"\\n'\n",
      " '\\n'\n",
      " 'by Dr. Laurie Roth, Â©2021\\n'\n",
      " '\\n'\n",
      " 'Con\\'t: \"(Jan. 7, 2021) â€” What we also have seen with all the election '\n",
      " 'fraud-proof is many judges, most politicians and all of the mainstream '\n",
      " 'media, Fox News and even Newsmax on occasion, havenâ€™t stood with President '\n",
      " 'Trump & the Constitution. How many times from Fox and Newsmax hosts did we '\n",
      " 'hear â€œno proofâ€\\x9d or â€œlack of proofâ€\\x9d while calling on the '\n",
      " 'cowardly essence of Mitch McConnell and Mitt Romney? We arenâ€™t as stupid '\n",
      " 'as they think we are. The proof is vividly out there and documented. It is '\n",
      " 'just vividly ignored.\"\\n'\n",
      " '\\n'\n",
      " 'Continue Reading:\\n'\n",
      " 'w w w dot thepostemail dot '\n",
      " 'com/2021/01/07/according-to-federal-law-and-our-constitution-trump-is-the-clear-winner-due-to-clear-election-fraud/')\n"
     ]
    }
   ],
   "source": [
    "pprint(content.iloc[35]['body']) #1.0"
   ]
  },
  {
   "cell_type": "markdown",
   "metadata": {},
   "source": [
    ">* Interestingly enough, the top 3 most positive contents are the same between TextBlob NaiveBayesAnalyzer and VADER. Let's see if the same is true for the most negative contents."
   ]
  },
  {
   "cell_type": "code",
   "execution_count": 49,
   "metadata": {},
   "outputs": [
    {
     "data": {
      "text/html": [
       "<div>\n",
       "<style scoped>\n",
       "    .dataframe tbody tr th:only-of-type {\n",
       "        vertical-align: middle;\n",
       "    }\n",
       "\n",
       "    .dataframe tbody tr th {\n",
       "        vertical-align: top;\n",
       "    }\n",
       "\n",
       "    .dataframe thead th {\n",
       "        text-align: right;\n",
       "    }\n",
       "</style>\n",
       "<table border=\"1\" class=\"dataframe\">\n",
       "  <thead>\n",
       "    <tr style=\"text-align: right;\">\n",
       "      <th></th>\n",
       "      <th>body</th>\n",
       "      <th>username</th>\n",
       "      <th>textblob_naive</th>\n",
       "    </tr>\n",
       "  </thead>\n",
       "  <tbody>\n",
       "    <tr>\n",
       "      <th>24</th>\n",
       "      <td>Trump lost the election. Just because Trump is...</td>\n",
       "      <td>FrimFram</td>\n",
       "      <td>-0.920522</td>\n",
       "    </tr>\n",
       "    <tr>\n",
       "      <th>76</th>\n",
       "      <td>The dems were outsmarted by Trump 47 months ex...</td>\n",
       "      <td>Mongelouie</td>\n",
       "      <td>-0.904468</td>\n",
       "    </tr>\n",
       "    <tr>\n",
       "      <th>67</th>\n",
       "      <td>Hillary 2016, the election was Rigged........i...</td>\n",
       "      <td>Bradhampton273625667740</td>\n",
       "      <td>-0.901845</td>\n",
       "    </tr>\n",
       "  </tbody>\n",
       "</table>\n",
       "</div>"
      ],
      "text/plain": [
       "                                                 body  \\\n",
       "24  Trump lost the election. Just because Trump is...   \n",
       "76  The dems were outsmarted by Trump 47 months ex...   \n",
       "67  Hillary 2016, the election was Rigged........i...   \n",
       "\n",
       "                   username  textblob_naive  \n",
       "24                 FrimFram       -0.920522  \n",
       "76               Mongelouie       -0.904468  \n",
       "67  Bradhampton273625667740       -0.901845  "
      ]
     },
     "execution_count": 49,
     "metadata": {},
     "output_type": "execute_result"
    }
   ],
   "source": [
    "content.sort_values(by='textblob_naive',ascending=True)[0:3][['body', 'username', 'textblob_naive']]\n",
    "#negative posts"
   ]
  },
  {
   "cell_type": "code",
   "execution_count": 50,
   "metadata": {},
   "outputs": [
    {
     "name": "stdout",
     "output_type": "stream",
     "text": [
      "('Trump lost the election. Just because Trump is a crybaby and canâ€™t fathom '\n",
      " 'losing doesnâ€™t mean the election was rigged.')\n"
     ]
    }
   ],
   "source": [
    "pprint(content.iloc[24]['body']) #-0.920522"
   ]
  },
  {
   "cell_type": "code",
   "execution_count": 51,
   "metadata": {},
   "outputs": [
    {
     "name": "stdout",
     "output_type": "stream",
     "text": [
      "'The dems were outsmarted by Trump 47 months except the rigged election'\n"
     ]
    }
   ],
   "source": [
    "pprint(content.iloc[76]['body']) #-0.904468"
   ]
  },
  {
   "cell_type": "code",
   "execution_count": 52,
   "metadata": {},
   "outputs": [
    {
     "name": "stdout",
     "output_type": "stream",
     "text": [
      "('Hillary 2016, the election was Rigged........it was unRigged........that is '\n",
      " 'why Hillary did not contest.')\n"
     ]
    }
   ],
   "source": [
    "pprint(content.iloc[67]['body']) #-0.901845"
   ]
  },
  {
   "cell_type": "markdown",
   "metadata": {},
   "source": [
    ">* Beyond sentiment analysis, there is emotion analysis. Emotion analysis gives you a more nuanced understanding of the emotions expressed in the text. For instance, you can understand whether the text expresses joy, sadness, anger, or fear. However, sentiment analysis only gives you the polarity of the text (i.e., positive, negative, or neutral). "
   ]
  },
  {
   "cell_type": "markdown",
   "metadata": {},
   "source": [
    ">* NRC lexicon measures (1) fear, (2) anger, (3) anticipation, (4) trust, (5) surprise, (6) positive, (7) negative, (8) sadness, (9) disgust, and (10) joy."
   ]
  },
  {
   "cell_type": "code",
   "execution_count": 54,
   "metadata": {},
   "outputs": [],
   "source": [
    "# !pip install NRCLex\n",
    "from nrclex import NRCLex  "
   ]
  },
  {
   "cell_type": "code",
   "execution_count": 59,
   "metadata": {},
   "outputs": [
    {
     "name": "stdout",
     "output_type": "stream",
     "text": [
      "('Folks may be our last posts. Pogilosi just asked for a Military Coup. She '\n",
      " 'shoukd be fired and jailed for this. Never forget. The Govt is to blame for '\n",
      " 'the DC breach. We all saw the videos and we all know the truth. Trump did '\n",
      " 'not incite violence he was supportinh our rights. Thos that committed the '\n",
      " 'election fraud and the breach are the murderers. The Govt failed for 4 years '\n",
      " 'to hear our voice. They also failed to have 1 court hear the mass evidence '\n",
      " 'on fraud. Italy did it, we all know the truth. You cant hide your lies. They '\n",
      " 'have been exposed. \\n'\n",
      " '\\n'\n",
      " 'IF YOU IMPEACH TRUMP YOU ARE INCITING VIOLENCE AND JUSTUCE WILL PREVAIL. THE '\n",
      " 'TRUTH CAN ONLY BE HIDDEN FOR SO LONG.')\n"
     ]
    }
   ],
   "source": [
    "pprint(content.iloc[0]['body'])"
   ]
  },
  {
   "cell_type": "code",
   "execution_count": 58,
   "metadata": {},
   "outputs": [
    {
     "data": {
      "text/plain": [
       "{'forget': ['negative'],\n",
       " 'blame': ['anger', 'disgust', 'negative'],\n",
       " 'breach': ['negative'],\n",
       " 'truth': ['positive', 'trust'],\n",
       " 'incite': ['anger', 'anticipation', 'fear', 'negative'],\n",
       " 'violence': ['anger', 'fear', 'negative', 'sadness'],\n",
       " 'committed': ['positive', 'trust'],\n",
       " 'fraud': ['anger', 'negative'],\n",
       " 'court': ['anger', 'anticipation', 'fear'],\n",
       " 'hide': ['fear'],\n",
       " 'exposed': ['negative']}"
      ]
     },
     "execution_count": 58,
     "metadata": {},
     "output_type": "execute_result"
    }
   ],
   "source": [
    "NRCLex(content['body'].iloc[0]).affect_dict\n",
    "#What words are associated with which emotions"
   ]
  },
  {
   "cell_type": "code",
   "execution_count": 63,
   "metadata": {},
   "outputs": [
    {
     "data": {
      "text/plain": [
       "{'negative': 9,\n",
       " 'anger': 6,\n",
       " 'disgust': 1,\n",
       " 'positive': 3,\n",
       " 'trust': 3,\n",
       " 'anticipation': 2,\n",
       " 'fear': 4,\n",
       " 'sadness': 1}"
      ]
     },
     "execution_count": 63,
     "metadata": {},
     "output_type": "execute_result"
    }
   ],
   "source": [
    "NRCLex(content['body'].iloc[0]).raw_emotion_scores\n",
    "#counts of each emotion"
   ]
  },
  {
   "cell_type": "code",
   "execution_count": 96,
   "metadata": {},
   "outputs": [
    {
     "data": {
      "text/plain": [
       "{'fear': 0.13793103448275862,\n",
       " 'anger': 0.20689655172413793,\n",
       " 'anticip': 0.0,\n",
       " 'trust': 0.10344827586206896,\n",
       " 'surprise': 0.0,\n",
       " 'positive': 0.10344827586206896,\n",
       " 'negative': 0.3103448275862069,\n",
       " 'sadness': 0.034482758620689655,\n",
       " 'disgust': 0.034482758620689655,\n",
       " 'joy': 0.0,\n",
       " 'anticipation': 0.06896551724137931}"
      ]
     },
     "execution_count": 96,
     "metadata": {},
     "output_type": "execute_result"
    }
   ],
   "source": [
    "NRCLex(content['body'].iloc[0]).affect_frequencies\n",
    "#normalized counts of each emotion\n",
    "#anticipation looks like there is another key in the dictionary, `anticip`\n",
    "#We will use try except to handle this"
   ]
  },
  {
   "cell_type": "code",
   "execution_count": 62,
   "metadata": {},
   "outputs": [
    {
     "data": {
      "text/plain": [
       "[('negative', 0.3103448275862069)]"
      ]
     },
     "execution_count": 62,
     "metadata": {},
     "output_type": "execute_result"
    }
   ],
   "source": [
    "NRCLex(content['body'].iloc[0]).top_emotions\n",
    "#The most dominant emotion"
   ]
  },
  {
   "cell_type": "markdown",
   "metadata": {},
   "source": [
    ">* Let's iterate over the rows of the spreadsheet and apply the emotion analysis to each row."
   ]
  },
  {
   "cell_type": "code",
   "execution_count": 101,
   "metadata": {},
   "outputs": [],
   "source": [
    "fear=[]\n",
    "anger=[]\n",
    "anticipation=[]\n",
    "trust=[]\n",
    "surprise=[]\n",
    "positive=[]\n",
    "negative=[]\n",
    "sadness=[]\n",
    "disgust=[]\n",
    "joy=[]\n",
    "for idx, val in content.iterrows():\n",
    "    fear.append(NRCLex(val['body']).affect_frequencies['fear'])\n",
    "    anger.append(NRCLex(val['body']).affect_frequencies['anger'])\n",
    "    try:\n",
    "        anticipation.append(NRCLex(val['body']).affect_frequencies['anticipation'])\n",
    "    except KeyError:\n",
    "        anticipation.append(NRCLex(val['body']).affect_frequencies['anticip'])\n",
    "    trust.append(NRCLex(val['body']).affect_frequencies['trust'])\n",
    "    surprise.append(NRCLex(val['body']).affect_frequencies['surprise'])\n",
    "    positive.append(NRCLex(val['body']).affect_frequencies['positive'])\n",
    "    negative.append(NRCLex(val['body']).affect_frequencies['negative'])\n",
    "    sadness.append(NRCLex(val['body']).affect_frequencies['sadness'])\n",
    "    disgust.append(NRCLex(val['body']).affect_frequencies['disgust'])\n",
    "    joy.append(NRCLex(val['body']).affect_frequencies['joy'])"
   ]
  },
  {
   "cell_type": "code",
   "execution_count": 102,
   "metadata": {},
   "outputs": [
    {
     "name": "stderr",
     "output_type": "stream",
     "text": [
      "/var/folders/3_/r8z51q092v566bd_r0g_zj640000gn/T/ipykernel_2770/1667754031.py:1: SettingWithCopyWarning: \n",
      "A value is trying to be set on a copy of a slice from a DataFrame.\n",
      "Try using .loc[row_indexer,col_indexer] = value instead\n",
      "\n",
      "See the caveats in the documentation: https://pandas.pydata.org/pandas-docs/stable/user_guide/indexing.html#returning-a-view-versus-a-copy\n",
      "  content['nrc_fear']=fear\n",
      "/var/folders/3_/r8z51q092v566bd_r0g_zj640000gn/T/ipykernel_2770/1667754031.py:2: SettingWithCopyWarning: \n",
      "A value is trying to be set on a copy of a slice from a DataFrame.\n",
      "Try using .loc[row_indexer,col_indexer] = value instead\n",
      "\n",
      "See the caveats in the documentation: https://pandas.pydata.org/pandas-docs/stable/user_guide/indexing.html#returning-a-view-versus-a-copy\n",
      "  content['nrc_anger']=anger\n",
      "/var/folders/3_/r8z51q092v566bd_r0g_zj640000gn/T/ipykernel_2770/1667754031.py:3: SettingWithCopyWarning: \n",
      "A value is trying to be set on a copy of a slice from a DataFrame.\n",
      "Try using .loc[row_indexer,col_indexer] = value instead\n",
      "\n",
      "See the caveats in the documentation: https://pandas.pydata.org/pandas-docs/stable/user_guide/indexing.html#returning-a-view-versus-a-copy\n",
      "  content['nrc_anticipation']=anticipation\n",
      "/var/folders/3_/r8z51q092v566bd_r0g_zj640000gn/T/ipykernel_2770/1667754031.py:4: SettingWithCopyWarning: \n",
      "A value is trying to be set on a copy of a slice from a DataFrame.\n",
      "Try using .loc[row_indexer,col_indexer] = value instead\n",
      "\n",
      "See the caveats in the documentation: https://pandas.pydata.org/pandas-docs/stable/user_guide/indexing.html#returning-a-view-versus-a-copy\n",
      "  content['nrc_trust']=trust\n",
      "/var/folders/3_/r8z51q092v566bd_r0g_zj640000gn/T/ipykernel_2770/1667754031.py:5: SettingWithCopyWarning: \n",
      "A value is trying to be set on a copy of a slice from a DataFrame.\n",
      "Try using .loc[row_indexer,col_indexer] = value instead\n",
      "\n",
      "See the caveats in the documentation: https://pandas.pydata.org/pandas-docs/stable/user_guide/indexing.html#returning-a-view-versus-a-copy\n",
      "  content['nrc_surprise']=surprise\n",
      "/var/folders/3_/r8z51q092v566bd_r0g_zj640000gn/T/ipykernel_2770/1667754031.py:6: SettingWithCopyWarning: \n",
      "A value is trying to be set on a copy of a slice from a DataFrame.\n",
      "Try using .loc[row_indexer,col_indexer] = value instead\n",
      "\n",
      "See the caveats in the documentation: https://pandas.pydata.org/pandas-docs/stable/user_guide/indexing.html#returning-a-view-versus-a-copy\n",
      "  content['nrc_positive']=positive\n",
      "/var/folders/3_/r8z51q092v566bd_r0g_zj640000gn/T/ipykernel_2770/1667754031.py:7: SettingWithCopyWarning: \n",
      "A value is trying to be set on a copy of a slice from a DataFrame.\n",
      "Try using .loc[row_indexer,col_indexer] = value instead\n",
      "\n",
      "See the caveats in the documentation: https://pandas.pydata.org/pandas-docs/stable/user_guide/indexing.html#returning-a-view-versus-a-copy\n",
      "  content['nrc_negative']=negative\n",
      "/var/folders/3_/r8z51q092v566bd_r0g_zj640000gn/T/ipykernel_2770/1667754031.py:8: SettingWithCopyWarning: \n",
      "A value is trying to be set on a copy of a slice from a DataFrame.\n",
      "Try using .loc[row_indexer,col_indexer] = value instead\n",
      "\n",
      "See the caveats in the documentation: https://pandas.pydata.org/pandas-docs/stable/user_guide/indexing.html#returning-a-view-versus-a-copy\n",
      "  content['nrc_sadness']=sadness\n",
      "/var/folders/3_/r8z51q092v566bd_r0g_zj640000gn/T/ipykernel_2770/1667754031.py:9: SettingWithCopyWarning: \n",
      "A value is trying to be set on a copy of a slice from a DataFrame.\n",
      "Try using .loc[row_indexer,col_indexer] = value instead\n",
      "\n",
      "See the caveats in the documentation: https://pandas.pydata.org/pandas-docs/stable/user_guide/indexing.html#returning-a-view-versus-a-copy\n",
      "  content['nrc_disgust']=disgust\n",
      "/var/folders/3_/r8z51q092v566bd_r0g_zj640000gn/T/ipykernel_2770/1667754031.py:10: SettingWithCopyWarning: \n",
      "A value is trying to be set on a copy of a slice from a DataFrame.\n",
      "Try using .loc[row_indexer,col_indexer] = value instead\n",
      "\n",
      "See the caveats in the documentation: https://pandas.pydata.org/pandas-docs/stable/user_guide/indexing.html#returning-a-view-versus-a-copy\n",
      "  content['nrc_joy']=joy\n"
     ]
    }
   ],
   "source": [
    "content['nrc_fear']=fear\n",
    "content['nrc_anger']=anger\n",
    "content['nrc_anticipation']=anticipation\n",
    "content['nrc_trust']=trust\n",
    "content['nrc_surprise']=surprise\n",
    "content['nrc_positive']=positive\n",
    "content['nrc_negative']=negative\n",
    "content['nrc_sadness']=sadness\n",
    "content['nrc_disgust']=disgust\n",
    "content['nrc_joy']=joy"
   ]
  },
  {
   "cell_type": "code",
   "execution_count": 68,
   "metadata": {},
   "outputs": [
    {
     "data": {
      "text/html": [
       "<div>\n",
       "<style scoped>\n",
       "    .dataframe tbody tr th:only-of-type {\n",
       "        vertical-align: middle;\n",
       "    }\n",
       "\n",
       "    .dataframe tbody tr th {\n",
       "        vertical-align: top;\n",
       "    }\n",
       "\n",
       "    .dataframe thead th {\n",
       "        text-align: right;\n",
       "    }\n",
       "</style>\n",
       "<table border=\"1\" class=\"dataframe\">\n",
       "  <thead>\n",
       "    <tr style=\"text-align: right;\">\n",
       "      <th></th>\n",
       "      <th>username</th>\n",
       "      <th>body</th>\n",
       "      <th>nrc_fear</th>\n",
       "      <th>nrc_anger</th>\n",
       "      <th>nrc_anticipation</th>\n",
       "      <th>nrc_trust</th>\n",
       "      <th>nrc_surprise</th>\n",
       "      <th>nrc_positive</th>\n",
       "      <th>nrc_negative</th>\n",
       "      <th>nrc_sadness</th>\n",
       "      <th>nrc_disgust</th>\n",
       "      <th>nrc_joy</th>\n",
       "    </tr>\n",
       "  </thead>\n",
       "  <tbody>\n",
       "    <tr>\n",
       "      <th>0</th>\n",
       "      <td>Terryb158</td>\n",
       "      <td>Folks may be our last posts. Pogilosi just ask...</td>\n",
       "      <td>0.137931</td>\n",
       "      <td>0.206897</td>\n",
       "      <td>0.0</td>\n",
       "      <td>0.103448</td>\n",
       "      <td>0.000000</td>\n",
       "      <td>0.103448</td>\n",
       "      <td>0.310345</td>\n",
       "      <td>0.034483</td>\n",
       "      <td>0.034483</td>\n",
       "      <td>0.000000</td>\n",
       "    </tr>\n",
       "    <tr>\n",
       "      <th>1</th>\n",
       "      <td>AlanBond7</td>\n",
       "      <td>Oh notre they want to investigate something. L...</td>\n",
       "      <td>0.000000</td>\n",
       "      <td>0.200000</td>\n",
       "      <td>0.0</td>\n",
       "      <td>0.000000</td>\n",
       "      <td>0.000000</td>\n",
       "      <td>0.300000</td>\n",
       "      <td>0.300000</td>\n",
       "      <td>0.000000</td>\n",
       "      <td>0.100000</td>\n",
       "      <td>0.100000</td>\n",
       "    </tr>\n",
       "    <tr>\n",
       "      <th>2</th>\n",
       "      <td>Tifdog11</td>\n",
       "      <td>White trash pieces of shit who are going to be...</td>\n",
       "      <td>0.071429</td>\n",
       "      <td>0.119048</td>\n",
       "      <td>0.0</td>\n",
       "      <td>0.071429</td>\n",
       "      <td>0.047619</td>\n",
       "      <td>0.095238</td>\n",
       "      <td>0.261905</td>\n",
       "      <td>0.095238</td>\n",
       "      <td>0.095238</td>\n",
       "      <td>0.071429</td>\n",
       "    </tr>\n",
       "    <tr>\n",
       "      <th>3</th>\n",
       "      <td>AlexaImmigrant</td>\n",
       "      <td>He has never lived in a totalitarian country; ...</td>\n",
       "      <td>0.130435</td>\n",
       "      <td>0.217391</td>\n",
       "      <td>0.0</td>\n",
       "      <td>0.043478</td>\n",
       "      <td>0.086957</td>\n",
       "      <td>0.173913</td>\n",
       "      <td>0.130435</td>\n",
       "      <td>0.086957</td>\n",
       "      <td>0.086957</td>\n",
       "      <td>0.043478</td>\n",
       "    </tr>\n",
       "    <tr>\n",
       "      <th>4</th>\n",
       "      <td>Tifdog11</td>\n",
       "      <td>White trash pieces of shit who are going to be...</td>\n",
       "      <td>0.071429</td>\n",
       "      <td>0.119048</td>\n",
       "      <td>0.0</td>\n",
       "      <td>0.071429</td>\n",
       "      <td>0.047619</td>\n",
       "      <td>0.095238</td>\n",
       "      <td>0.261905</td>\n",
       "      <td>0.095238</td>\n",
       "      <td>0.095238</td>\n",
       "      <td>0.071429</td>\n",
       "    </tr>\n",
       "  </tbody>\n",
       "</table>\n",
       "</div>"
      ],
      "text/plain": [
       "         username                                               body  \\\n",
       "0       Terryb158  Folks may be our last posts. Pogilosi just ask...   \n",
       "1       AlanBond7  Oh notre they want to investigate something. L...   \n",
       "2        Tifdog11  White trash pieces of shit who are going to be...   \n",
       "3  AlexaImmigrant  He has never lived in a totalitarian country; ...   \n",
       "4        Tifdog11  White trash pieces of shit who are going to be...   \n",
       "\n",
       "   nrc_fear  nrc_anger  nrc_anticipation  nrc_trust  nrc_surprise  \\\n",
       "0  0.137931   0.206897               0.0   0.103448      0.000000   \n",
       "1  0.000000   0.200000               0.0   0.000000      0.000000   \n",
       "2  0.071429   0.119048               0.0   0.071429      0.047619   \n",
       "3  0.130435   0.217391               0.0   0.043478      0.086957   \n",
       "4  0.071429   0.119048               0.0   0.071429      0.047619   \n",
       "\n",
       "   nrc_positive  nrc_negative  nrc_sadness  nrc_disgust   nrc_joy  \n",
       "0      0.103448      0.310345     0.034483     0.034483  0.000000  \n",
       "1      0.300000      0.300000     0.000000     0.100000  0.100000  \n",
       "2      0.095238      0.261905     0.095238     0.095238  0.071429  \n",
       "3      0.173913      0.130435     0.086957     0.086957  0.043478  \n",
       "4      0.095238      0.261905     0.095238     0.095238  0.071429  "
      ]
     },
     "execution_count": 68,
     "metadata": {},
     "output_type": "execute_result"
    }
   ],
   "source": [
    "content[['username', 'body', 'nrc_fear', 'nrc_anger', 'nrc_anticipation', 'nrc_trust', 'nrc_surprise', 'nrc_positive', 'nrc_negative', 'nrc_sadness', 'nrc_disgust', 'nrc_joy']].head(5)"
   ]
  },
  {
   "cell_type": "markdown",
   "metadata": {},
   "source": [
    ">* Q. What is the content that has the most fear?"
   ]
  },
  {
   "cell_type": "code",
   "execution_count": 73,
   "metadata": {},
   "outputs": [
    {
     "data": {
      "text/html": [
       "<div>\n",
       "<style scoped>\n",
       "    .dataframe tbody tr th:only-of-type {\n",
       "        vertical-align: middle;\n",
       "    }\n",
       "\n",
       "    .dataframe tbody tr th {\n",
       "        vertical-align: top;\n",
       "    }\n",
       "\n",
       "    .dataframe thead th {\n",
       "        text-align: right;\n",
       "    }\n",
       "</style>\n",
       "<table border=\"1\" class=\"dataframe\">\n",
       "  <thead>\n",
       "    <tr style=\"text-align: right;\">\n",
       "      <th></th>\n",
       "      <th>username</th>\n",
       "      <th>body</th>\n",
       "      <th>nrc_fear</th>\n",
       "    </tr>\n",
       "  </thead>\n",
       "  <tbody>\n",
       "    <tr>\n",
       "      <th>35</th>\n",
       "      <td>Lovewell100</td>\n",
       "      <td>@sidneypowell @erictrump\\n@laraleatrump @linwo...</td>\n",
       "      <td>0.250000</td>\n",
       "    </tr>\n",
       "    <tr>\n",
       "      <th>64</th>\n",
       "      <td>1776Replay</td>\n",
       "      <td>Ya'll need to stop believing this shit . Witho...</td>\n",
       "      <td>0.222222</td>\n",
       "    </tr>\n",
       "    <tr>\n",
       "      <th>37</th>\n",
       "      <td>Arthuroslund</td>\n",
       "      <td>Democrats are ignorant robotic ideologues cont...</td>\n",
       "      <td>0.200000</td>\n",
       "    </tr>\n",
       "  </tbody>\n",
       "</table>\n",
       "</div>"
      ],
      "text/plain": [
       "        username                                               body  nrc_fear\n",
       "35   Lovewell100  @sidneypowell @erictrump\\n@laraleatrump @linwo...  0.250000\n",
       "64    1776Replay  Ya'll need to stop believing this shit . Witho...  0.222222\n",
       "37  Arthuroslund  Democrats are ignorant robotic ideologues cont...  0.200000"
      ]
     },
     "execution_count": 73,
     "metadata": {},
     "output_type": "execute_result"
    }
   ],
   "source": [
    "content.sort_values(by=['nrc_fear'], ascending=False)[['username', 'body', 'nrc_fear']][0:3]"
   ]
  },
  {
   "cell_type": "code",
   "execution_count": 75,
   "metadata": {},
   "outputs": [
    {
     "name": "stdout",
     "output_type": "stream",
     "text": [
      "('@sidneypowell @erictrump\\n'\n",
      " '@laraleatrump @linwood\\n'\n",
      " '@drjeromecorsi @seanhannity @ivankatrump @rogerstone @alexjones\\n'\n",
      " '\\n'\n",
      " 'OUTSTANDING MUST READ!\\n'\n",
      " '\\n'\n",
      " 'ACCORDING TO FEDERAL LAW AND OUR U.S. CONSTITUTION â€“\\n'\n",
      " 'TRUMP IS THE CLEAR WINNER DUE TO CLEAR ELECTION FRAUD\\n'\n",
      " '\\n'\n",
      " '\"STAND WITH PRESIDENT TRUMP ALL THE WAY\"\\n'\n",
      " '\\n'\n",
      " 'by Dr. Laurie Roth, Â©2021\\n'\n",
      " '\\n'\n",
      " 'Con\\'t: \"(Jan. 7, 2021) â€” What we also have seen with all the election '\n",
      " 'fraud-proof is many judges, most politicians and all of the mainstream '\n",
      " 'media, Fox News and even Newsmax on occasion, havenâ€™t stood with President '\n",
      " 'Trump & the Constitution. How many times from Fox and Newsmax hosts did we '\n",
      " 'hear â€œno proofâ€\\x9d or â€œlack of proofâ€\\x9d while calling on the '\n",
      " 'cowardly essence of Mitch McConnell and Mitt Romney? We arenâ€™t as stupid '\n",
      " 'as they think we are. The proof is vividly out there and documented. It is '\n",
      " 'just vividly ignored.\"\\n'\n",
      " '\\n'\n",
      " 'Continue Reading:\\n'\n",
      " 'w w w dot thepostemail dot '\n",
      " 'com/2021/01/07/according-to-federal-law-and-our-constitution-trump-is-the-clear-winner-due-to-clear-election-fraud/')\n"
     ]
    }
   ],
   "source": [
    "pprint(content['body'].iloc[35]) #0.25"
   ]
  },
  {
   "cell_type": "code",
   "execution_count": 76,
   "metadata": {},
   "outputs": [
    {
     "name": "stdout",
     "output_type": "stream",
     "text": [
      "(\"Ya'll need to stop believing this shit . Without a doubt, it sucks our \"\n",
      " 'President lost due to a rigged election. But, we need to stick together and '\n",
      " 'fight on all levels. This starts at city levels by electing better '\n",
      " 'leadership. There is no military sting operation, no arrests for treason, '\n",
      " 'Pope has not been arrested, President of Italy has not been arrested, no '\n",
      " 'insurrection act has been signed. He is right about, \" Nothing can stop '\n",
      " 'whats comimg\" and that is unfortunately a Biden Presidency.')\n"
     ]
    }
   ],
   "source": [
    "pprint(content['body'].iloc[64]) #0.2222"
   ]
  },
  {
   "cell_type": "code",
   "execution_count": 78,
   "metadata": {},
   "outputs": [
    {
     "name": "stdout",
     "output_type": "stream",
     "text": [
      "('Democrats are ignorant robotic ideologues controlled by the Chinese whether '\n",
      " 'they know it or not. They are traitors, whether they know it or not. Biden '\n",
      " 'was pushed on the American people by billionaires who have usurped power and '\n",
      " 'rigged the elections.ðŸ‘ŽCongress, Deep State, MSM.')\n"
     ]
    }
   ],
   "source": [
    "pprint(content['body'].iloc[37]) #0.2000"
   ]
  },
  {
   "cell_type": "markdown",
   "metadata": {},
   "source": [
    ">* Q. What is the content that has the most anger?"
   ]
  },
  {
   "cell_type": "code",
   "execution_count": 86,
   "metadata": {},
   "outputs": [
    {
     "data": {
      "text/html": [
       "<div>\n",
       "<style scoped>\n",
       "    .dataframe tbody tr th:only-of-type {\n",
       "        vertical-align: middle;\n",
       "    }\n",
       "\n",
       "    .dataframe tbody tr th {\n",
       "        vertical-align: top;\n",
       "    }\n",
       "\n",
       "    .dataframe thead th {\n",
       "        text-align: right;\n",
       "    }\n",
       "</style>\n",
       "<table border=\"1\" class=\"dataframe\">\n",
       "  <thead>\n",
       "    <tr style=\"text-align: right;\">\n",
       "      <th></th>\n",
       "      <th>username</th>\n",
       "      <th>body</th>\n",
       "      <th>nrc_anger</th>\n",
       "    </tr>\n",
       "  </thead>\n",
       "  <tbody>\n",
       "    <tr>\n",
       "      <th>10</th>\n",
       "      <td>BenCarsonFans2021</td>\n",
       "      <td>Iâ€™ve never stood for anything quite so stron...</td>\n",
       "      <td>0.5</td>\n",
       "    </tr>\n",
       "    <tr>\n",
       "      <th>57</th>\n",
       "      <td>ConsertiveSon</td>\n",
       "      <td>@Irishmick66 Guess Iâ€™m not to bright, donâ€™...</td>\n",
       "      <td>0.5</td>\n",
       "    </tr>\n",
       "    <tr>\n",
       "      <th>87</th>\n",
       "      <td>xfitnesscoach</td>\n",
       "      <td>Neither is election fraud.</td>\n",
       "      <td>0.5</td>\n",
       "    </tr>\n",
       "  </tbody>\n",
       "</table>\n",
       "</div>"
      ],
      "text/plain": [
       "             username                                               body  \\\n",
       "10  BenCarsonFans2021  Iâ€™ve never stood for anything quite so stron...   \n",
       "57      ConsertiveSon  @Irishmick66 Guess Iâ€™m not to bright, donâ€™...   \n",
       "87      xfitnesscoach                         Neither is election fraud.   \n",
       "\n",
       "    nrc_anger  \n",
       "10        0.5  \n",
       "57        0.5  \n",
       "87        0.5  "
      ]
     },
     "execution_count": 86,
     "metadata": {},
     "output_type": "execute_result"
    }
   ],
   "source": [
    "content.sort_values(by=['nrc_anger'], ascending=False)[['username', 'body', 'nrc_anger']][0:3]"
   ]
  },
  {
   "cell_type": "code",
   "execution_count": 88,
   "metadata": {},
   "outputs": [
    {
     "name": "stdout",
     "output_type": "stream",
     "text": [
      "('Iâ€™ve never stood for anything quite so strong before. This election fraud '\n",
      " 'infuriates me. They have tortured our President for 4 years. This was the '\n",
      " 'last straw. Americans stand STRONG!ðŸ‡ºðŸ‡¸â™¥ï¸\\x8f \\n'\n",
      " 'Follow me if you are with me!')\n"
     ]
    }
   ],
   "source": [
    "pprint(content.iloc[10]['body'])"
   ]
  },
  {
   "cell_type": "code",
   "execution_count": 89,
   "metadata": {},
   "outputs": [
    {
     "name": "stdout",
     "output_type": "stream",
     "text": [
      "('@Irishmick66 Guess Iâ€™m not to bright, donâ€™t know about fixing link. \\n'\n",
      " '\\n'\n",
      " 'Tried sending Biden voter fraud. Will try again. \\n'\n",
      " 'Keeps saying forbidden b')\n"
     ]
    }
   ],
   "source": [
    "pprint(content.iloc[57]['body'])"
   ]
  },
  {
   "cell_type": "code",
   "execution_count": 90,
   "metadata": {},
   "outputs": [
    {
     "name": "stdout",
     "output_type": "stream",
     "text": [
      "'Neither is election fraud.'\n"
     ]
    }
   ],
   "source": [
    "pprint(content.iloc[87]['body'])"
   ]
  },
  {
   "cell_type": "markdown",
   "metadata": {},
   "source": [
    ">* Q. What is the content that has the most anticipation?"
   ]
  },
  {
   "cell_type": "code",
   "execution_count": 104,
   "metadata": {},
   "outputs": [
    {
     "data": {
      "text/html": [
       "<div>\n",
       "<style scoped>\n",
       "    .dataframe tbody tr th:only-of-type {\n",
       "        vertical-align: middle;\n",
       "    }\n",
       "\n",
       "    .dataframe tbody tr th {\n",
       "        vertical-align: top;\n",
       "    }\n",
       "\n",
       "    .dataframe thead th {\n",
       "        text-align: right;\n",
       "    }\n",
       "</style>\n",
       "<table border=\"1\" class=\"dataframe\">\n",
       "  <thead>\n",
       "    <tr style=\"text-align: right;\">\n",
       "      <th></th>\n",
       "      <th>username</th>\n",
       "      <th>body</th>\n",
       "      <th>nrc_anticipation</th>\n",
       "    </tr>\n",
       "  </thead>\n",
       "  <tbody>\n",
       "    <tr>\n",
       "      <th>17</th>\n",
       "      <td>notnatf</td>\n",
       "      <td>you got evidence for this claim or is it just ...</td>\n",
       "      <td>0.500000</td>\n",
       "    </tr>\n",
       "    <tr>\n",
       "      <th>77</th>\n",
       "      <td>Cweinberg33</td>\n",
       "      <td>How can this happen, with evidence of election...</td>\n",
       "      <td>0.333333</td>\n",
       "    </tr>\n",
       "    <tr>\n",
       "      <th>51</th>\n",
       "      <td>Twlghtangel</td>\n",
       "      <td>@halfcrazy First of all I'm.not a guy..duh..se...</td>\n",
       "      <td>0.300000</td>\n",
       "    </tr>\n",
       "  </tbody>\n",
       "</table>\n",
       "</div>"
      ],
      "text/plain": [
       "       username                                               body  \\\n",
       "17      notnatf  you got evidence for this claim or is it just ...   \n",
       "77  Cweinberg33  How can this happen, with evidence of election...   \n",
       "51  Twlghtangel  @halfcrazy First of all I'm.not a guy..duh..se...   \n",
       "\n",
       "    nrc_anticipation  \n",
       "17          0.500000  \n",
       "77          0.333333  \n",
       "51          0.300000  "
      ]
     },
     "execution_count": 104,
     "metadata": {},
     "output_type": "execute_result"
    }
   ],
   "source": [
    "content.sort_values(by=['nrc_anticipation'], ascending=False)[['username', 'body', 'nrc_anticipation']][0:3]"
   ]
  },
  {
   "cell_type": "code",
   "execution_count": 107,
   "metadata": {},
   "outputs": [
    {
     "name": "stdout",
     "output_type": "stream",
     "text": [
      "('you got evidence for this claim or is it just as ungrounded as the theory of '\n",
      " 'the election being rigged?')\n"
     ]
    }
   ],
   "source": [
    "pprint(content.iloc[17]['body'])"
   ]
  },
  {
   "cell_type": "code",
   "execution_count": 108,
   "metadata": {},
   "outputs": [
    {
     "name": "stdout",
     "output_type": "stream",
     "text": [
      "'How can this happen, with evidence of election fraud?'\n"
     ]
    }
   ],
   "source": [
    "pprint(content.iloc[77]['body'])"
   ]
  },
  {
   "cell_type": "code",
   "execution_count": 109,
   "metadata": {},
   "outputs": [
    {
     "name": "stdout",
     "output_type": "stream",
     "text": [
      "(\"@halfcrazy First of all I'm.not a guy..duh..second I know the election was \"\n",
      " 'rigged..third..its not over yet..have a little faith and gee..you make 96 '\n",
      " 'sound like a long time ago..I was here when they killed Kennedy..I know how '\n",
      " 'dirty the CIA and the FBI and the dem and even the reps can be..but I will '\n",
      " 'continue to have faith and hope Donald J Trump will be sworn back in.Jan '\n",
      " '20th')\n"
     ]
    }
   ],
   "source": [
    "pprint(content.iloc[51]['body'])"
   ]
  },
  {
   "cell_type": "markdown",
   "metadata": {},
   "source": [
    ">* Q. What is the content that has the most trust?"
   ]
  },
  {
   "cell_type": "code",
   "execution_count": 110,
   "metadata": {},
   "outputs": [
    {
     "data": {
      "text/html": [
       "<div>\n",
       "<style scoped>\n",
       "    .dataframe tbody tr th:only-of-type {\n",
       "        vertical-align: middle;\n",
       "    }\n",
       "\n",
       "    .dataframe tbody tr th {\n",
       "        vertical-align: top;\n",
       "    }\n",
       "\n",
       "    .dataframe thead th {\n",
       "        text-align: right;\n",
       "    }\n",
       "</style>\n",
       "<table border=\"1\" class=\"dataframe\">\n",
       "  <thead>\n",
       "    <tr style=\"text-align: right;\">\n",
       "      <th></th>\n",
       "      <th>username</th>\n",
       "      <th>body</th>\n",
       "      <th>nrc_trust</th>\n",
       "    </tr>\n",
       "  </thead>\n",
       "  <tbody>\n",
       "    <tr>\n",
       "      <th>17</th>\n",
       "      <td>notnatf</td>\n",
       "      <td>you got evidence for this claim or is it just ...</td>\n",
       "      <td>0.500000</td>\n",
       "    </tr>\n",
       "    <tr>\n",
       "      <th>48</th>\n",
       "      <td>MarcHook</td>\n",
       "      <td>This just confirms that they are corrupt and t...</td>\n",
       "      <td>0.333333</td>\n",
       "    </tr>\n",
       "    <tr>\n",
       "      <th>58</th>\n",
       "      <td>PartyTimeUSA</td>\n",
       "      <td>Nah homie, allegations without evidence only m...</td>\n",
       "      <td>0.285714</td>\n",
       "    </tr>\n",
       "  </tbody>\n",
       "</table>\n",
       "</div>"
      ],
      "text/plain": [
       "        username                                               body  nrc_trust\n",
       "17       notnatf  you got evidence for this claim or is it just ...   0.500000\n",
       "48      MarcHook  This just confirms that they are corrupt and t...   0.333333\n",
       "58  PartyTimeUSA  Nah homie, allegations without evidence only m...   0.285714"
      ]
     },
     "execution_count": 110,
     "metadata": {},
     "output_type": "execute_result"
    }
   ],
   "source": [
    "content.sort_values(by=['nrc_trust'], ascending=False)[['username', 'body', 'nrc_trust']][0:3]"
   ]
  },
  {
   "cell_type": "code",
   "execution_count": 111,
   "metadata": {},
   "outputs": [
    {
     "name": "stdout",
     "output_type": "stream",
     "text": [
      "('you got evidence for this claim or is it just as ungrounded as the theory of '\n",
      " 'the election being rigged?')\n"
     ]
    }
   ],
   "source": [
    "pprint(content.iloc[17]['body'])"
   ]
  },
  {
   "cell_type": "code",
   "execution_count": 112,
   "metadata": {},
   "outputs": [
    {
     "name": "stdout",
     "output_type": "stream",
     "text": [
      "('This just confirms that they are corrupt and the election was rigged. Why '\n",
      " 'would Pelosi try to push this? Why would social media block news from being '\n",
      " 'spread? Itâ€™s obvious!')\n"
     ]
    }
   ],
   "source": [
    "pprint(content.iloc[48]['body'])"
   ]
  },
  {
   "cell_type": "code",
   "execution_count": 113,
   "metadata": {},
   "outputs": [
    {
     "name": "stdout",
     "output_type": "stream",
     "text": [
      "(\"Nah homie, allegations without evidence only matter when they're about \"\n",
      " \"things like voter fraud. Otherwise allegations don't actually constitute a \"\n",
      " 'valid argument. Get your facts straight')\n"
     ]
    }
   ],
   "source": [
    "pprint(content.iloc[58]['body'])"
   ]
  },
  {
   "cell_type": "markdown",
   "metadata": {},
   "source": [
    ">* Q. What is the content that has the most surprise?"
   ]
  },
  {
   "cell_type": "code",
   "execution_count": 114,
   "metadata": {},
   "outputs": [
    {
     "data": {
      "text/html": [
       "<div>\n",
       "<style scoped>\n",
       "    .dataframe tbody tr th:only-of-type {\n",
       "        vertical-align: middle;\n",
       "    }\n",
       "\n",
       "    .dataframe tbody tr th {\n",
       "        vertical-align: top;\n",
       "    }\n",
       "\n",
       "    .dataframe thead th {\n",
       "        text-align: right;\n",
       "    }\n",
       "</style>\n",
       "<table border=\"1\" class=\"dataframe\">\n",
       "  <thead>\n",
       "    <tr style=\"text-align: right;\">\n",
       "      <th></th>\n",
       "      <th>username</th>\n",
       "      <th>body</th>\n",
       "      <th>nrc_surprise</th>\n",
       "    </tr>\n",
       "  </thead>\n",
       "  <tbody>\n",
       "    <tr>\n",
       "      <th>42</th>\n",
       "      <td>KarenLL</td>\n",
       "      <td>@Amyconan68 MASSIVE ELECTION FRAUD!\\nEven othe...</td>\n",
       "      <td>0.125</td>\n",
       "    </tr>\n",
       "    <tr>\n",
       "      <th>52</th>\n",
       "      <td>TSFACI</td>\n",
       "      <td>What should happen to people who set up good U...</td>\n",
       "      <td>0.125</td>\n",
       "    </tr>\n",
       "    <tr>\n",
       "      <th>18</th>\n",
       "      <td>TrishJones</td>\n",
       "      <td>Yes! There is a longer version too that I sent...</td>\n",
       "      <td>0.125</td>\n",
       "    </tr>\n",
       "  </tbody>\n",
       "</table>\n",
       "</div>"
      ],
      "text/plain": [
       "      username                                               body  \\\n",
       "42     KarenLL  @Amyconan68 MASSIVE ELECTION FRAUD!\\nEven othe...   \n",
       "52      TSFACI  What should happen to people who set up good U...   \n",
       "18  TrishJones  Yes! There is a longer version too that I sent...   \n",
       "\n",
       "    nrc_surprise  \n",
       "42         0.125  \n",
       "52         0.125  \n",
       "18         0.125  "
      ]
     },
     "execution_count": 114,
     "metadata": {},
     "output_type": "execute_result"
    }
   ],
   "source": [
    "content.sort_values(by=['nrc_surprise'], ascending=False)[['username', 'body', 'nrc_surprise']][0:3]"
   ]
  },
  {
   "cell_type": "code",
   "execution_count": 115,
   "metadata": {},
   "outputs": [
    {
     "name": "stdout",
     "output_type": "stream",
     "text": [
      "('@Amyconan68 MASSIVE ELECTION FRAUD!\\n'\n",
      " 'Even other countries were involved!\\n'\n",
      " 'Prez Trump WON REELECTION, but corrupt Democrats stole the election!\\n'\n",
      " '\\n'\n",
      " 'Antifa invaded the MAGA gathering! They brought glass breaking tools. And '\n",
      " 'Antifa is violent! Thereâ€™s footage of MAGA people trying to stop them from '\n",
      " 'breaking windows!\\n'\n",
      " '\\n'\n",
      " 'Antifa & BLM looted & DESTROYED businesses in many cities over the past '\n",
      " 'year! $3 Billion in damages! And WORSE, there were several deaths!')\n"
     ]
    }
   ],
   "source": [
    "pprint(content.iloc[42]['body'])"
   ]
  },
  {
   "cell_type": "code",
   "execution_count": 116,
   "metadata": {},
   "outputs": [
    {
     "name": "stdout",
     "output_type": "stream",
     "text": [
      "('What should happen to people who set up good USA citizens, defame and demean '\n",
      " 'them for a cheating political party to stop the votes for election fraud?')\n"
     ]
    }
   ],
   "source": [
    "pprint(content.iloc[52]['body'])"
   ]
  },
  {
   "cell_type": "code",
   "execution_count": 117,
   "metadata": {},
   "outputs": [
    {
     "name": "stdout",
     "output_type": "stream",
     "text": [
      "('Yes! There is a longer version too that I sent to my friend last night which '\n",
      " 'indicates that the U.K. were involved too. This is the second time Iâ€™ve '\n",
      " 'heard our country called out in relation to aiding in the election fraud and '\n",
      " 'sad to say, with whatâ€™s going on here, Iâ€™m not surprised. I apologise on '\n",
      " 'our behalf.')\n"
     ]
    }
   ],
   "source": [
    "pprint(content.iloc[18]['body'])"
   ]
  },
  {
   "cell_type": "markdown",
   "metadata": {},
   "source": [
    ">* Q. What is the content that has the most sadness emotion?"
   ]
  },
  {
   "cell_type": "code",
   "execution_count": 118,
   "metadata": {},
   "outputs": [
    {
     "data": {
      "text/html": [
       "<div>\n",
       "<style scoped>\n",
       "    .dataframe tbody tr th:only-of-type {\n",
       "        vertical-align: middle;\n",
       "    }\n",
       "\n",
       "    .dataframe tbody tr th {\n",
       "        vertical-align: top;\n",
       "    }\n",
       "\n",
       "    .dataframe thead th {\n",
       "        text-align: right;\n",
       "    }\n",
       "</style>\n",
       "<table border=\"1\" class=\"dataframe\">\n",
       "  <thead>\n",
       "    <tr style=\"text-align: right;\">\n",
       "      <th></th>\n",
       "      <th>username</th>\n",
       "      <th>body</th>\n",
       "      <th>nrc_sadness</th>\n",
       "    </tr>\n",
       "  </thead>\n",
       "  <tbody>\n",
       "    <tr>\n",
       "      <th>24</th>\n",
       "      <td>FrimFram</td>\n",
       "      <td>Trump lost the election. Just because Trump is...</td>\n",
       "      <td>0.400000</td>\n",
       "    </tr>\n",
       "    <tr>\n",
       "      <th>34</th>\n",
       "      <td>Djle606</td>\n",
       "      <td>Italian Gov involvement in election fraud is b...</td>\n",
       "      <td>0.166667</td>\n",
       "    </tr>\n",
       "    <tr>\n",
       "      <th>28</th>\n",
       "      <td>Jeanetheys</td>\n",
       "      <td>why bother if they get away with this election...</td>\n",
       "      <td>0.153846</td>\n",
       "    </tr>\n",
       "  </tbody>\n",
       "</table>\n",
       "</div>"
      ],
      "text/plain": [
       "      username                                               body  nrc_sadness\n",
       "24    FrimFram  Trump lost the election. Just because Trump is...     0.400000\n",
       "34     Djle606  Italian Gov involvement in election fraud is b...     0.166667\n",
       "28  Jeanetheys  why bother if they get away with this election...     0.153846"
      ]
     },
     "execution_count": 118,
     "metadata": {},
     "output_type": "execute_result"
    }
   ],
   "source": [
    "content.sort_values(by=['nrc_sadness'], ascending=False)[['username', 'body', 'nrc_sadness']][0:3]"
   ]
  },
  {
   "cell_type": "code",
   "execution_count": 119,
   "metadata": {},
   "outputs": [
    {
     "name": "stdout",
     "output_type": "stream",
     "text": [
      "('Trump lost the election. Just because Trump is a crybaby and canâ€™t fathom '\n",
      " 'losing doesnâ€™t mean the election was rigged.')\n"
     ]
    }
   ],
   "source": [
    "pprint(content.iloc[24]['body'])"
   ]
  },
  {
   "cell_type": "code",
   "execution_count": 120,
   "metadata": {},
   "outputs": [
    {
     "name": "stdout",
     "output_type": "stream",
     "text": [
      "('Italian Gov involvement in election fraud is being reported by multiple '\n",
      " 'sources, you can find a few on my wall, and this makes me believe the Pope '\n",
      " 'was arrested already (btw: he is always leading mass on Sundays and he was '\n",
      " 'absent today). Go to my wall and Check it out yourself.')\n"
     ]
    }
   ],
   "source": [
    "pprint(content.iloc[34]['body'])"
   ]
  },
  {
   "cell_type": "code",
   "execution_count": 121,
   "metadata": {},
   "outputs": [
    {
     "name": "stdout",
     "output_type": "stream",
     "text": [
      "('why bother if they get away with this election fraud then they will have no '\n",
      " 'problem again fooking scum evil rats')\n"
     ]
    }
   ],
   "source": [
    "pprint(content.iloc[28]['body'])"
   ]
  },
  {
   "cell_type": "markdown",
   "metadata": {},
   "source": [
    ">* Q. What is the content that has the most disgust emotion?"
   ]
  },
  {
   "cell_type": "code",
   "execution_count": 122,
   "metadata": {},
   "outputs": [
    {
     "data": {
      "text/html": [
       "<div>\n",
       "<style scoped>\n",
       "    .dataframe tbody tr th:only-of-type {\n",
       "        vertical-align: middle;\n",
       "    }\n",
       "\n",
       "    .dataframe tbody tr th {\n",
       "        vertical-align: top;\n",
       "    }\n",
       "\n",
       "    .dataframe thead th {\n",
       "        text-align: right;\n",
       "    }\n",
       "</style>\n",
       "<table border=\"1\" class=\"dataframe\">\n",
       "  <thead>\n",
       "    <tr style=\"text-align: right;\">\n",
       "      <th></th>\n",
       "      <th>username</th>\n",
       "      <th>body</th>\n",
       "      <th>nrc_disgust</th>\n",
       "    </tr>\n",
       "  </thead>\n",
       "  <tbody>\n",
       "    <tr>\n",
       "      <th>37</th>\n",
       "      <td>Arthuroslund</td>\n",
       "      <td>Democrats are ignorant robotic ideologues cont...</td>\n",
       "      <td>0.2000</td>\n",
       "    </tr>\n",
       "    <tr>\n",
       "      <th>13</th>\n",
       "      <td>Arthuroslund</td>\n",
       "      <td>Democrats are ignorant robotic ideologues cont...</td>\n",
       "      <td>0.2000</td>\n",
       "    </tr>\n",
       "    <tr>\n",
       "      <th>55</th>\n",
       "      <td>freedomfighter431</td>\n",
       "      <td>Your a piece of shit levin, no comparison ther...</td>\n",
       "      <td>0.1875</td>\n",
       "    </tr>\n",
       "  </tbody>\n",
       "</table>\n",
       "</div>"
      ],
      "text/plain": [
       "             username                                               body  \\\n",
       "37       Arthuroslund  Democrats are ignorant robotic ideologues cont...   \n",
       "13       Arthuroslund  Democrats are ignorant robotic ideologues cont...   \n",
       "55  freedomfighter431  Your a piece of shit levin, no comparison ther...   \n",
       "\n",
       "    nrc_disgust  \n",
       "37       0.2000  \n",
       "13       0.2000  \n",
       "55       0.1875  "
      ]
     },
     "execution_count": 122,
     "metadata": {},
     "output_type": "execute_result"
    }
   ],
   "source": [
    "content.sort_values(by=['nrc_disgust'], ascending=False)[['username', 'body', 'nrc_disgust']][0:3]"
   ]
  },
  {
   "cell_type": "code",
   "execution_count": 123,
   "metadata": {},
   "outputs": [
    {
     "name": "stdout",
     "output_type": "stream",
     "text": [
      "('Democrats are ignorant robotic ideologues controlled by the Chinese whether '\n",
      " 'they know it or not. They are traitors, whether they know it or not. Biden '\n",
      " 'was pushed on the American people by billionaires who have usurped power and '\n",
      " 'rigged the elections.ðŸ‘ŽCongress, Deep State, MSM.')\n"
     ]
    }
   ],
   "source": [
    "pprint(content.iloc[37]['body'])"
   ]
  },
  {
   "cell_type": "code",
   "execution_count": 124,
   "metadata": {},
   "outputs": [
    {
     "name": "stdout",
     "output_type": "stream",
     "text": [
      "('Democrats are ignorant robotic ideologues controlled by the Chinese whether '\n",
      " 'they know it or not. They are traitors, whether they know it or not. Biden '\n",
      " 'was pushed on the American people by billionaires who have usurped power and '\n",
      " 'rigged the elections.ðŸ‘ŽCongress, Deep State, MSM.')\n"
     ]
    }
   ],
   "source": [
    "pprint(content.iloc[13]['body'])"
   ]
  },
  {
   "cell_type": "code",
   "execution_count": 125,
   "metadata": {},
   "outputs": [
    {
     "name": "stdout",
     "output_type": "stream",
     "text": [
      "('Your a piece of shit levin, no comparison there at all, radicalized '\n",
      " 'Republicans who you helped lie to about bogus voter fraud caused the Chaos '\n",
      " 'at the capital, tell your viewers the truth about the voter fraud. There '\n",
      " 'never was any, you people been duped')\n"
     ]
    }
   ],
   "source": [
    "pprint(content.iloc[55]['body'])"
   ]
  },
  {
   "cell_type": "markdown",
   "metadata": {},
   "source": [
    ">* Q. What is the content that has the most joy emotion?"
   ]
  },
  {
   "cell_type": "code",
   "execution_count": 126,
   "metadata": {},
   "outputs": [
    {
     "data": {
      "text/html": [
       "<div>\n",
       "<style scoped>\n",
       "    .dataframe tbody tr th:only-of-type {\n",
       "        vertical-align: middle;\n",
       "    }\n",
       "\n",
       "    .dataframe tbody tr th {\n",
       "        vertical-align: top;\n",
       "    }\n",
       "\n",
       "    .dataframe thead th {\n",
       "        text-align: right;\n",
       "    }\n",
       "</style>\n",
       "<table border=\"1\" class=\"dataframe\">\n",
       "  <thead>\n",
       "    <tr style=\"text-align: right;\">\n",
       "      <th></th>\n",
       "      <th>username</th>\n",
       "      <th>body</th>\n",
       "      <th>nrc_joy</th>\n",
       "    </tr>\n",
       "  </thead>\n",
       "  <tbody>\n",
       "    <tr>\n",
       "      <th>56</th>\n",
       "      <td>Lorilynn2</td>\n",
       "      <td>If they were not afraid of Trump, they would j...</td>\n",
       "      <td>0.153846</td>\n",
       "    </tr>\n",
       "    <tr>\n",
       "      <th>51</th>\n",
       "      <td>Twlghtangel</td>\n",
       "      <td>@halfcrazy First of all I'm.not a guy..duh..se...</td>\n",
       "      <td>0.150000</td>\n",
       "    </tr>\n",
       "    <tr>\n",
       "      <th>86</th>\n",
       "      <td>Millsfarms</td>\n",
       "      <td>GRAHAM\\nHe begged us for money on Hannity and ...</td>\n",
       "      <td>0.133333</td>\n",
       "    </tr>\n",
       "  </tbody>\n",
       "</table>\n",
       "</div>"
      ],
      "text/plain": [
       "       username                                               body   nrc_joy\n",
       "56    Lorilynn2  If they were not afraid of Trump, they would j...  0.153846\n",
       "51  Twlghtangel  @halfcrazy First of all I'm.not a guy..duh..se...  0.150000\n",
       "86   Millsfarms  GRAHAM\\nHe begged us for money on Hannity and ...  0.133333"
      ]
     },
     "execution_count": 126,
     "metadata": {},
     "output_type": "execute_result"
    }
   ],
   "source": [
    "content.sort_values(by=['nrc_joy'], ascending=False)[['username', 'body', 'nrc_joy']][0:3]"
   ]
  },
  {
   "cell_type": "code",
   "execution_count": 127,
   "metadata": {},
   "outputs": [
    {
     "name": "stdout",
     "output_type": "stream",
     "text": [
      "('If they were not afraid of Trump, they would just be sitting back waiting, '\n",
      " 'laughing and gloating over their achievements of winning an election so '\n",
      " 'clearly rigged in their favor. They are like wolves on a chase. Worried '\n",
      " 'their secrets will be exposed at ant moment, and I am PRAYING they will be.')\n"
     ]
    }
   ],
   "source": [
    "pprint(content.iloc[56]['body'])"
   ]
  },
  {
   "cell_type": "code",
   "execution_count": 128,
   "metadata": {},
   "outputs": [
    {
     "name": "stdout",
     "output_type": "stream",
     "text": [
      "(\"@halfcrazy First of all I'm.not a guy..duh..second I know the election was \"\n",
      " 'rigged..third..its not over yet..have a little faith and gee..you make 96 '\n",
      " 'sound like a long time ago..I was here when they killed Kennedy..I know how '\n",
      " 'dirty the CIA and the FBI and the dem and even the reps can be..but I will '\n",
      " 'continue to have faith and hope Donald J Trump will be sworn back in.Jan '\n",
      " '20th')\n"
     ]
    }
   ],
   "source": [
    "pprint(content.iloc[51]['body'])"
   ]
  },
  {
   "cell_type": "code",
   "execution_count": 129,
   "metadata": {},
   "outputs": [
    {
     "name": "stdout",
     "output_type": "stream",
     "text": [
      "('GRAHAM\\n'\n",
      " 'He begged us for money on Hannity and other shows and as soon as it got '\n",
      " 'hot,he dropped TRUMP like a hot potato. Started talking about how heâ€™s '\n",
      " 'traveling all over the world with BIDEN it sounds like youâ€™re part of the '\n",
      " 'swamp.Mr. GRAHAM you need to grow a pair, take them out of your wifeâ€™s '\n",
      " 'purse or get out of the Republican Party! So much evidence on voter fraud '\n",
      " 'and you just look away and open your arms to sleep Joe. If you donâ€™t stand '\n",
      " 'up your no better than the left.')\n"
     ]
    }
   ],
   "source": [
    "pprint(content.iloc[86]['body'])"
   ]
  }
 ],
 "metadata": {
  "kernelspec": {
   "display_name": "is6750",
   "language": "python",
   "name": "python3"
  },
  "language_info": {
   "codemirror_mode": {
    "name": "ipython",
    "version": 3
   },
   "file_extension": ".py",
   "mimetype": "text/x-python",
   "name": "python",
   "nbconvert_exporter": "python",
   "pygments_lexer": "ipython3",
   "version": "3.8.19"
  }
 },
 "nbformat": 4,
 "nbformat_minor": 2
}
