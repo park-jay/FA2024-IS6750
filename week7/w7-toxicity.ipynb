{
 "cells": [
  {
   "cell_type": "markdown",
   "metadata": {},
   "source": [
    ">* We will train the hate speech classifier by training annotated dataset by De Gibert et al. (2018)\n",
    ">* First, you'll need to clone the repository from the github in the link below\n",
    ">* https://github.com/Vicomtech/hate-speech-dataset\n",
    "\n",
    ">* In your terminal, go to the directory where you want to clone the repository. To see where you are at, `ls -l`, and `cd ..` to go to the upper level (parent directory), and `cd [NAME OF THE DIRECTORY]` to go to the directory you want to go to. Then, `git clone https://github.com/Vicomtech/hate-speech-dataset.git`\n",
    "\n",
    ">* You will find the dataset in the `annotations_metadata.csv` file\n",
    ">* Let's read the csv file and have a glance at the dataset\n"
   ]
  },
  {
   "cell_type": "code",
   "execution_count": 1,
   "metadata": {},
   "outputs": [],
   "source": [
    "import pandas as pd"
   ]
  },
  {
   "cell_type": "code",
   "execution_count": 2,
   "metadata": {},
   "outputs": [],
   "source": [
    "data=pd.read_csv('../hate-speech-dataset/annotations_metadata.csv')"
   ]
  },
  {
   "cell_type": "code",
   "execution_count": 3,
   "metadata": {},
   "outputs": [
    {
     "data": {
      "text/html": [
       "<div>\n",
       "<style scoped>\n",
       "    .dataframe tbody tr th:only-of-type {\n",
       "        vertical-align: middle;\n",
       "    }\n",
       "\n",
       "    .dataframe tbody tr th {\n",
       "        vertical-align: top;\n",
       "    }\n",
       "\n",
       "    .dataframe thead th {\n",
       "        text-align: right;\n",
       "    }\n",
       "</style>\n",
       "<table border=\"1\" class=\"dataframe\">\n",
       "  <thead>\n",
       "    <tr style=\"text-align: right;\">\n",
       "      <th></th>\n",
       "      <th>file_id</th>\n",
       "      <th>user_id</th>\n",
       "      <th>subforum_id</th>\n",
       "      <th>num_contexts</th>\n",
       "      <th>label</th>\n",
       "    </tr>\n",
       "  </thead>\n",
       "  <tbody>\n",
       "    <tr>\n",
       "      <th>0</th>\n",
       "      <td>12834217_1</td>\n",
       "      <td>572066</td>\n",
       "      <td>1346</td>\n",
       "      <td>0</td>\n",
       "      <td>noHate</td>\n",
       "    </tr>\n",
       "    <tr>\n",
       "      <th>1</th>\n",
       "      <td>12834217_2</td>\n",
       "      <td>572066</td>\n",
       "      <td>1346</td>\n",
       "      <td>0</td>\n",
       "      <td>noHate</td>\n",
       "    </tr>\n",
       "    <tr>\n",
       "      <th>2</th>\n",
       "      <td>12834217_3</td>\n",
       "      <td>572066</td>\n",
       "      <td>1346</td>\n",
       "      <td>0</td>\n",
       "      <td>noHate</td>\n",
       "    </tr>\n",
       "    <tr>\n",
       "      <th>3</th>\n",
       "      <td>12834217_4</td>\n",
       "      <td>572066</td>\n",
       "      <td>1346</td>\n",
       "      <td>0</td>\n",
       "      <td>hate</td>\n",
       "    </tr>\n",
       "    <tr>\n",
       "      <th>4</th>\n",
       "      <td>12834217_5</td>\n",
       "      <td>572066</td>\n",
       "      <td>1346</td>\n",
       "      <td>0</td>\n",
       "      <td>noHate</td>\n",
       "    </tr>\n",
       "  </tbody>\n",
       "</table>\n",
       "</div>"
      ],
      "text/plain": [
       "      file_id  user_id  subforum_id  num_contexts   label\n",
       "0  12834217_1   572066         1346             0  noHate\n",
       "1  12834217_2   572066         1346             0  noHate\n",
       "2  12834217_3   572066         1346             0  noHate\n",
       "3  12834217_4   572066         1346             0    hate\n",
       "4  12834217_5   572066         1346             0  noHate"
      ]
     },
     "execution_count": 3,
     "metadata": {},
     "output_type": "execute_result"
    }
   ],
   "source": [
    "data.head(5)"
   ]
  },
  {
   "cell_type": "code",
   "execution_count": 4,
   "metadata": {},
   "outputs": [
    {
     "data": {
      "text/plain": [
       "array(['noHate', 'hate', 'idk/skip', 'relation'], dtype=object)"
      ]
     },
     "execution_count": 4,
     "metadata": {},
     "output_type": "execute_result"
    }
   ],
   "source": [
    "data['label'].unique()"
   ]
  },
  {
   "cell_type": "code",
   "execution_count": 5,
   "metadata": {},
   "outputs": [
    {
     "data": {
      "text/plain": [
       "label\n",
       "noHate      9507\n",
       "hate        1196\n",
       "relation     168\n",
       "idk/skip      73\n",
       "Name: count, dtype: int64"
      ]
     },
     "execution_count": 5,
     "metadata": {},
     "output_type": "execute_result"
    }
   ],
   "source": [
    "data['label'].value_counts()"
   ]
  },
  {
   "cell_type": "code",
   "execution_count": 6,
   "metadata": {},
   "outputs": [
    {
     "data": {
      "text/html": [
       "<div>\n",
       "<style scoped>\n",
       "    .dataframe tbody tr th:only-of-type {\n",
       "        vertical-align: middle;\n",
       "    }\n",
       "\n",
       "    .dataframe tbody tr th {\n",
       "        vertical-align: top;\n",
       "    }\n",
       "\n",
       "    .dataframe thead th {\n",
       "        text-align: right;\n",
       "    }\n",
       "</style>\n",
       "<table border=\"1\" class=\"dataframe\">\n",
       "  <thead>\n",
       "    <tr style=\"text-align: right;\">\n",
       "      <th></th>\n",
       "      <th>file_id</th>\n",
       "      <th>user_id</th>\n",
       "      <th>subforum_id</th>\n",
       "      <th>num_contexts</th>\n",
       "      <th>label</th>\n",
       "    </tr>\n",
       "  </thead>\n",
       "  <tbody>\n",
       "    <tr>\n",
       "      <th>0</th>\n",
       "      <td>12834217_1</td>\n",
       "      <td>572066</td>\n",
       "      <td>1346</td>\n",
       "      <td>0</td>\n",
       "      <td>noHate</td>\n",
       "    </tr>\n",
       "    <tr>\n",
       "      <th>1</th>\n",
       "      <td>12834217_2</td>\n",
       "      <td>572066</td>\n",
       "      <td>1346</td>\n",
       "      <td>0</td>\n",
       "      <td>noHate</td>\n",
       "    </tr>\n",
       "    <tr>\n",
       "      <th>2</th>\n",
       "      <td>12834217_3</td>\n",
       "      <td>572066</td>\n",
       "      <td>1346</td>\n",
       "      <td>0</td>\n",
       "      <td>noHate</td>\n",
       "    </tr>\n",
       "    <tr>\n",
       "      <th>4</th>\n",
       "      <td>12834217_5</td>\n",
       "      <td>572066</td>\n",
       "      <td>1346</td>\n",
       "      <td>0</td>\n",
       "      <td>noHate</td>\n",
       "    </tr>\n",
       "    <tr>\n",
       "      <th>5</th>\n",
       "      <td>12834217_6</td>\n",
       "      <td>572066</td>\n",
       "      <td>1346</td>\n",
       "      <td>0</td>\n",
       "      <td>noHate</td>\n",
       "    </tr>\n",
       "    <tr>\n",
       "      <th>...</th>\n",
       "      <td>...</td>\n",
       "      <td>...</td>\n",
       "      <td>...</td>\n",
       "      <td>...</td>\n",
       "      <td>...</td>\n",
       "    </tr>\n",
       "    <tr>\n",
       "      <th>10938</th>\n",
       "      <td>33676864_4</td>\n",
       "      <td>734541</td>\n",
       "      <td>1388</td>\n",
       "      <td>0</td>\n",
       "      <td>noHate</td>\n",
       "    </tr>\n",
       "    <tr>\n",
       "      <th>10939</th>\n",
       "      <td>33676864_5</td>\n",
       "      <td>734541</td>\n",
       "      <td>1388</td>\n",
       "      <td>0</td>\n",
       "      <td>noHate</td>\n",
       "    </tr>\n",
       "    <tr>\n",
       "      <th>10940</th>\n",
       "      <td>33677019_1</td>\n",
       "      <td>735154</td>\n",
       "      <td>1388</td>\n",
       "      <td>0</td>\n",
       "      <td>noHate</td>\n",
       "    </tr>\n",
       "    <tr>\n",
       "      <th>10941</th>\n",
       "      <td>33677019_2</td>\n",
       "      <td>735154</td>\n",
       "      <td>1388</td>\n",
       "      <td>0</td>\n",
       "      <td>noHate</td>\n",
       "    </tr>\n",
       "    <tr>\n",
       "      <th>10943</th>\n",
       "      <td>33677053_2</td>\n",
       "      <td>572266</td>\n",
       "      <td>1388</td>\n",
       "      <td>0</td>\n",
       "      <td>noHate</td>\n",
       "    </tr>\n",
       "  </tbody>\n",
       "</table>\n",
       "<p>9507 rows × 5 columns</p>\n",
       "</div>"
      ],
      "text/plain": [
       "          file_id  user_id  subforum_id  num_contexts   label\n",
       "0      12834217_1   572066         1346             0  noHate\n",
       "1      12834217_2   572066         1346             0  noHate\n",
       "2      12834217_3   572066         1346             0  noHate\n",
       "4      12834217_5   572066         1346             0  noHate\n",
       "5      12834217_6   572066         1346             0  noHate\n",
       "...           ...      ...          ...           ...     ...\n",
       "10938  33676864_4   734541         1388             0  noHate\n",
       "10939  33676864_5   734541         1388             0  noHate\n",
       "10940  33677019_1   735154         1388             0  noHate\n",
       "10941  33677019_2   735154         1388             0  noHate\n",
       "10943  33677053_2   572266         1388             0  noHate\n",
       "\n",
       "[9507 rows x 5 columns]"
      ]
     },
     "execution_count": 6,
     "metadata": {},
     "output_type": "execute_result"
    }
   ],
   "source": [
    "data[data['label']=='noHate']"
   ]
  },
  {
   "cell_type": "code",
   "execution_count": 7,
   "metadata": {},
   "outputs": [],
   "source": [
    "training=data[(data['label']=='noHate')|(data['label']=='hate')]"
   ]
  },
  {
   "cell_type": "code",
   "execution_count": 8,
   "metadata": {},
   "outputs": [
    {
     "data": {
      "text/plain": [
       "label\n",
       "noHate    9507\n",
       "hate      1196\n",
       "Name: count, dtype: int64"
      ]
     },
     "execution_count": 8,
     "metadata": {},
     "output_type": "execute_result"
    }
   ],
   "source": [
    "training['label'].value_counts()"
   ]
  },
  {
   "cell_type": "code",
   "execution_count": 9,
   "metadata": {},
   "outputs": [
    {
     "name": "stderr",
     "output_type": "stream",
     "text": [
      "/var/folders/3_/r8z51q092v566bd_r0g_zj640000gn/T/ipykernel_2502/755911698.py:1: SettingWithCopyWarning: \n",
      "A value is trying to be set on a copy of a slice from a DataFrame.\n",
      "Try using .loc[row_indexer,col_indexer] = value instead\n",
      "\n",
      "See the caveats in the documentation: https://pandas.pydata.org/pandas-docs/stable/user_guide/indexing.html#returning-a-view-versus-a-copy\n",
      "  training['class']=training['label'].apply(lambda x: 1 if x=='hate' else 0)\n"
     ]
    }
   ],
   "source": [
    "training['class']=training['label'].apply(lambda x: 1 if x=='hate' else 0)"
   ]
  },
  {
   "cell_type": "code",
   "execution_count": 10,
   "metadata": {},
   "outputs": [
    {
     "data": {
      "text/plain": [
       "class\n",
       "0    9507\n",
       "1    1196\n",
       "Name: count, dtype: int64"
      ]
     },
     "execution_count": 10,
     "metadata": {},
     "output_type": "execute_result"
    }
   ],
   "source": [
    "training['class'].value_counts()"
   ]
  },
  {
   "cell_type": "markdown",
   "metadata": {},
   "source": [
    ">* We will import `os` to get the name of the files in the training dataset folder from the repository"
   ]
  },
  {
   "cell_type": "code",
   "execution_count": 11,
   "metadata": {},
   "outputs": [],
   "source": [
    "import os"
   ]
  },
  {
   "cell_type": "code",
   "execution_count": 12,
   "metadata": {},
   "outputs": [
    {
     "data": {
      "text/plain": [
       "10944"
      ]
     },
     "execution_count": 12,
     "metadata": {},
     "output_type": "execute_result"
    }
   ],
   "source": [
    "len(os.listdir('../hate-speech-dataset/all_files'))"
   ]
  },
  {
   "cell_type": "markdown",
   "metadata": {},
   "source": [
    ">* We will call each file and read the text in the file and create a dictionary with the file name (key) and the text (value)"
   ]
  },
  {
   "cell_type": "code",
   "execution_count": 13,
   "metadata": {},
   "outputs": [],
   "source": [
    "all_dict={}\n",
    "for file in os.listdir('../hate-speech-dataset/all_files'):\n",
    "    with open('../hate-speech-dataset/all_files/'+file, 'r') as content:\n",
    "        all_dict[file.strip('.txt')]=content.read()"
   ]
  },
  {
   "cell_type": "code",
   "execution_count": 14,
   "metadata": {},
   "outputs": [
    {
     "data": {
      "text/plain": [
       "10944"
      ]
     },
     "execution_count": 14,
     "metadata": {},
     "output_type": "execute_result"
    }
   ],
   "source": [
    "len(all_dict)"
   ]
  },
  {
   "cell_type": "code",
   "execution_count": 15,
   "metadata": {},
   "outputs": [
    {
     "name": "stderr",
     "output_type": "stream",
     "text": [
      "/var/folders/3_/r8z51q092v566bd_r0g_zj640000gn/T/ipykernel_2502/856071315.py:1: SettingWithCopyWarning: \n",
      "A value is trying to be set on a copy of a slice from a DataFrame.\n",
      "Try using .loc[row_indexer,col_indexer] = value instead\n",
      "\n",
      "See the caveats in the documentation: https://pandas.pydata.org/pandas-docs/stable/user_guide/indexing.html#returning-a-view-versus-a-copy\n",
      "  training['text']=training['file_id'].apply(lambda x: all_dict[x])\n"
     ]
    }
   ],
   "source": [
    "training['text']=training['file_id'].apply(lambda x: all_dict[x])\n",
    "#This will populate the text column with the content of the file in accordance with \n",
    "#the file_id column"
   ]
  },
  {
   "cell_type": "markdown",
   "metadata": {},
   "source": [
    ">* Once we have the class (e.g., 0 for non-hate speech, 1 for hate speech), we will train the classifier using the `text` column and the `class` column"
   ]
  },
  {
   "cell_type": "markdown",
   "metadata": {},
   "source": [
    ">* With the training dataset, let's classify the Parler dataset from week 6"
   ]
  },
  {
   "cell_type": "code",
   "execution_count": 16,
   "metadata": {},
   "outputs": [],
   "source": [
    "parler=pd.read_csv('../week6/subset-2021-01-11-voter_fraud.csv')"
   ]
  },
  {
   "cell_type": "code",
   "execution_count": 17,
   "metadata": {},
   "outputs": [
    {
     "data": {
      "text/plain": [
       "Index(['article', 'body', 'bodywithurls', 'comments', 'createdAt',\n",
       "       'createdAtformatted', 'creator', 'datatype', 'depth', 'depthRaw',\n",
       "       ...\n",
       "       'urls.15.createdAt', 'urls.15.domain', 'urls.15.id', 'urls.15.long',\n",
       "       'urls.15.metadata.length', 'urls.15.metadata.mimeType',\n",
       "       'urls.15.metadata.site', 'urls.15.modified', 'urls.15.short',\n",
       "       'urls.15.state'],\n",
       "      dtype='object', length=420)"
      ]
     },
     "execution_count": 17,
     "metadata": {},
     "output_type": "execute_result"
    }
   ],
   "source": [
    "parler.columns"
   ]
  },
  {
   "cell_type": "code",
   "execution_count": 18,
   "metadata": {},
   "outputs": [],
   "source": [
    "content=parler[['body','username']]"
   ]
  },
  {
   "cell_type": "code",
   "execution_count": 19,
   "metadata": {},
   "outputs": [
    {
     "data": {
      "text/html": [
       "<div>\n",
       "<style scoped>\n",
       "    .dataframe tbody tr th:only-of-type {\n",
       "        vertical-align: middle;\n",
       "    }\n",
       "\n",
       "    .dataframe tbody tr th {\n",
       "        vertical-align: top;\n",
       "    }\n",
       "\n",
       "    .dataframe thead th {\n",
       "        text-align: right;\n",
       "    }\n",
       "</style>\n",
       "<table border=\"1\" class=\"dataframe\">\n",
       "  <thead>\n",
       "    <tr style=\"text-align: right;\">\n",
       "      <th></th>\n",
       "      <th>body</th>\n",
       "      <th>username</th>\n",
       "    </tr>\n",
       "  </thead>\n",
       "  <tbody>\n",
       "    <tr>\n",
       "      <th>0</th>\n",
       "      <td>Folks may be our last posts. Pogilosi just ask...</td>\n",
       "      <td>Terryb158</td>\n",
       "    </tr>\n",
       "    <tr>\n",
       "      <th>1</th>\n",
       "      <td>Oh notre they want to investigate something. L...</td>\n",
       "      <td>AlanBond7</td>\n",
       "    </tr>\n",
       "    <tr>\n",
       "      <th>2</th>\n",
       "      <td>White trash pieces of shit who are going to be...</td>\n",
       "      <td>Tifdog11</td>\n",
       "    </tr>\n",
       "    <tr>\n",
       "      <th>3</th>\n",
       "      <td>He has never lived in a totalitarian country; ...</td>\n",
       "      <td>AlexaImmigrant</td>\n",
       "    </tr>\n",
       "    <tr>\n",
       "      <th>4</th>\n",
       "      <td>White trash pieces of shit who are going to be...</td>\n",
       "      <td>Tifdog11</td>\n",
       "    </tr>\n",
       "    <tr>\n",
       "      <th>...</th>\n",
       "      <td>...</td>\n",
       "      <td>...</td>\n",
       "    </tr>\n",
       "    <tr>\n",
       "      <th>86</th>\n",
       "      <td>GRAHAM\\nHe begged us for money on Hannity and ...</td>\n",
       "      <td>Millsfarms</td>\n",
       "    </tr>\n",
       "    <tr>\n",
       "      <th>87</th>\n",
       "      <td>Neither is election fraud.</td>\n",
       "      <td>xfitnesscoach</td>\n",
       "    </tr>\n",
       "    <tr>\n",
       "      <th>88</th>\n",
       "      <td>Investigation of fraudulent voting practices, ...</td>\n",
       "      <td>Bobbfishen</td>\n",
       "    </tr>\n",
       "    <tr>\n",
       "      <th>89</th>\n",
       "      <td>Why did Nunes recuse himself on the election f...</td>\n",
       "      <td>BarryOKenyan</td>\n",
       "    </tr>\n",
       "    <tr>\n",
       "      <th>90</th>\n",
       "      <td>White trash pieces of shit who are going to be...</td>\n",
       "      <td>Tifdog11</td>\n",
       "    </tr>\n",
       "  </tbody>\n",
       "</table>\n",
       "<p>91 rows × 2 columns</p>\n",
       "</div>"
      ],
      "text/plain": [
       "                                                 body        username\n",
       "0   Folks may be our last posts. Pogilosi just ask...       Terryb158\n",
       "1   Oh notre they want to investigate something. L...       AlanBond7\n",
       "2   White trash pieces of shit who are going to be...        Tifdog11\n",
       "3   He has never lived in a totalitarian country; ...  AlexaImmigrant\n",
       "4   White trash pieces of shit who are going to be...        Tifdog11\n",
       "..                                                ...             ...\n",
       "86  GRAHAM\\nHe begged us for money on Hannity and ...      Millsfarms\n",
       "87                         Neither is election fraud.   xfitnesscoach\n",
       "88  Investigation of fraudulent voting practices, ...      Bobbfishen\n",
       "89  Why did Nunes recuse himself on the election f...    BarryOKenyan\n",
       "90  White trash pieces of shit who are going to be...        Tifdog11\n",
       "\n",
       "[91 rows x 2 columns]"
      ]
     },
     "execution_count": 19,
     "metadata": {},
     "output_type": "execute_result"
    }
   ],
   "source": [
    "content"
   ]
  },
  {
   "cell_type": "markdown",
   "metadata": {},
   "source": [
    ">* When we think about the classification task, we need to think about `what to classify` and `how to classify`\n",
    ">* `What to classify`: unigram count vectorizer, tf-idf vectorizer\n",
    ">* `How to classify`: Naive Bayes, Support Vector Machine (SVM), and Logistic Regression (LR)"
   ]
  },
  {
   "cell_type": "code",
   "execution_count": 20,
   "metadata": {},
   "outputs": [],
   "source": [
    "#!pip install scikit-learn\n",
    "from sklearn.feature_extraction.text import CountVectorizer\n",
    "from sklearn.feature_extraction.text import TfidfVectorizer\n",
    "from sklearn.feature_extraction.text import TfidfTransformer"
   ]
  },
  {
   "cell_type": "markdown",
   "metadata": {},
   "source": [
    ">* Convert the text into a vector representation for training and testing"
   ]
  },
  {
   "cell_type": "code",
   "execution_count": 21,
   "metadata": {},
   "outputs": [],
   "source": [
    "unigram_count_vectorizer=CountVectorizer(encoding='latin-1', ngram_range=(1,1))\n",
    "tfidf_vectorizer=TfidfVectorizer(encoding='latin-1', ngram_range=(1,1))"
   ]
  },
  {
   "cell_type": "code",
   "execution_count": 22,
   "metadata": {},
   "outputs": [],
   "source": [
    "X1=unigram_count_vectorizer.fit_transform(training['text'])\n",
    "#prepare training data as a vector representation   \n",
    "X1_predict=unigram_count_vectorizer.transform(content['body'])\n",
    "#prepare the target as a vector representation\n",
    "X1_tfidf=tfidf_vectorizer.fit_transform(training['text'])\n",
    "#prepare training data as a vector representation\n",
    "X1_tfidf_predict=tfidf_vectorizer.transform(content['body'])\n",
    "#prepare the target as a vector representation"
   ]
  },
  {
   "cell_type": "code",
   "execution_count": 23,
   "metadata": {},
   "outputs": [
    {
     "data": {
      "text/plain": [
       "(10703, 15871)"
      ]
     },
     "execution_count": 23,
     "metadata": {},
     "output_type": "execute_result"
    }
   ],
   "source": [
    "X1.toarray().shape\n",
    "#each row represents a document and \n",
    "#the length is determined by the number of unique words in the corpus\n"
   ]
  },
  {
   "cell_type": "code",
   "execution_count": 24,
   "metadata": {},
   "outputs": [
    {
     "data": {
      "text/plain": [
       "(91, 15871)"
      ]
     },
     "execution_count": 24,
     "metadata": {},
     "output_type": "execute_result"
    }
   ],
   "source": [
    "X1_predict.toarray().shape"
   ]
  },
  {
   "cell_type": "code",
   "execution_count": 25,
   "metadata": {},
   "outputs": [],
   "source": [
    "from sklearn.naive_bayes import MultinomialNB\n",
    "from sklearn.svm import SVC\n",
    "from sklearn.linear_model import LogisticRegression"
   ]
  },
  {
   "cell_type": "markdown",
   "metadata": {},
   "source": [
    ">* Let's train the `Multinomial Naive Bayes classifier` with the `Unigram Count Vectorizer`"
   ]
  },
  {
   "cell_type": "code",
   "execution_count": 26,
   "metadata": {},
   "outputs": [
    {
     "data": {
      "text/plain": [
       "array([0, 0, 0, 0, 0, 0, 0, 0, 0, 0, 0, 0, 0, 0, 0, 0, 0, 0, 0, 0, 0, 0,\n",
       "       0, 0, 0, 0, 0, 0, 0, 0, 0, 0, 0, 0, 0, 0, 0, 0, 0, 0, 0, 0, 1, 0,\n",
       "       0, 0, 0, 0, 0, 0, 0, 0, 0, 0, 0, 0, 0, 0, 0, 0, 0, 0, 0, 0, 0, 0,\n",
       "       0, 0, 0, 0, 0, 0, 0, 0, 0, 0, 0, 0, 0, 0, 0, 0, 0, 0, 0, 0, 0, 0,\n",
       "       0, 0, 0])"
      ]
     },
     "execution_count": 26,
     "metadata": {},
     "output_type": "execute_result"
    }
   ],
   "source": [
    "nb=MultinomialNB().fit(X1, training['class'])\n",
    "nb.predict(X1_predict)\n",
    "#only index 42 has been classified as hate speech"
   ]
  },
  {
   "cell_type": "code",
   "execution_count": 27,
   "metadata": {},
   "outputs": [],
   "source": [
    "index_numbers=[i for i in range(len(nb.predict(X1_predict))) if nb.predict(X1_predict)[i]==1]"
   ]
  },
  {
   "cell_type": "code",
   "execution_count": 28,
   "metadata": {},
   "outputs": [
    {
     "name": "stdout",
     "output_type": "stream",
     "text": [
      "('Greece need a man like Adolf Hitler and now is the perfect time to start a '\n",
      " 'national political movement to free Your country from the zionist bankers')\n"
     ]
    }
   ],
   "source": [
    "from pprint import pprint\n",
    "pprint(training['text'].iloc[index_numbers[0]])"
   ]
  },
  {
   "cell_type": "markdown",
   "metadata": {},
   "source": [
    ">* Let's train the `Support Vector Machine (SVM) classifier` with the `Unigram Count Vectorizer`"
   ]
  },
  {
   "cell_type": "code",
   "execution_count": 29,
   "metadata": {},
   "outputs": [
    {
     "data": {
      "text/plain": [
       "array([0, 0, 1, 0, 1, 0, 1, 0, 1, 0, 0, 0, 0, 0, 0, 0, 1, 0, 0, 1, 0, 0,\n",
       "       0, 0, 0, 0, 1, 0, 1, 1, 0, 0, 1, 1, 0, 0, 1, 0, 0, 0, 0, 0, 0, 0,\n",
       "       1, 0, 0, 0, 0, 1, 0, 1, 0, 1, 0, 0, 0, 0, 0, 0, 1, 0, 0, 0, 1, 1,\n",
       "       1, 0, 1, 0, 0, 0, 1, 0, 0, 1, 0, 0, 0, 0, 1, 0, 0, 1, 1, 0, 0, 0,\n",
       "       0, 0, 1])"
      ]
     },
     "execution_count": 29,
     "metadata": {},
     "output_type": "execute_result"
    }
   ],
   "source": [
    "svc=SVC(kernel='linear').fit(X1, training['class'])\n",
    "svc.predict(X1_predict)\n",
    "#interestingly, the svm model flagged more content as hate speech"
   ]
  },
  {
   "cell_type": "code",
   "execution_count": 30,
   "metadata": {},
   "outputs": [
    {
     "name": "stdout",
     "output_type": "stream",
     "text": [
      "27\n"
     ]
    }
   ],
   "source": [
    "index_numbers = [i for i, num in enumerate(svc.predict(X1_predict)) if num == 1]\n",
    "print(len(index_numbers))\n",
    "#27 contents have been flagged as hate speech"
   ]
  },
  {
   "cell_type": "code",
   "execution_count": 31,
   "metadata": {},
   "outputs": [
    {
     "data": {
      "text/plain": [
       "2     White trash pieces of shit who are going to be...\n",
       "4     White trash pieces of shit who are going to be...\n",
       "6     White trash pieces of shit who are going to be...\n",
       "8     Well they already made sure of that when they ...\n",
       "16    Those sleazbags dems are trying to pull off a ...\n",
       "19    White trash pieces of shit who are going to be...\n",
       "26    Traitor seems a relative term to you. It seems...\n",
       "28    why bother if they get away with this election...\n",
       "29    White trash pieces of shit who are going to be...\n",
       "32    White trash pieces of shit who are going to be...\n",
       "33    White trash pieces of shit who are going to be...\n",
       "36    White trash pieces of shit who are going to be...\n",
       "44    White trash pieces of shit who are going to be...\n",
       "49    White trash pieces of shit who are going to be...\n",
       "51    @halfcrazy First of all I'm.not a guy..duh..se...\n",
       "53    White trash pieces of shit who are going to be...\n",
       "60    White trash pieces of shit who are going to be...\n",
       "64    Ya'll need to stop believing this shit . Witho...\n",
       "65    White trash pieces of shit who are going to be...\n",
       "66    @HonyBadger White trash pieces of shit who are...\n",
       "68    White trash pieces of shit who are going to be...\n",
       "72    No, we did not. As with the general election, ...\n",
       "75    White trash pieces of shit who are going to be...\n",
       "80    White trash pieces of shit who are going to be...\n",
       "83    White trash pieces of shit who are going to be...\n",
       "84    I guess I missed the part where the Speaker of...\n",
       "90    White trash pieces of shit who are going to be...\n",
       "Name: body, dtype: object"
      ]
     },
     "execution_count": 31,
     "metadata": {},
     "output_type": "execute_result"
    }
   ],
   "source": [
    "content['body'].iloc[index_numbers]"
   ]
  },
  {
   "cell_type": "markdown",
   "metadata": {},
   "source": [
    ">* Let's train the `Logistic Regression (LR) classifier` with the `Unigram Count Vectorizer`"
   ]
  },
  {
   "cell_type": "code",
   "execution_count": 32,
   "metadata": {},
   "outputs": [
    {
     "name": "stderr",
     "output_type": "stream",
     "text": [
      "/Users/mstudio/miniconda3/envs/is6750/lib/python3.8/site-packages/sklearn/linear_model/_logistic.py:460: ConvergenceWarning: lbfgs failed to converge (status=1):\n",
      "STOP: TOTAL NO. of ITERATIONS REACHED LIMIT.\n",
      "\n",
      "Increase the number of iterations (max_iter) or scale the data as shown in:\n",
      "    https://scikit-learn.org/stable/modules/preprocessing.html\n",
      "Please also refer to the documentation for alternative solver options:\n",
      "    https://scikit-learn.org/stable/modules/linear_model.html#logistic-regression\n",
      "  n_iter_i = _check_optimize_result(\n"
     ]
    },
    {
     "data": {
      "text/plain": [
       "array([1, 0, 1, 0, 1, 0, 1, 0, 0, 0, 0, 0, 0, 0, 0, 0, 1, 0, 0, 1, 0, 0,\n",
       "       0, 0, 0, 0, 1, 0, 1, 1, 0, 0, 1, 1, 0, 0, 1, 0, 0, 0, 0, 0, 0, 0,\n",
       "       1, 0, 0, 1, 0, 1, 0, 1, 0, 1, 0, 0, 0, 0, 0, 0, 1, 0, 0, 0, 1, 1,\n",
       "       1, 0, 1, 0, 0, 0, 0, 0, 0, 1, 0, 0, 0, 0, 1, 0, 0, 1, 1, 0, 0, 0,\n",
       "       0, 0, 1])"
      ]
     },
     "execution_count": 32,
     "metadata": {},
     "output_type": "execute_result"
    }
   ],
   "source": [
    "lr=LogisticRegression().fit(X1, training['class'])\n",
    "lr.predict(X1_predict)"
   ]
  },
  {
   "cell_type": "code",
   "execution_count": 33,
   "metadata": {},
   "outputs": [
    {
     "name": "stdout",
     "output_type": "stream",
     "text": [
      "27\n"
     ]
    }
   ],
   "source": [
    "index_numbers = [i for i, num in enumerate(lr.predict(X1_predict)) if num == 1]\n",
    "print(len(index_numbers)) \n",
    "#27 contents have been flagged as hate speech"
   ]
  },
  {
   "cell_type": "code",
   "execution_count": 34,
   "metadata": {},
   "outputs": [
    {
     "data": {
      "text/plain": [
       "0     Folks may be our last posts. Pogilosi just ask...\n",
       "2     White trash pieces of shit who are going to be...\n",
       "4     White trash pieces of shit who are going to be...\n",
       "6     White trash pieces of shit who are going to be...\n",
       "16    Those sleazbags dems are trying to pull off a ...\n",
       "19    White trash pieces of shit who are going to be...\n",
       "26    Traitor seems a relative term to you. It seems...\n",
       "28    why bother if they get away with this election...\n",
       "29    White trash pieces of shit who are going to be...\n",
       "32    White trash pieces of shit who are going to be...\n",
       "33    White trash pieces of shit who are going to be...\n",
       "36    White trash pieces of shit who are going to be...\n",
       "44    White trash pieces of shit who are going to be...\n",
       "47    Couldn't even watch all of this. WTF? Well, le...\n",
       "49    White trash pieces of shit who are going to be...\n",
       "51    @halfcrazy First of all I'm.not a guy..duh..se...\n",
       "53    White trash pieces of shit who are going to be...\n",
       "60    White trash pieces of shit who are going to be...\n",
       "64    Ya'll need to stop believing this shit . Witho...\n",
       "65    White trash pieces of shit who are going to be...\n",
       "66    @HonyBadger White trash pieces of shit who are...\n",
       "68    White trash pieces of shit who are going to be...\n",
       "75    White trash pieces of shit who are going to be...\n",
       "80    White trash pieces of shit who are going to be...\n",
       "83    White trash pieces of shit who are going to be...\n",
       "84    I guess I missed the part where the Speaker of...\n",
       "90    White trash pieces of shit who are going to be...\n",
       "Name: body, dtype: object"
      ]
     },
     "execution_count": 34,
     "metadata": {},
     "output_type": "execute_result"
    }
   ],
   "source": [
    "content['body'].iloc[index_numbers]"
   ]
  },
  {
   "cell_type": "markdown",
   "metadata": {},
   "source": [
    ">* If we looked at the classifiers with `Unigram Count Vectorizer`, we can also look at the classifiers with `Tf-idf Vectorizer`"
   ]
  },
  {
   "cell_type": "code",
   "execution_count": 35,
   "metadata": {},
   "outputs": [
    {
     "data": {
      "text/plain": [
       "array([0, 0, 0, 0, 0, 0, 0, 0, 0, 0, 0, 0, 0, 0, 0, 0, 0, 0, 0, 0, 0, 0,\n",
       "       0, 0, 0, 0, 0, 0, 0, 0, 0, 0, 0, 0, 0, 0, 0, 0, 0, 0, 0, 0, 0, 0,\n",
       "       0, 0, 0, 0, 0, 0, 0, 0, 0, 0, 0, 0, 0, 0, 0, 0, 0, 0, 0, 0, 0, 0,\n",
       "       0, 0, 0, 0, 0, 0, 0, 0, 0, 0, 0, 0, 0, 0, 0, 0, 0, 0, 0, 0, 0, 0,\n",
       "       0, 0, 0])"
      ]
     },
     "execution_count": 35,
     "metadata": {},
     "output_type": "execute_result"
    }
   ],
   "source": [
    "nb=MultinomialNB().fit(X1_tfidf, training['class'])\n",
    "nb.predict(X1_predict)\n",
    "#Interestingly, the naive bayes model "
   ]
  },
  {
   "cell_type": "markdown",
   "metadata": {},
   "source": [
    ">* `Multinomial Naive Bayes` with `Tf-idf Vectorizer` did not classify the hate speech at all."
   ]
  },
  {
   "cell_type": "markdown",
   "metadata": {},
   "source": [
    ">* Let's train the `Support Vector Machine (SVM) classifier` with the `Tf-idf Vectorizer`"
   ]
  },
  {
   "cell_type": "code",
   "execution_count": 36,
   "metadata": {},
   "outputs": [
    {
     "data": {
      "text/plain": [
       "array([1, 1, 1, 1, 1, 1, 1, 0, 1, 0, 0, 0, 0, 1, 1, 0, 1, 0, 1, 1, 1, 1,\n",
       "       0, 1, 1, 0, 1, 1, 1, 1, 1, 1, 1, 1, 0, 1, 1, 1, 1, 1, 1, 1, 1, 0,\n",
       "       1, 1, 0, 1, 1, 1, 0, 1, 0, 1, 1, 0, 1, 0, 0, 0, 1, 0, 1, 1, 1, 1,\n",
       "       1, 0, 1, 1, 1, 1, 1, 0, 1, 1, 0, 0, 1, 1, 1, 0, 1, 1, 1, 1, 1, 0,\n",
       "       1, 0, 1])"
      ]
     },
     "execution_count": 36,
     "metadata": {},
     "output_type": "execute_result"
    }
   ],
   "source": [
    "svc=SVC(kernel='linear').fit(X1_tfidf, training['class'])\n",
    "svc.predict(X1_predict)"
   ]
  },
  {
   "cell_type": "code",
   "execution_count": 37,
   "metadata": {},
   "outputs": [],
   "source": [
    "index_numbers = [i for i, num in enumerate(svc.predict(X1_predict)) if num == 1]"
   ]
  },
  {
   "cell_type": "code",
   "execution_count": 38,
   "metadata": {},
   "outputs": [
    {
     "data": {
      "text/plain": [
       "65"
      ]
     },
     "execution_count": 38,
     "metadata": {},
     "output_type": "execute_result"
    }
   ],
   "source": [
    "len(index_numbers)\n",
    "#how many contents have been flagged as hate speech? 65"
   ]
  },
  {
   "cell_type": "code",
   "execution_count": 39,
   "metadata": {},
   "outputs": [
    {
     "data": {
      "text/plain": [
       "0     Folks may be our last posts. Pogilosi just ask...\n",
       "1     Oh notre they want to investigate something. L...\n",
       "2     White trash pieces of shit who are going to be...\n",
       "3     He has never lived in a totalitarian country; ...\n",
       "4     White trash pieces of shit who are going to be...\n",
       "                            ...                        \n",
       "84    I guess I missed the part where the Speaker of...\n",
       "85    Oh now they want to investigate something. Let...\n",
       "86    GRAHAM\\nHe begged us for money on Hannity and ...\n",
       "88    Investigation of fraudulent voting practices, ...\n",
       "90    White trash pieces of shit who are going to be...\n",
       "Name: body, Length: 65, dtype: object"
      ]
     },
     "execution_count": 39,
     "metadata": {},
     "output_type": "execute_result"
    }
   ],
   "source": [
    "content['body'].iloc[index_numbers]"
   ]
  },
  {
   "cell_type": "markdown",
   "metadata": {},
   "source": [
    ">* Let's train the `Logistic Regression (LR) classifier` with the `Tf-idf Vectorizer`"
   ]
  },
  {
   "cell_type": "code",
   "execution_count": 40,
   "metadata": {},
   "outputs": [
    {
     "data": {
      "text/plain": [
       "array([1, 1, 1, 1, 1, 1, 1, 1, 1, 0, 1, 1, 1, 1, 1, 1, 1, 1, 1, 1, 1, 1,\n",
       "       0, 1, 1, 1, 1, 1, 1, 1, 1, 1, 1, 1, 0, 1, 1, 1, 1, 1, 1, 1, 1, 0,\n",
       "       1, 1, 0, 1, 1, 1, 0, 1, 1, 1, 1, 1, 1, 0, 1, 0, 1, 0, 1, 1, 1, 1,\n",
       "       1, 0, 1, 1, 1, 1, 1, 1, 1, 1, 1, 0, 1, 1, 1, 1, 1, 1, 1, 1, 1, 0,\n",
       "       1, 0, 1])"
      ]
     },
     "execution_count": 40,
     "metadata": {},
     "output_type": "execute_result"
    }
   ],
   "source": [
    "lr=LogisticRegression().fit(X1_tfidf, training['class'])\n",
    "lr.predict(X1_predict)"
   ]
  },
  {
   "cell_type": "code",
   "execution_count": 41,
   "metadata": {},
   "outputs": [],
   "source": [
    "index_numbers = [i for i, num in enumerate(lr.predict(X1_predict)) if num == 1]"
   ]
  },
  {
   "cell_type": "code",
   "execution_count": 42,
   "metadata": {},
   "outputs": [
    {
     "data": {
      "text/plain": [
       "78"
      ]
     },
     "execution_count": 42,
     "metadata": {},
     "output_type": "execute_result"
    }
   ],
   "source": [
    "len(index_numbers)\n",
    "#how many contents have been flagged as hate speech? 78"
   ]
  },
  {
   "cell_type": "code",
   "execution_count": 43,
   "metadata": {},
   "outputs": [
    {
     "data": {
      "text/plain": [
       "0     Folks may be our last posts. Pogilosi just ask...\n",
       "1     Oh notre they want to investigate something. L...\n",
       "2     White trash pieces of shit who are going to be...\n",
       "3     He has never lived in a totalitarian country; ...\n",
       "4     White trash pieces of shit who are going to be...\n",
       "                            ...                        \n",
       "84    I guess I missed the part where the Speaker of...\n",
       "85    Oh now they want to investigate something. Let...\n",
       "86    GRAHAM\\nHe begged us for money on Hannity and ...\n",
       "88    Investigation of fraudulent voting practices, ...\n",
       "90    White trash pieces of shit who are going to be...\n",
       "Name: body, Length: 78, dtype: object"
      ]
     },
     "execution_count": 43,
     "metadata": {},
     "output_type": "execute_result"
    }
   ],
   "source": [
    "content['body'].iloc[index_numbers]"
   ]
  },
  {
   "cell_type": "markdown",
   "metadata": {},
   "source": [
    ">* We saw that different combinations of vectorizers and classifiers have different performance. Can we evaluate the performance of the classifier?"
   ]
  },
  {
   "cell_type": "markdown",
   "metadata": {},
   "source": [
    ">* If we want to evaluate the performance of the classifier, we need to have the annotated test dataset.\n",
    ">* Let's use the hate speech dataset from De Gibert et al. (2018)"
   ]
  },
  {
   "cell_type": "markdown",
   "metadata": {},
   "source": [
    ">* We have to split the entire annotated dataset into training and testing datasets\n"
   ]
  },
  {
   "cell_type": "code",
   "execution_count": 44,
   "metadata": {},
   "outputs": [],
   "source": [
    "from sklearn.model_selection import train_test_split\n",
    "from sklearn.metrics import accuracy_score, recall_score, precision_score, f1_score\n",
    "from sklearn import metrics"
   ]
  },
  {
   "cell_type": "markdown",
   "metadata": {},
   "source": [
    ">* Let's train the `Multinomial Naive Bayes classifier` with the `Unigram Count Vectorizer` and evaluate the performance"
   ]
  },
  {
   "cell_type": "code",
   "execution_count": 45,
   "metadata": {},
   "outputs": [],
   "source": [
    "unigram_count=unigram_count_vectorizer.fit_transform(training['text'])"
   ]
  },
  {
   "cell_type": "code",
   "execution_count": 46,
   "metadata": {},
   "outputs": [],
   "source": [
    "X_train, X_test, y_train, y_test=train_test_split(training['text'], training['class'], test_size=0.2, random_state=42)\n",
    "#usually 80% of the data is used for training and 20% for testing"
   ]
  },
  {
   "cell_type": "code",
   "execution_count": 47,
   "metadata": {},
   "outputs": [],
   "source": [
    "X_train_unigram=unigram_count_vectorizer.transform(X_train)\n",
    "X_test_unigram=unigram_count_vectorizer.transform(X_test)"
   ]
  },
  {
   "cell_type": "code",
   "execution_count": 48,
   "metadata": {},
   "outputs": [
    {
     "name": "stdout",
     "output_type": "stream",
     "text": [
      "              precision    recall  f1-score   support\n",
      "\n",
      "           0     0.9046    0.9654    0.9340      1906\n",
      "           1     0.3832    0.1745    0.2398       235\n",
      "\n",
      "    accuracy                         0.8786      2141\n",
      "   macro avg     0.6439    0.5699    0.5869      2141\n",
      "weighted avg     0.8474    0.8786    0.8578      2141\n",
      "\n"
     ]
    }
   ],
   "source": [
    "nb=MultinomialNB().fit(X_train_unigram, y_train)\n",
    "y_nb=nb.predict(X_test_unigram)\n",
    "print(metrics.classification_report(y_test, y_nb, digits=4))"
   ]
  },
  {
   "cell_type": "markdown",
   "metadata": {},
   "source": [
    ">* Let's train the `Support Vector Machine (SVM) classifier` with the `Unigram Count Vectorizer` and evaluate the performance"
   ]
  },
  {
   "cell_type": "code",
   "execution_count": 49,
   "metadata": {},
   "outputs": [
    {
     "name": "stdout",
     "output_type": "stream",
     "text": [
      "              precision    recall  f1-score   support\n",
      "\n",
      "           0     0.9287    0.9496    0.9390      1906\n",
      "           1     0.5000    0.4085    0.4496       235\n",
      "\n",
      "    accuracy                         0.8902      2141\n",
      "   macro avg     0.7143    0.6791    0.6943      2141\n",
      "weighted avg     0.8816    0.8902    0.8853      2141\n",
      "\n"
     ]
    }
   ],
   "source": [
    "svc=SVC(kernel='linear').fit(X_train_unigram, y_train)\n",
    "y_svc=svc.predict(X_test_unigram)\n",
    "print(metrics.classification_report(y_test, y_svc, digits=4))"
   ]
  },
  {
   "cell_type": "markdown",
   "metadata": {},
   "source": [
    ">* Lastly, let's train the `Logistic Regression (LR) classifier` with the `Unigram Count Vectorizer` and evaluate the performance"
   ]
  },
  {
   "cell_type": "code",
   "execution_count": 50,
   "metadata": {},
   "outputs": [
    {
     "name": "stdout",
     "output_type": "stream",
     "text": [
      "              precision    recall  f1-score   support\n",
      "\n",
      "           0     0.9197    0.9738    0.9460      1906\n",
      "           1     0.5935    0.3106    0.4078       235\n",
      "\n",
      "    accuracy                         0.9010      2141\n",
      "   macro avg     0.7566    0.6422    0.6769      2141\n",
      "weighted avg     0.8839    0.9010    0.8869      2141\n",
      "\n"
     ]
    },
    {
     "name": "stderr",
     "output_type": "stream",
     "text": [
      "/Users/mstudio/miniconda3/envs/is6750/lib/python3.8/site-packages/sklearn/linear_model/_logistic.py:460: ConvergenceWarning: lbfgs failed to converge (status=1):\n",
      "STOP: TOTAL NO. of ITERATIONS REACHED LIMIT.\n",
      "\n",
      "Increase the number of iterations (max_iter) or scale the data as shown in:\n",
      "    https://scikit-learn.org/stable/modules/preprocessing.html\n",
      "Please also refer to the documentation for alternative solver options:\n",
      "    https://scikit-learn.org/stable/modules/linear_model.html#logistic-regression\n",
      "  n_iter_i = _check_optimize_result(\n"
     ]
    }
   ],
   "source": [
    "lr=LogisticRegression().fit(X_train_unigram, y_train)\n",
    "y_lr=lr.predict(X_test_unigram)\n",
    "print(metrics.classification_report(y_test, y_lr, digits=4))"
   ]
  },
  {
   "cell_type": "markdown",
   "metadata": {},
   "source": [
    ">* We can also evaluate the performance of the classifiers with `Tf-idf Vectorizer`"
   ]
  },
  {
   "cell_type": "code",
   "execution_count": 51,
   "metadata": {},
   "outputs": [],
   "source": [
    "X_train_tfidf=tfidf_vectorizer.fit_transform(X_train)\n",
    "X_test_tfidf=tfidf_vectorizer.transform(X_test)"
   ]
  },
  {
   "cell_type": "markdown",
   "metadata": {},
   "source": [
    ">* Let's train the `Multinomial Naive Bayes classifier` with the `Tf-idf Vectorizer` and evaluate the performance"
   ]
  },
  {
   "cell_type": "code",
   "execution_count": 52,
   "metadata": {},
   "outputs": [
    {
     "name": "stdout",
     "output_type": "stream",
     "text": [
      "              precision    recall  f1-score   support\n",
      "\n",
      "           0     0.8902    1.0000    0.9419      1906\n",
      "           1     0.0000    0.0000    0.0000       235\n",
      "\n",
      "    accuracy                         0.8902      2141\n",
      "   macro avg     0.4451    0.5000    0.4710      2141\n",
      "weighted avg     0.7925    0.8902    0.8385      2141\n",
      "\n"
     ]
    },
    {
     "name": "stderr",
     "output_type": "stream",
     "text": [
      "/Users/mstudio/miniconda3/envs/is6750/lib/python3.8/site-packages/sklearn/metrics/_classification.py:1471: UndefinedMetricWarning: Precision and F-score are ill-defined and being set to 0.0 in labels with no predicted samples. Use `zero_division` parameter to control this behavior.\n",
      "  _warn_prf(average, modifier, msg_start, len(result))\n",
      "/Users/mstudio/miniconda3/envs/is6750/lib/python3.8/site-packages/sklearn/metrics/_classification.py:1471: UndefinedMetricWarning: Precision and F-score are ill-defined and being set to 0.0 in labels with no predicted samples. Use `zero_division` parameter to control this behavior.\n",
      "  _warn_prf(average, modifier, msg_start, len(result))\n",
      "/Users/mstudio/miniconda3/envs/is6750/lib/python3.8/site-packages/sklearn/metrics/_classification.py:1471: UndefinedMetricWarning: Precision and F-score are ill-defined and being set to 0.0 in labels with no predicted samples. Use `zero_division` parameter to control this behavior.\n",
      "  _warn_prf(average, modifier, msg_start, len(result))\n"
     ]
    }
   ],
   "source": [
    "nb=MultinomialNB().fit(X_train_tfidf, y_train)\n",
    "y_nb=nb.predict(X_test_tfidf)\n",
    "print(metrics.classification_report(y_test, y_nb, digits=4))"
   ]
  },
  {
   "cell_type": "markdown",
   "metadata": {},
   "source": [
    ">* Let's train the `Support Vector Machine (SVM) classifier` with the `Tf-idf Vectorizer` and evaluate the performance"
   ]
  },
  {
   "cell_type": "code",
   "execution_count": 53,
   "metadata": {},
   "outputs": [
    {
     "name": "stdout",
     "output_type": "stream",
     "text": [
      "              precision    recall  f1-score   support\n",
      "\n",
      "           0     0.9022    0.9969    0.9472      1906\n",
      "           1     0.8286    0.1234    0.2148       235\n",
      "\n",
      "    accuracy                         0.9010      2141\n",
      "   macro avg     0.8654    0.5601    0.5810      2141\n",
      "weighted avg     0.8941    0.9010    0.8668      2141\n",
      "\n"
     ]
    }
   ],
   "source": [
    "svc=SVC(kernel='linear').fit(X_train_tfidf, y_train)\n",
    "y_svc=svc.predict(X_test_tfidf)\n",
    "print(metrics.classification_report(y_test, y_svc, digits=4))"
   ]
  },
  {
   "cell_type": "markdown",
   "metadata": {},
   "source": [
    ">* Let's train the `Logistic Regression (LR) classifier` with the `Tf-idf Vectorizer` and evaluate the performance"
   ]
  },
  {
   "cell_type": "code",
   "execution_count": 54,
   "metadata": {},
   "outputs": [
    {
     "name": "stdout",
     "output_type": "stream",
     "text": [
      "              precision    recall  f1-score   support\n",
      "\n",
      "           0     0.8972    0.9979    0.9449      1906\n",
      "           1     0.8095    0.0723    0.1328       235\n",
      "\n",
      "    accuracy                         0.8963      2141\n",
      "   macro avg     0.8533    0.5351    0.5388      2141\n",
      "weighted avg     0.8875    0.8963    0.8557      2141\n",
      "\n"
     ]
    }
   ],
   "source": [
    "lr=LogisticRegression().fit(X_train_tfidf, y_train)\n",
    "y_lr=lr.predict(X_test_tfidf)\n",
    "print(metrics.classification_report(y_test, y_lr, digits=4))"
   ]
  },
  {
   "cell_type": "markdown",
   "metadata": {},
   "source": [
    ">Q. What do you think about the metrics of the classifiers? Do you think the metrics are good enough to explain the performance of the classifiers when applied to the unseen data?"
   ]
  },
  {
   "cell_type": "markdown",
   "metadata": {},
   "source": [
    ">* If we looked at the classification of binary classes, which are (1) hate speech or (2) non-hate speech, we can also measure the degree of toxicity of social media content."
   ]
  },
  {
   "cell_type": "markdown",
   "metadata": {},
   "source": [
    ">* Google's Perspective API provides a toxicity score for the text. The toxicity score is a value between 0 and 1, where 0 means not toxic and 1 means toxic.\n",
    ">* https://perspectiveapi.com/"
   ]
  },
  {
   "cell_type": "markdown",
   "metadata": {},
   "source": [
    ">* In order to use Perspective API, you need to have an access to the API key.\n",
    ">* You can request the API key by following the instructions in the link below\n",
    ">* https://developers.perspectiveapi.com/s/docs-enable-the-api?language=en_US"
   ]
  },
  {
   "cell_type": "markdown",
   "metadata": {},
   "source": [
    ">* We will need to install the `PyPerspective` package which is a Python wrapper for the Perspective API"
   ]
  },
  {
   "cell_type": "code",
   "execution_count": 55,
   "metadata": {},
   "outputs": [],
   "source": [
    "#!pip install PyPerspective\n",
    "from PyPerspective.Perspective import Perspective"
   ]
  },
  {
   "cell_type": "markdown",
   "metadata": {},
   "source": [
    ">* Among various attributes, we will use the `TOXICITY` and `IDENTITY_ATTACK` attributes to measure the toxicity of the text"
   ]
  },
  {
   "cell_type": "code",
   "execution_count": 56,
   "metadata": {},
   "outputs": [],
   "source": [
    "import time"
   ]
  },
  {
   "cell_type": "code",
   "execution_count": 57,
   "metadata": {},
   "outputs": [],
   "source": [
    "from PyPerspective.Perspective import Perspective\n",
    "perspective=Perspective(\"\", ratelimit=False, default_not_store=True)"
   ]
  },
  {
   "cell_type": "code",
   "execution_count": 61,
   "metadata": {},
   "outputs": [],
   "source": [
    "def tox_measure(df):\n",
    "    import time\n",
    "    toxicity_result=[]\n",
    "    identity_result=[]\n",
    "    for idx, row in df.iterrows():\n",
    "        try:\n",
    "            scores=perspective.get_score(row['body'], tests=['TOXICITY', 'IDENTITY_ATTACK'], langs=['en'])\n",
    "            toxicity_result.append(scores['TOXICITY'].score)\n",
    "            identity_result.append(scores['IDENTITY_ATTACK'].score)\n",
    "            time.sleep(2)\n",
    "            #print(idx)\n",
    "        except KeyError:\n",
    "            toxicity_result.append(0)\n",
    "            identity_result.append(0)\n",
    "            time.sleep(2)          \n",
    "# #             print(idx)\n",
    "    df['toxicity']=toxicity_result\n",
    "    df['identity']=identity_result"
   ]
  },
  {
   "cell_type": "code",
   "execution_count": 62,
   "metadata": {},
   "outputs": [
    {
     "name": "stderr",
     "output_type": "stream",
     "text": [
      "/var/folders/3_/r8z51q092v566bd_r0g_zj640000gn/T/ipykernel_2502/136488992.py:17: SettingWithCopyWarning: \n",
      "A value is trying to be set on a copy of a slice from a DataFrame.\n",
      "Try using .loc[row_indexer,col_indexer] = value instead\n",
      "\n",
      "See the caveats in the documentation: https://pandas.pydata.org/pandas-docs/stable/user_guide/indexing.html#returning-a-view-versus-a-copy\n",
      "  df['toxicity']=toxicity_result\n",
      "/var/folders/3_/r8z51q092v566bd_r0g_zj640000gn/T/ipykernel_2502/136488992.py:18: SettingWithCopyWarning: \n",
      "A value is trying to be set on a copy of a slice from a DataFrame.\n",
      "Try using .loc[row_indexer,col_indexer] = value instead\n",
      "\n",
      "See the caveats in the documentation: https://pandas.pydata.org/pandas-docs/stable/user_guide/indexing.html#returning-a-view-versus-a-copy\n",
      "  df['identity']=identity_result\n"
     ]
    }
   ],
   "source": [
    "tox_measure(content)"
   ]
  },
  {
   "cell_type": "code",
   "execution_count": 60,
   "metadata": {},
   "outputs": [
    {
     "data": {
      "text/html": [
       "<div>\n",
       "<style scoped>\n",
       "    .dataframe tbody tr th:only-of-type {\n",
       "        vertical-align: middle;\n",
       "    }\n",
       "\n",
       "    .dataframe tbody tr th {\n",
       "        vertical-align: top;\n",
       "    }\n",
       "\n",
       "    .dataframe thead th {\n",
       "        text-align: right;\n",
       "    }\n",
       "</style>\n",
       "<table border=\"1\" class=\"dataframe\">\n",
       "  <thead>\n",
       "    <tr style=\"text-align: right;\">\n",
       "      <th></th>\n",
       "      <th>body</th>\n",
       "      <th>username</th>\n",
       "      <th>toxicity</th>\n",
       "      <th>identity</th>\n",
       "    </tr>\n",
       "  </thead>\n",
       "  <tbody>\n",
       "    <tr>\n",
       "      <th>0</th>\n",
       "      <td>Folks may be our last posts. Pogilosi just ask...</td>\n",
       "      <td>Terryb158</td>\n",
       "      <td>0.292228</td>\n",
       "      <td>0.026610</td>\n",
       "    </tr>\n",
       "    <tr>\n",
       "      <th>1</th>\n",
       "      <td>Oh notre they want to investigate something. L...</td>\n",
       "      <td>AlanBond7</td>\n",
       "      <td>0.457579</td>\n",
       "      <td>0.010581</td>\n",
       "    </tr>\n",
       "    <tr>\n",
       "      <th>2</th>\n",
       "      <td>White trash pieces of shit who are going to be...</td>\n",
       "      <td>Tifdog11</td>\n",
       "      <td>0.950486</td>\n",
       "      <td>0.717202</td>\n",
       "    </tr>\n",
       "    <tr>\n",
       "      <th>3</th>\n",
       "      <td>He has never lived in a totalitarian country; ...</td>\n",
       "      <td>AlexaImmigrant</td>\n",
       "      <td>0.175451</td>\n",
       "      <td>0.015355</td>\n",
       "    </tr>\n",
       "    <tr>\n",
       "      <th>4</th>\n",
       "      <td>White trash pieces of shit who are going to be...</td>\n",
       "      <td>Tifdog11</td>\n",
       "      <td>0.950486</td>\n",
       "      <td>0.717202</td>\n",
       "    </tr>\n",
       "    <tr>\n",
       "      <th>...</th>\n",
       "      <td>...</td>\n",
       "      <td>...</td>\n",
       "      <td>...</td>\n",
       "      <td>...</td>\n",
       "    </tr>\n",
       "    <tr>\n",
       "      <th>86</th>\n",
       "      <td>GRAHAM\\nHe begged us for money on Hannity and ...</td>\n",
       "      <td>Millsfarms</td>\n",
       "      <td>0.394416</td>\n",
       "      <td>0.049511</td>\n",
       "    </tr>\n",
       "    <tr>\n",
       "      <th>87</th>\n",
       "      <td>Neither is election fraud.</td>\n",
       "      <td>xfitnesscoach</td>\n",
       "      <td>0.038520</td>\n",
       "      <td>0.002553</td>\n",
       "    </tr>\n",
       "    <tr>\n",
       "      <th>88</th>\n",
       "      <td>Investigation of fraudulent voting practices, ...</td>\n",
       "      <td>Bobbfishen</td>\n",
       "      <td>0.052553</td>\n",
       "      <td>0.003200</td>\n",
       "    </tr>\n",
       "    <tr>\n",
       "      <th>89</th>\n",
       "      <td>Why did Nunes recuse himself on the election f...</td>\n",
       "      <td>BarryOKenyan</td>\n",
       "      <td>0.075294</td>\n",
       "      <td>0.003644</td>\n",
       "    </tr>\n",
       "    <tr>\n",
       "      <th>90</th>\n",
       "      <td>White trash pieces of shit who are going to be...</td>\n",
       "      <td>Tifdog11</td>\n",
       "      <td>0.950486</td>\n",
       "      <td>0.717202</td>\n",
       "    </tr>\n",
       "  </tbody>\n",
       "</table>\n",
       "<p>91 rows × 4 columns</p>\n",
       "</div>"
      ],
      "text/plain": [
       "                                                 body        username  \\\n",
       "0   Folks may be our last posts. Pogilosi just ask...       Terryb158   \n",
       "1   Oh notre they want to investigate something. L...       AlanBond7   \n",
       "2   White trash pieces of shit who are going to be...        Tifdog11   \n",
       "3   He has never lived in a totalitarian country; ...  AlexaImmigrant   \n",
       "4   White trash pieces of shit who are going to be...        Tifdog11   \n",
       "..                                                ...             ...   \n",
       "86  GRAHAM\\nHe begged us for money on Hannity and ...      Millsfarms   \n",
       "87                         Neither is election fraud.   xfitnesscoach   \n",
       "88  Investigation of fraudulent voting practices, ...      Bobbfishen   \n",
       "89  Why did Nunes recuse himself on the election f...    BarryOKenyan   \n",
       "90  White trash pieces of shit who are going to be...        Tifdog11   \n",
       "\n",
       "    toxicity  identity  \n",
       "0   0.292228  0.026610  \n",
       "1   0.457579  0.010581  \n",
       "2   0.950486  0.717202  \n",
       "3   0.175451  0.015355  \n",
       "4   0.950486  0.717202  \n",
       "..       ...       ...  \n",
       "86  0.394416  0.049511  \n",
       "87  0.038520  0.002553  \n",
       "88  0.052553  0.003200  \n",
       "89  0.075294  0.003644  \n",
       "90  0.950486  0.717202  \n",
       "\n",
       "[91 rows x 4 columns]"
      ]
     },
     "execution_count": 60,
     "metadata": {},
     "output_type": "execute_result"
    }
   ],
   "source": [
    "content"
   ]
  },
  {
   "cell_type": "code",
   "execution_count": 63,
   "metadata": {},
   "outputs": [
    {
     "data": {
      "text/plain": [
       "count    91.000000\n",
       "mean      0.403556\n",
       "std       0.334644\n",
       "min       0.014639\n",
       "25%       0.122601\n",
       "50%       0.275254\n",
       "75%       0.712751\n",
       "max       0.950486\n",
       "Name: toxicity, dtype: float64"
      ]
     },
     "execution_count": 63,
     "metadata": {},
     "output_type": "execute_result"
    }
   ],
   "source": [
    "content['toxicity'].describe()"
   ]
  },
  {
   "cell_type": "code",
   "execution_count": 66,
   "metadata": {},
   "outputs": [
    {
     "data": {
      "text/plain": [
       "<Axes: ylabel='Frequency'>"
      ]
     },
     "execution_count": 66,
     "metadata": {},
     "output_type": "execute_result"
    },
    {
     "data": {
      "image/png": "[encoded data removed]",
      "text/plain": [
       "<Figure size 640x480 with 1 Axes>"
      ]
     },
     "metadata": {},
     "output_type": "display_data"
    }
   ],
   "source": [
    "content.plot.hist(y='toxicity', bins=10, alpha=0.5)"
   ]
  },
  {
   "cell_type": "code",
   "execution_count": 67,
   "metadata": {},
   "outputs": [
    {
     "data": {
      "text/html": [
       "<div>\n",
       "<style scoped>\n",
       "    .dataframe tbody tr th:only-of-type {\n",
       "        vertical-align: middle;\n",
       "    }\n",
       "\n",
       "    .dataframe tbody tr th {\n",
       "        vertical-align: top;\n",
       "    }\n",
       "\n",
       "    .dataframe thead th {\n",
       "        text-align: right;\n",
       "    }\n",
       "</style>\n",
       "<table border=\"1\" class=\"dataframe\">\n",
       "  <thead>\n",
       "    <tr style=\"text-align: right;\">\n",
       "      <th></th>\n",
       "      <th>body</th>\n",
       "      <th>username</th>\n",
       "      <th>toxicity</th>\n",
       "      <th>identity</th>\n",
       "    </tr>\n",
       "  </thead>\n",
       "  <tbody>\n",
       "    <tr>\n",
       "      <th>2</th>\n",
       "      <td>White trash pieces of shit who are going to be...</td>\n",
       "      <td>Tifdog11</td>\n",
       "      <td>0.950486</td>\n",
       "      <td>0.717202</td>\n",
       "    </tr>\n",
       "    <tr>\n",
       "      <th>4</th>\n",
       "      <td>White trash pieces of shit who are going to be...</td>\n",
       "      <td>Tifdog11</td>\n",
       "      <td>0.950486</td>\n",
       "      <td>0.717202</td>\n",
       "    </tr>\n",
       "    <tr>\n",
       "      <th>6</th>\n",
       "      <td>White trash pieces of shit who are going to be...</td>\n",
       "      <td>Tifdog11</td>\n",
       "      <td>0.950486</td>\n",
       "      <td>0.717202</td>\n",
       "    </tr>\n",
       "    <tr>\n",
       "      <th>19</th>\n",
       "      <td>White trash pieces of shit who are going to be...</td>\n",
       "      <td>Tifdog11</td>\n",
       "      <td>0.950486</td>\n",
       "      <td>0.717202</td>\n",
       "    </tr>\n",
       "    <tr>\n",
       "      <th>29</th>\n",
       "      <td>White trash pieces of shit who are going to be...</td>\n",
       "      <td>Tifdog11</td>\n",
       "      <td>0.950486</td>\n",
       "      <td>0.717202</td>\n",
       "    </tr>\n",
       "    <tr>\n",
       "      <th>32</th>\n",
       "      <td>White trash pieces of shit who are going to be...</td>\n",
       "      <td>Tifdog11</td>\n",
       "      <td>0.950486</td>\n",
       "      <td>0.717202</td>\n",
       "    </tr>\n",
       "    <tr>\n",
       "      <th>33</th>\n",
       "      <td>White trash pieces of shit who are going to be...</td>\n",
       "      <td>Tifdog11</td>\n",
       "      <td>0.950486</td>\n",
       "      <td>0.717202</td>\n",
       "    </tr>\n",
       "    <tr>\n",
       "      <th>36</th>\n",
       "      <td>White trash pieces of shit who are going to be...</td>\n",
       "      <td>Tifdog11</td>\n",
       "      <td>0.950486</td>\n",
       "      <td>0.717202</td>\n",
       "    </tr>\n",
       "    <tr>\n",
       "      <th>44</th>\n",
       "      <td>White trash pieces of shit who are going to be...</td>\n",
       "      <td>Tifdog11</td>\n",
       "      <td>0.950486</td>\n",
       "      <td>0.717202</td>\n",
       "    </tr>\n",
       "    <tr>\n",
       "      <th>49</th>\n",
       "      <td>White trash pieces of shit who are going to be...</td>\n",
       "      <td>Tifdog11</td>\n",
       "      <td>0.950486</td>\n",
       "      <td>0.717202</td>\n",
       "    </tr>\n",
       "    <tr>\n",
       "      <th>53</th>\n",
       "      <td>White trash pieces of shit who are going to be...</td>\n",
       "      <td>Tifdog11</td>\n",
       "      <td>0.950486</td>\n",
       "      <td>0.717202</td>\n",
       "    </tr>\n",
       "    <tr>\n",
       "      <th>60</th>\n",
       "      <td>White trash pieces of shit who are going to be...</td>\n",
       "      <td>Tifdog11</td>\n",
       "      <td>0.950486</td>\n",
       "      <td>0.717202</td>\n",
       "    </tr>\n",
       "    <tr>\n",
       "      <th>65</th>\n",
       "      <td>White trash pieces of shit who are going to be...</td>\n",
       "      <td>Tifdog11</td>\n",
       "      <td>0.950486</td>\n",
       "      <td>0.717202</td>\n",
       "    </tr>\n",
       "    <tr>\n",
       "      <th>66</th>\n",
       "      <td>@HonyBadger White trash pieces of shit who are...</td>\n",
       "      <td>Tifdog11</td>\n",
       "      <td>0.916254</td>\n",
       "      <td>0.600718</td>\n",
       "    </tr>\n",
       "    <tr>\n",
       "      <th>68</th>\n",
       "      <td>White trash pieces of shit who are going to be...</td>\n",
       "      <td>Tifdog11</td>\n",
       "      <td>0.950486</td>\n",
       "      <td>0.717202</td>\n",
       "    </tr>\n",
       "    <tr>\n",
       "      <th>75</th>\n",
       "      <td>White trash pieces of shit who are going to be...</td>\n",
       "      <td>Tifdog11</td>\n",
       "      <td>0.950486</td>\n",
       "      <td>0.717202</td>\n",
       "    </tr>\n",
       "    <tr>\n",
       "      <th>80</th>\n",
       "      <td>White trash pieces of shit who are going to be...</td>\n",
       "      <td>Tifdog11</td>\n",
       "      <td>0.950486</td>\n",
       "      <td>0.717202</td>\n",
       "    </tr>\n",
       "    <tr>\n",
       "      <th>83</th>\n",
       "      <td>White trash pieces of shit who are going to be...</td>\n",
       "      <td>Tifdog11</td>\n",
       "      <td>0.950486</td>\n",
       "      <td>0.717202</td>\n",
       "    </tr>\n",
       "    <tr>\n",
       "      <th>90</th>\n",
       "      <td>White trash pieces of shit who are going to be...</td>\n",
       "      <td>Tifdog11</td>\n",
       "      <td>0.950486</td>\n",
       "      <td>0.717202</td>\n",
       "    </tr>\n",
       "  </tbody>\n",
       "</table>\n",
       "</div>"
      ],
      "text/plain": [
       "                                                 body  username  toxicity  \\\n",
       "2   White trash pieces of shit who are going to be...  Tifdog11  0.950486   \n",
       "4   White trash pieces of shit who are going to be...  Tifdog11  0.950486   \n",
       "6   White trash pieces of shit who are going to be...  Tifdog11  0.950486   \n",
       "19  White trash pieces of shit who are going to be...  Tifdog11  0.950486   \n",
       "29  White trash pieces of shit who are going to be...  Tifdog11  0.950486   \n",
       "32  White trash pieces of shit who are going to be...  Tifdog11  0.950486   \n",
       "33  White trash pieces of shit who are going to be...  Tifdog11  0.950486   \n",
       "36  White trash pieces of shit who are going to be...  Tifdog11  0.950486   \n",
       "44  White trash pieces of shit who are going to be...  Tifdog11  0.950486   \n",
       "49  White trash pieces of shit who are going to be...  Tifdog11  0.950486   \n",
       "53  White trash pieces of shit who are going to be...  Tifdog11  0.950486   \n",
       "60  White trash pieces of shit who are going to be...  Tifdog11  0.950486   \n",
       "65  White trash pieces of shit who are going to be...  Tifdog11  0.950486   \n",
       "66  @HonyBadger White trash pieces of shit who are...  Tifdog11  0.916254   \n",
       "68  White trash pieces of shit who are going to be...  Tifdog11  0.950486   \n",
       "75  White trash pieces of shit who are going to be...  Tifdog11  0.950486   \n",
       "80  White trash pieces of shit who are going to be...  Tifdog11  0.950486   \n",
       "83  White trash pieces of shit who are going to be...  Tifdog11  0.950486   \n",
       "90  White trash pieces of shit who are going to be...  Tifdog11  0.950486   \n",
       "\n",
       "    identity  \n",
       "2   0.717202  \n",
       "4   0.717202  \n",
       "6   0.717202  \n",
       "19  0.717202  \n",
       "29  0.717202  \n",
       "32  0.717202  \n",
       "33  0.717202  \n",
       "36  0.717202  \n",
       "44  0.717202  \n",
       "49  0.717202  \n",
       "53  0.717202  \n",
       "60  0.717202  \n",
       "65  0.717202  \n",
       "66  0.600718  \n",
       "68  0.717202  \n",
       "75  0.717202  \n",
       "80  0.717202  \n",
       "83  0.717202  \n",
       "90  0.717202  "
      ]
     },
     "execution_count": 67,
     "metadata": {},
     "output_type": "execute_result"
    }
   ],
   "source": [
    "content[content['toxicity']>0.9]"
   ]
  },
  {
   "cell_type": "code",
   "execution_count": 70,
   "metadata": {},
   "outputs": [
    {
     "name": "stdout",
     "output_type": "stream",
     "text": [
      "('White trash pieces of shit who are going to be investigated for inciting a '\n",
      " 'riot, sedition and conspiracy to commit election fraud. Go fuck yourselves. '\n",
      " 'Weâ€™re gonna take away your secret service protection, then letâ€™s see how '\n",
      " 'brave you are, you short dick cheap fuck. Just like that fat piece of shit '\n",
      " 'your Dad is. I hope you share a cell with a HUGE black guy who treats you '\n",
      " 'like every animal youâ€™ve killed. We will all laugh. Go suck you off Putin '\n",
      " 'so you have a place to escape to, you fucking loser. '\n",
      " 'ðŸ’©ðŸ–•ðŸ\\x8f»ðŸ–•ðŸ\\x8f»ðŸ–•ðŸ\\x8f»ðŸ–•ðŸ\\x8f»ðŸ–•ðŸ\\x8f»ðŸ–•ðŸ\\x8f»ðŸ–•ðŸ\\x8f»ðŸ–•ðŸ\\x8f»ðŸ–•ðŸ\\x8f»ðŸ–•ðŸ\\x8f»ðŸ–•ðŸ\\x8f»')\n"
     ]
    }
   ],
   "source": [
    "pprint(content.iloc[2]['body'])"
   ]
  },
  {
   "cell_type": "markdown",
   "metadata": {},
   "source": [
    ">* Q. Which one do you think works better for finding the hate speech? The Perspective API or the classifiers trained with the annotated dataset?"
   ]
  }
 ],
 "metadata": {
  "kernelspec": {
   "display_name": "is6750",
   "language": "python",
   "name": "python3"
  },
  "language_info": {
   "codemirror_mode": {
    "name": "ipython",
    "version": 3
   },
   "file_extension": ".py",
   "mimetype": "text/x-python",
   "name": "python",
   "nbconvert_exporter": "python",
   "pygments_lexer": "ipython3",
   "version": "3.8.19"
  }
 },
 "nbformat": 4,
 "nbformat_minor": 2
}
