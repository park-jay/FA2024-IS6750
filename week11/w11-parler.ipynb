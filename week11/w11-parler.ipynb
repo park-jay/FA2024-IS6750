{
 "cells": [
  {
   "cell_type": "code",
   "execution_count": 5,
   "metadata": {},
   "outputs": [],
   "source": [
    "import pandas as pd\n",
    "import re\n",
    "import networkx as nx"
   ]
  },
  {
   "cell_type": "markdown",
   "metadata": {},
   "source": [
    ">* We are going to use a larger dataset for Parler data to build edges between users. "
   ]
  },
  {
   "cell_type": "code",
   "execution_count": 6,
   "metadata": {},
   "outputs": [],
   "source": [
    "data=pd.read_csv('subset-2021-01-10-voter_fraud.csv', encoding='latin1')"
   ]
  },
  {
   "cell_type": "code",
   "execution_count": 7,
   "metadata": {},
   "outputs": [
    {
     "data": {
      "text/plain": [
       "Index(['article', 'body', 'bodywithurls', 'comments', 'createdAt',\n",
       "       'createdAtformatted', 'creator', 'datatype', 'depth', 'depthRaw',\n",
       "       ...\n",
       "       'urls.15.createdAt', 'urls.15.domain', 'urls.15.id', 'urls.15.long',\n",
       "       'urls.15.metadata.length', 'urls.15.metadata.mimeType',\n",
       "       'urls.15.metadata.site', 'urls.15.modified', 'urls.15.short',\n",
       "       'urls.15.state'],\n",
       "      dtype='object', length=420)"
      ]
     },
     "execution_count": 7,
     "metadata": {},
     "output_type": "execute_result"
    }
   ],
   "source": [
    "data.columns"
   ]
  },
  {
   "cell_type": "markdown",
   "metadata": {},
   "source": [
    ">* Let's subset the DataFrame to have only the columns we need. \n",
    ">* We will subset `body` and `username` columns from the DataFrame."
   ]
  },
  {
   "cell_type": "code",
   "execution_count": 8,
   "metadata": {},
   "outputs": [],
   "source": [
    "content=data[['body', 'username']]"
   ]
  },
  {
   "cell_type": "markdown",
   "metadata": {},
   "source": [
    ">* With this DataFrame, we want to extract the users mentioned in the `body` column."
   ]
  }
 ],
 "metadata": {
  "kernelspec": {
   "display_name": "is6750",
   "language": "python",
   "name": "python3"
  },
  "language_info": {
   "codemirror_mode": {
    "name": "ipython",
    "version": 3
   },
   "file_extension": ".py",
   "mimetype": "text/x-python",
   "name": "python",
   "nbconvert_exporter": "python",
   "pygments_lexer": "ipython3",
   "version": "3.8.19"
  }
 },
 "nbformat": 4,
 "nbformat_minor": 2
}
