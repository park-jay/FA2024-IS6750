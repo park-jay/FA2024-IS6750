{
 "cells": [
  {
   "cell_type": "markdown",
   "metadata": {},
   "source": [
    ">* We learned how to count N-grams (i.e., sequences of N words such as unigrams (N=1) and bigrams (N=2)) by tokenizing the text.\n",
    ">* But we faced a problem of counting N-grams when there are unnecessary or meaningless tokens after tokenization.\n",
    ">* Therefore, we needed a further processing to remove stopwords (i.e., function words) and punctuations. \n",
    ">* The last step was to convert the text into lemma form (i.e., the base form of words) to avoid the duplication of the same word with different forms. For instance, 'running' and 'ran' are converted into 'run' because they have the same meaning."
   ]
  },
  {
   "cell_type": "markdown",
   "metadata": {},
   "source": [
    ">* In this week, we will learn topic modeling, one of the unsupervised learning techniques, to extract topics from the text. \n",
    ">* Topic modeling is a type of statistical model to discover abstract topics that occur in a collection of documents. \n",
    ">* We will use the Latent Dirichlet Allocation (LDA) model, one of the most popular topic modeling techniques. "
   ]
  },
  {
   "cell_type": "code",
   "execution_count": 1,
   "metadata": {},
   "outputs": [],
   "source": [
    "import pandas as pd\n",
    "import nltk\n",
    "from nltk.tokenize import word_tokenize\n",
    "from nltk.corpus import stopwords"
   ]
  },
  {
   "cell_type": "markdown",
   "metadata": {},
   "source": [
    ">* We are going to use the `nltk' library for tokenization and stopwords removal.\n",
    ">* We will use the `gensim' library for topic modeling. "
   ]
  },
  {
   "cell_type": "markdown",
   "metadata": {},
   "source": [
    ">* Let's import the data from week 3."
   ]
  },
  {
   "cell_type": "code",
   "execution_count": 2,
   "metadata": {},
   "outputs": [],
   "source": [
    "data=pd.read_csv('../week3/Political-media-DFE.csv', encoding='latin1')"
   ]
  },
  {
   "cell_type": "code",
   "execution_count": 3,
   "metadata": {},
   "outputs": [
    {
     "data": {
      "text/plain": [
       "Index(['_unit_id', '_golden', '_unit_state', '_trusted_judgments',\n",
       "       '_last_judgment_at', 'audience', 'audience:confidence', 'bias',\n",
       "       'bias:confidence', 'message', 'message:confidence', 'orig__golden',\n",
       "       'audience_gold', 'bias_gold', 'bioid', 'embed', 'id', 'label',\n",
       "       'message_gold', 'source', 'text'],\n",
       "      dtype='object')"
      ]
     },
     "execution_count": 3,
     "metadata": {},
     "output_type": "execute_result"
    }
   ],
   "source": [
    "data.columns"
   ]
  },
  {
   "cell_type": "code",
   "execution_count": 4,
   "metadata": {},
   "outputs": [
    {
     "data": {
      "text/plain": [
       "_unit_id                 int64\n",
       "_golden                   bool\n",
       "_unit_state             object\n",
       "_trusted_judgments       int64\n",
       "_last_judgment_at       object\n",
       "audience                object\n",
       "audience:confidence    float64\n",
       "bias                    object\n",
       "bias:confidence        float64\n",
       "message                 object\n",
       "message:confidence     float64\n",
       "orig__golden           float64\n",
       "audience_gold          float64\n",
       "bias_gold              float64\n",
       "bioid                   object\n",
       "embed                   object\n",
       "id                      object\n",
       "label                   object\n",
       "message_gold           float64\n",
       "source                  object\n",
       "text                    object\n",
       "dtype: object"
      ]
     },
     "execution_count": 4,
     "metadata": {},
     "output_type": "execute_result"
    }
   ],
   "source": [
    "data.dtypes"
   ]
  },
  {
   "cell_type": "markdown",
   "metadata": {},
   "source": [
    ">* `dtypes' is used to check the data type of each column."
   ]
  },
  {
   "cell_type": "markdown",
   "metadata": {},
   "source": [
    ">* Let's subset the data to have who posted, where they posed (social media platform), and what they posted."
   ]
  },
  {
   "cell_type": "code",
   "execution_count": 5,
   "metadata": {},
   "outputs": [],
   "source": [
    "content=data[['label', 'source', 'text']]"
   ]
  },
  {
   "cell_type": "code",
   "execution_count": 6,
   "metadata": {},
   "outputs": [
    {
     "data": {
      "text/html": [
       "<div>\n",
       "<style scoped>\n",
       "    .dataframe tbody tr th:only-of-type {\n",
       "        vertical-align: middle;\n",
       "    }\n",
       "\n",
       "    .dataframe tbody tr th {\n",
       "        vertical-align: top;\n",
       "    }\n",
       "\n",
       "    .dataframe thead th {\n",
       "        text-align: right;\n",
       "    }\n",
       "</style>\n",
       "<table border=\"1\" class=\"dataframe\">\n",
       "  <thead>\n",
       "    <tr style=\"text-align: right;\">\n",
       "      <th></th>\n",
       "      <th>label</th>\n",
       "      <th>source</th>\n",
       "      <th>text</th>\n",
       "    </tr>\n",
       "  </thead>\n",
       "  <tbody>\n",
       "    <tr>\n",
       "      <th>0</th>\n",
       "      <td>From: Trey Radel (Representative from Florida)</td>\n",
       "      <td>twitter</td>\n",
       "      <td>RT @nowthisnews: Rep. Trey Radel (R- #FL) slam...</td>\n",
       "    </tr>\n",
       "    <tr>\n",
       "      <th>1</th>\n",
       "      <td>From: Mitch McConnell (Senator from Kentucky)</td>\n",
       "      <td>twitter</td>\n",
       "      <td>VIDEO - #Obamacare:  Full of Higher Costs and ...</td>\n",
       "    </tr>\n",
       "    <tr>\n",
       "      <th>2</th>\n",
       "      <td>From: Kurt Schrader (Representative from Oregon)</td>\n",
       "      <td>twitter</td>\n",
       "      <td>Please join me today in remembering our fallen...</td>\n",
       "    </tr>\n",
       "    <tr>\n",
       "      <th>3</th>\n",
       "      <td>From: Michael Crapo (Senator from Idaho)</td>\n",
       "      <td>twitter</td>\n",
       "      <td>RT @SenatorLeahy: 1st step toward Senate debat...</td>\n",
       "    </tr>\n",
       "    <tr>\n",
       "      <th>4</th>\n",
       "      <td>From: Mark Udall (Senator from Colorado)</td>\n",
       "      <td>twitter</td>\n",
       "      <td>.@amazon delivery #drones show need to update ...</td>\n",
       "    </tr>\n",
       "    <tr>\n",
       "      <th>...</th>\n",
       "      <td>...</td>\n",
       "      <td>...</td>\n",
       "      <td>...</td>\n",
       "    </tr>\n",
       "    <tr>\n",
       "      <th>4995</th>\n",
       "      <td>From: Ted Yoho (Representative from Florida)</td>\n",
       "      <td>facebook</td>\n",
       "      <td>I applaud Governor PerryÛªs recent decision t...</td>\n",
       "    </tr>\n",
       "    <tr>\n",
       "      <th>4996</th>\n",
       "      <td>From: Ted Yoho (Representative from Florida)</td>\n",
       "      <td>facebook</td>\n",
       "      <td>Today, I voted in favor of H.R. 5016 - Financi...</td>\n",
       "    </tr>\n",
       "    <tr>\n",
       "      <th>4997</th>\n",
       "      <td>From: Ted Yoho (Representative from Florida)</td>\n",
       "      <td>facebook</td>\n",
       "      <td>(Taken from posted WOKV interview)   Congressm...</td>\n",
       "    </tr>\n",
       "    <tr>\n",
       "      <th>4998</th>\n",
       "      <td>From: Ted Yoho (Representative from Florida)</td>\n",
       "      <td>facebook</td>\n",
       "      <td>Join me next week for a town hall in Ocala! I'...</td>\n",
       "    </tr>\n",
       "    <tr>\n",
       "      <th>4999</th>\n",
       "      <td>From: Ted Yoho (Representative from Florida)</td>\n",
       "      <td>facebook</td>\n",
       "      <td>Foreign Affairs Committee Hearing on Syria. I ...</td>\n",
       "    </tr>\n",
       "  </tbody>\n",
       "</table>\n",
       "<p>5000 rows × 3 columns</p>\n",
       "</div>"
      ],
      "text/plain": [
       "                                                 label    source  \\\n",
       "0       From: Trey Radel (Representative from Florida)   twitter   \n",
       "1        From: Mitch McConnell (Senator from Kentucky)   twitter   \n",
       "2     From: Kurt Schrader (Representative from Oregon)   twitter   \n",
       "3             From: Michael Crapo (Senator from Idaho)   twitter   \n",
       "4             From: Mark Udall (Senator from Colorado)   twitter   \n",
       "...                                                ...       ...   \n",
       "4995      From: Ted Yoho (Representative from Florida)  facebook   \n",
       "4996      From: Ted Yoho (Representative from Florida)  facebook   \n",
       "4997      From: Ted Yoho (Representative from Florida)  facebook   \n",
       "4998      From: Ted Yoho (Representative from Florida)  facebook   \n",
       "4999      From: Ted Yoho (Representative from Florida)  facebook   \n",
       "\n",
       "                                                   text  \n",
       "0     RT @nowthisnews: Rep. Trey Radel (R- #FL) slam...  \n",
       "1     VIDEO - #Obamacare:  Full of Higher Costs and ...  \n",
       "2     Please join me today in remembering our fallen...  \n",
       "3     RT @SenatorLeahy: 1st step toward Senate debat...  \n",
       "4     .@amazon delivery #drones show need to update ...  \n",
       "...                                                 ...  \n",
       "4995  I applaud Governor PerryÛªs recent decision t...  \n",
       "4996  Today, I voted in favor of H.R. 5016 - Financi...  \n",
       "4997  (Taken from posted WOKV interview)   Congressm...  \n",
       "4998  Join me next week for a town hall in Ocala! I'...  \n",
       "4999  Foreign Affairs Committee Hearing on Syria. I ...  \n",
       "\n",
       "[5000 rows x 3 columns]"
      ]
     },
     "execution_count": 6,
     "metadata": {},
     "output_type": "execute_result"
    }
   ],
   "source": [
    "content"
   ]
  },
  {
   "cell_type": "markdown",
   "metadata": {},
   "source": [
    ">* Let's print out the text data in the first row."
   ]
  },
  {
   "cell_type": "code",
   "execution_count": 7,
   "metadata": {},
   "outputs": [
    {
     "data": {
      "text/plain": [
       "'RT @nowthisnews: Rep. Trey Radel (R- #FL) slams #Obamacare. #politics https://t.co/zvywMG8yIH'"
      ]
     },
     "execution_count": 7,
     "metadata": {},
     "output_type": "execute_result"
    }
   ],
   "source": [
    "content['text'].iloc[0]"
   ]
  },
  {
   "cell_type": "markdown",
   "metadata": {},
   "source": [
    ">* If you want to check the text data in the fifth row, you can use `df['text'][4]`."
   ]
  },
  {
   "cell_type": "code",
   "execution_count": 8,
   "metadata": {},
   "outputs": [
    {
     "data": {
      "text/plain": [
       "'.@amazon delivery #drones show need to update law to promote #innovation &amp; protect #privacy. My #UAS bill does that: http://t.co/l9ta5SKq6u'"
      ]
     },
     "execution_count": 8,
     "metadata": {},
     "output_type": "execute_result"
    }
   ],
   "source": [
    "content['text'].iloc[4]"
   ]
  },
  {
   "cell_type": "markdown",
   "metadata": {},
   "source": [
    ">* Let's clean the data for LDA."
   ]
  },
  {
   "cell_type": "markdown",
   "metadata": {},
   "source": [
    ">* First step is to lowercase the text data."
   ]
  },
  {
   "cell_type": "code",
   "execution_count": 9,
   "metadata": {},
   "outputs": [
    {
     "name": "stderr",
     "output_type": "stream",
     "text": [
      "/var/folders/3_/r8z51q092v566bd_r0g_zj640000gn/T/ipykernel_5352/2949361602.py:1: SettingWithCopyWarning: \n",
      "A value is trying to be set on a copy of a slice from a DataFrame.\n",
      "Try using .loc[row_indexer,col_indexer] = value instead\n",
      "\n",
      "See the caveats in the documentation: https://pandas.pydata.org/pandas-docs/stable/user_guide/indexing.html#returning-a-view-versus-a-copy\n",
      "  content['text-lower']=content['text'].str.lower()\n"
     ]
    }
   ],
   "source": [
    "content['text-lower']=content['text'].str.lower()"
   ]
  },
  {
   "cell_type": "code",
   "execution_count": 10,
   "metadata": {},
   "outputs": [
    {
     "data": {
      "text/plain": [
       "'RT @nowthisnews: Rep. Trey Radel (R- #FL) slams #Obamacare. #politics https://t.co/zvywMG8yIH'"
      ]
     },
     "execution_count": 10,
     "metadata": {},
     "output_type": "execute_result"
    }
   ],
   "source": [
    "content['text'].iloc[0]"
   ]
  },
  {
   "cell_type": "code",
   "execution_count": 11,
   "metadata": {},
   "outputs": [
    {
     "data": {
      "text/plain": [
       "'rt @nowthisnews: rep. trey radel (r- #fl) slams #obamacare. #politics https://t.co/zvywmg8yih'"
      ]
     },
     "execution_count": 11,
     "metadata": {},
     "output_type": "execute_result"
    }
   ],
   "source": [
    "content['text-lower'].iloc[0]"
   ]
  },
  {
   "cell_type": "markdown",
   "metadata": {},
   "source": [
    "> * We can seperate the entire contents into tokens (words, hashtags, mentions, etc.).\n",
    "> * Seperating the contents into tokens is called tokenization.\n",
    "> * We can use the `word_tokenize` function from the `nltk` library to tokenize the contents.\n",
    "> * There is also a `TweetTokenizer` function in the `nltk` library that is specifically for tweets."
   ]
  },
  {
   "cell_type": "markdown",
   "metadata": {},
   "source": [
    "> * `.apply` is used to apply a function to a column. You don't have to use a for loop to apply a function to each row."
   ]
  },
  {
   "cell_type": "markdown",
   "metadata": {},
   "source": [
    "> * There are two ways to tokenize the contents. One is to use `apply()` function to tokenize the lowercased text. \n",
    "> * `apply()` function allows you to apply a function along the axis of a DataFrame.\n",
    "> * Another way is to iterate through the lowercased text and tokenize each content."
   ]
  },
  {
   "cell_type": "code",
   "execution_count": 12,
   "metadata": {},
   "outputs": [
    {
     "name": "stderr",
     "output_type": "stream",
     "text": [
      "/var/folders/3_/r8z51q092v566bd_r0g_zj640000gn/T/ipykernel_5352/2884168308.py:1: SettingWithCopyWarning: \n",
      "A value is trying to be set on a copy of a slice from a DataFrame.\n",
      "Try using .loc[row_indexer,col_indexer] = value instead\n",
      "\n",
      "See the caveats in the documentation: https://pandas.pydata.org/pandas-docs/stable/user_guide/indexing.html#returning-a-view-versus-a-copy\n",
      "  content['tokenized_unigrams']=content['text-lower'].apply(word_tokenize)\n"
     ]
    }
   ],
   "source": [
    "content['tokenized_unigrams']=content['text-lower'].apply(word_tokenize)"
   ]
  },
  {
   "cell_type": "code",
   "execution_count": 13,
   "metadata": {},
   "outputs": [],
   "source": [
    "iterated_unigrams=[]\n",
    "for idx, row in content.iterrows():\n",
    "    iterated_unigrams.append(word_tokenize(row['text-lower']))"
   ]
  },
  {
   "cell_type": "code",
   "execution_count": 14,
   "metadata": {},
   "outputs": [
    {
     "name": "stderr",
     "output_type": "stream",
     "text": [
      "/var/folders/3_/r8z51q092v566bd_r0g_zj640000gn/T/ipykernel_5352/1711205816.py:1: SettingWithCopyWarning: \n",
      "A value is trying to be set on a copy of a slice from a DataFrame.\n",
      "Try using .loc[row_indexer,col_indexer] = value instead\n",
      "\n",
      "See the caveats in the documentation: https://pandas.pydata.org/pandas-docs/stable/user_guide/indexing.html#returning-a-view-versus-a-copy\n",
      "  content['iterated_unigrams']=iterated_unigrams\n"
     ]
    }
   ],
   "source": [
    "content['iterated_unigrams']=iterated_unigrams"
   ]
  },
  {
   "cell_type": "markdown",
   "metadata": {},
   "source": [
    "> * The results of iterating through each row and applying the `word_tokenize` function is a list of lists are identical."
   ]
  },
  {
   "cell_type": "code",
   "execution_count": 15,
   "metadata": {},
   "outputs": [
    {
     "data": {
      "text/plain": [
       "True"
      ]
     },
     "execution_count": 15,
     "metadata": {},
     "output_type": "execute_result"
    }
   ],
   "source": [
    "content.loc[0,'iterated_unigrams'] == content.loc[0,'tokenized_unigrams']"
   ]
  },
  {
   "cell_type": "markdown",
   "metadata": {},
   "source": [
    "> * In the `nltk` library, there is a list of stopwords (function words) that we can use to remove from the contents."
   ]
  },
  {
   "cell_type": "code",
   "execution_count": 16,
   "metadata": {},
   "outputs": [],
   "source": [
    "stop=stopwords.words('english')"
   ]
  },
  {
   "cell_type": "code",
   "execution_count": 17,
   "metadata": {},
   "outputs": [
    {
     "data": {
      "text/plain": [
       "['me', 'my', 'myself', 'we', 'our', 'ours', 'ourselves', 'you', \"you're\"]"
      ]
     },
     "execution_count": 17,
     "metadata": {},
     "output_type": "execute_result"
    }
   ],
   "source": [
    "stop[1:10] #use slice to show only the first 10 stopwords"
   ]
  },
  {
   "cell_type": "code",
   "execution_count": 18,
   "metadata": {},
   "outputs": [
    {
     "data": {
      "text/plain": [
       "['shouldn',\n",
       " \"shouldn't\",\n",
       " 'wasn',\n",
       " \"wasn't\",\n",
       " 'weren',\n",
       " \"weren't\",\n",
       " 'won',\n",
       " \"won't\",\n",
       " 'wouldn',\n",
       " \"wouldn't\"]"
      ]
     },
     "execution_count": 18,
     "metadata": {},
     "output_type": "execute_result"
    }
   ],
   "source": [
    "stop[-10:] #use negative index to slice the last 10 stopwords"
   ]
  },
  {
   "cell_type": "markdown",
   "metadata": {},
   "source": [
    ">* Because stopwords list can be customized, we can add or remove words from the list.\n",
    ">* Considering some of the data is collected from Twitter, we can add some Twitter-specific stopwords like `rt'."
   ]
  },
  {
   "cell_type": "code",
   "execution_count": 19,
   "metadata": {},
   "outputs": [],
   "source": [
    "stop.append('rt') #add 'rt' to the stopwords list"
   ]
  },
  {
   "cell_type": "markdown",
   "metadata": {},
   "source": [
    ">* We want to remove the stopwords from the text-lower column"
   ]
  },
  {
   "cell_type": "code",
   "execution_count": 20,
   "metadata": {},
   "outputs": [
    {
     "name": "stderr",
     "output_type": "stream",
     "text": [
      "/var/folders/3_/r8z51q092v566bd_r0g_zj640000gn/T/ipykernel_5352/1207516474.py:1: SettingWithCopyWarning: \n",
      "A value is trying to be set on a copy of a slice from a DataFrame.\n",
      "Try using .loc[row_indexer,col_indexer] = value instead\n",
      "\n",
      "See the caveats in the documentation: https://pandas.pydata.org/pandas-docs/stable/user_guide/indexing.html#returning-a-view-versus-a-copy\n",
      "  content['stopword']=content['text-lower'].apply(lambda x: ' '.join([word for word in x.split() if word not in stop]))\n"
     ]
    }
   ],
   "source": [
    "content['stopword']=content['text-lower'].apply(lambda x: ' '.join([word for word in x.split() if word not in stop]))\n",
    "#The lambda function takes each row of the 'text-lower' column, splits it into a list of words, \n",
    "#and then joins the words back together into a string, excluding any words that are in the 'stop' list."
   ]
  },
  {
   "cell_type": "markdown",
   "metadata": {},
   "source": [
    ">* Let's get rid of irrelevant punctuations."
   ]
  },
  {
   "cell_type": "code",
   "execution_count": 21,
   "metadata": {},
   "outputs": [
    {
     "name": "stderr",
     "output_type": "stream",
     "text": [
      "/var/folders/3_/r8z51q092v566bd_r0g_zj640000gn/T/ipykernel_5352/445710354.py:1: SettingWithCopyWarning: \n",
      "A value is trying to be set on a copy of a slice from a DataFrame.\n",
      "Try using .loc[row_indexer,col_indexer] = value instead\n",
      "\n",
      "See the caveats in the documentation: https://pandas.pydata.org/pandas-docs/stable/user_guide/indexing.html#returning-a-view-versus-a-copy\n",
      "  content['stop_tokenized_unigrams']=content['stopword'].apply(word_tokenize)\n"
     ]
    }
   ],
   "source": [
    "content['stop_tokenized_unigrams']=content['stopword'].apply(word_tokenize)"
   ]
  },
  {
   "cell_type": "code",
   "execution_count": 22,
   "metadata": {},
   "outputs": [
    {
     "name": "stderr",
     "output_type": "stream",
     "text": [
      "/var/folders/3_/r8z51q092v566bd_r0g_zj640000gn/T/ipykernel_5352/3655593217.py:1: SettingWithCopyWarning: \n",
      "A value is trying to be set on a copy of a slice from a DataFrame.\n",
      "Try using .loc[row_indexer,col_indexer] = value instead\n",
      "\n",
      "See the caveats in the documentation: https://pandas.pydata.org/pandas-docs/stable/user_guide/indexing.html#returning-a-view-versus-a-copy\n",
      "  content['punct_tokenized_unigrams']=content['stop_tokenized_unigrams'].apply(lambda x: [word for word in x if word.isalnum()])\n"
     ]
    }
   ],
   "source": [
    "content['punct_tokenized_unigrams']=content['stop_tokenized_unigrams'].apply(lambda x: [word for word in x if word.isalnum()])"
   ]
  },
  {
   "cell_type": "markdown",
   "metadata": {},
   "source": [
    ">* The last step is to convert the text data into lemma form.\n",
    ">* When counting the most frequent words, we saw that the same word with different forms was counted separately. For instance, the past and present tense of the same word were counted as two different words.\n",
    ">* To avoid this, we will use lemmatization to convert the text data into the base form of words."
   ]
  },
  {
   "cell_type": "code",
   "execution_count": 23,
   "metadata": {},
   "outputs": [],
   "source": [
    "from nltk.stem import WordNetLemmatizer\n",
    "lemmatizer=WordNetLemmatizer()\n",
    "from nltk.corpus import wordnet"
   ]
  },
  {
   "cell_type": "markdown",
   "metadata": {},
   "source": [
    "> * Interestingly enough, NLTK's WordNetLemmatizer is not perfect.\n",
    "> * By default, it only lemmatize nouns.\n",
    "> * Therefore, we need to specify the part of speech (POS) for each token."
   ]
  },
  {
   "cell_type": "code",
   "execution_count": 115,
   "metadata": {},
   "outputs": [],
   "source": [
    "def nltk_tag_to_wordnet_tag(nltk_tag):\n",
    "    if nltk_tag.startswith('J'): #ADJECTIVE\n",
    "        return wordnet.ADJ\n",
    "    elif nltk_tag.startswith('V'): #VERB\n",
    "        return wordnet.VERB\n",
    "    elif nltk_tag.startswith('N'): #NOUN        \n",
    "        return wordnet.NOUN\n",
    "    elif nltk_tag.startswith('R'): #ADVERB\n",
    "        return wordnet.ADV\n",
    "    else:          \n",
    "        return None"
   ]
  },
  {
   "cell_type": "code",
   "execution_count": 25,
   "metadata": {},
   "outputs": [],
   "source": [
    "def lemmatize_sentence(sentence):\n",
    "    # Tokenize the sentence and find the POS tag for each token\n",
    "    nltk_tagged = nltk.pos_tag(nltk.word_tokenize(sentence))  \n",
    "    # Tuple of (token, wordnet_tag)\n",
    "    wordnet_tagged = map(lambda x: (x[0], nltk_tag_to_wordnet_tag(x[1])), nltk_tagged) \n",
    "    lemmatized_sentence = []\n",
    "    for word, tag in wordnet_tagged:\n",
    "        if tag is None:\n",
    "            # If no tag was found, then use the word as is\n",
    "            lemmatized_sentence.append(word)\n",
    "        else:        \n",
    "            # Else use the tag to lemmatize the word\n",
    "            lemmatized_sentence.append(lemmatizer.lemmatize(word, tag))\n",
    "    return \" \".join(lemmatized_sentence)"
   ]
  },
  {
   "cell_type": "code",
   "execution_count": 26,
   "metadata": {},
   "outputs": [
    {
     "name": "stderr",
     "output_type": "stream",
     "text": [
      "/var/folders/3_/r8z51q092v566bd_r0g_zj640000gn/T/ipykernel_5352/3910947984.py:1: SettingWithCopyWarning: \n",
      "A value is trying to be set on a copy of a slice from a DataFrame.\n",
      "Try using .loc[row_indexer,col_indexer] = value instead\n",
      "\n",
      "See the caveats in the documentation: https://pandas.pydata.org/pandas-docs/stable/user_guide/indexing.html#returning-a-view-versus-a-copy\n",
      "  content['lemma']=content['punct_tokenized_unigrams'].apply(lambda x: [lemmatizer.lemmatize(word) for word in x])\n"
     ]
    }
   ],
   "source": [
    "content['lemma']=content['punct_tokenized_unigrams'].apply(lambda x: [lemmatizer.lemmatize(word) for word in x])"
   ]
  },
  {
   "cell_type": "code",
   "execution_count": 42,
   "metadata": {},
   "outputs": [
    {
     "name": "stderr",
     "output_type": "stream",
     "text": [
      "/var/folders/3_/r8z51q092v566bd_r0g_zj640000gn/T/ipykernel_5352/1287760357.py:1: SettingWithCopyWarning: \n",
      "A value is trying to be set on a copy of a slice from a DataFrame.\n",
      "Try using .loc[row_indexer,col_indexer] = value instead\n",
      "\n",
      "See the caveats in the documentation: https://pandas.pydata.org/pandas-docs/stable/user_guide/indexing.html#returning-a-view-versus-a-copy\n",
      "  content['lemmatizer_str']=content['lemma'].apply(lambda x: lemmatize_sentence(' '.join(x)))\n"
     ]
    }
   ],
   "source": [
    "content['lemmatizer_str']=content['lemma'].apply(lambda x: lemmatize_sentence(' '.join(x)))"
   ]
  },
  {
   "cell_type": "code",
   "execution_count": 55,
   "metadata": {},
   "outputs": [
    {
     "name": "stderr",
     "output_type": "stream",
     "text": [
      "/var/folders/3_/r8z51q092v566bd_r0g_zj640000gn/T/ipykernel_5352/2752087146.py:1: SettingWithCopyWarning: \n",
      "A value is trying to be set on a copy of a slice from a DataFrame.\n",
      "Try using .loc[row_indexer,col_indexer] = value instead\n",
      "\n",
      "See the caveats in the documentation: https://pandas.pydata.org/pandas-docs/stable/user_guide/indexing.html#returning-a-view-versus-a-copy\n",
      "  content['lemmatizer_token']=content['lemmatizer_str'].apply(word_tokenize)\n"
     ]
    }
   ],
   "source": [
    "content['lemmatizer_token']=content['lemmatizer_str'].apply(word_tokenize)\n",
    "#tokenize the corrected lemmatized string"
   ]
  },
  {
   "cell_type": "markdown",
   "metadata": {},
   "source": [
    "> * Let's compare the results of lemmatization and without lemmatization."
   ]
  },
  {
   "cell_type": "code",
   "execution_count": 58,
   "metadata": {},
   "outputs": [
    {
     "data": {
      "text/plain": [
       "'call usdotfra release info inspection casseltonderailment review quality rail'"
      ]
     },
     "execution_count": 58,
     "metadata": {},
     "output_type": "execute_result"
    }
   ],
   "source": [
    "content.loc[5, 'lemmatizer_str']"
   ]
  },
  {
   "cell_type": "code",
   "execution_count": 57,
   "metadata": {},
   "outputs": [
    {
     "data": {
      "text/plain": [
       "'called on the @usdotfra to release info about inspections before the #casseltonderailment to review quality of rails. (1/2)'"
      ]
     },
     "execution_count": 57,
     "metadata": {},
     "output_type": "execute_result"
    }
   ],
   "source": [
    "content.loc[5, 'text-lower']"
   ]
  },
  {
   "cell_type": "markdown",
   "metadata": {},
   "source": [
    ">* We will import the `gensim` library for topic modeling."
   ]
  },
  {
   "cell_type": "code",
   "execution_count": 117,
   "metadata": {},
   "outputs": [],
   "source": [
    "import gensim\n",
    "from gensim import corpora\n",
    "from gensim.models.ldamodel import LdaModel"
   ]
  },
  {
   "cell_type": "markdown",
   "metadata": {},
   "source": [
    ">* In order for preparing the text data for LDA, we need to create a dictionary and a corpus.\n",
    ">* A dictionary is a mapping between words and their integer ids.\n",
    ">* A corpus is a list of lists where each list represents the bag of words for a single document."
   ]
  },
  {
   "cell_type": "code",
   "execution_count": 119,
   "metadata": {},
   "outputs": [],
   "source": [
    "id2word=corpora.Dictionary(content['lemmatizer_token'])"
   ]
  },
  {
   "cell_type": "code",
   "execution_count": 120,
   "metadata": {},
   "outputs": [],
   "source": [
    "corpus=[id2word.doc2bow(text) for text in content['lemmatizer_token']]"
   ]
  },
  {
   "cell_type": "code",
   "execution_count": 130,
   "metadata": {},
   "outputs": [
    {
     "data": {
      "text/plain": [
       "[(0, 1), (1, 1), (2, 1), (3, 1), (4, 1), (5, 1), (6, 1), (7, 1)]"
      ]
     },
     "execution_count": 130,
     "metadata": {},
     "output_type": "execute_result"
    }
   ],
   "source": [
    "corpus[0] \n",
    "#the first element in the tuple is the word id, \n",
    "#and the second element is the frequency of the word in the document"
   ]
  },
  {
   "cell_type": "code",
   "execution_count": 131,
   "metadata": {},
   "outputs": [
    {
     "data": {
      "text/plain": [
       "['nowthisnews', 'trey', 'radel', 'fl', 'slam', 'obamacare', 'politics', 'http']"
      ]
     },
     "execution_count": 131,
     "metadata": {},
     "output_type": "execute_result"
    }
   ],
   "source": [
    "content['lemmatizer_token'].iloc[0]"
   ]
  },
  {
   "cell_type": "code",
   "execution_count": 134,
   "metadata": {},
   "outputs": [
    {
     "data": {
      "text/plain": [
       "['photo',\n",
       " 'join',\n",
       " 'world',\n",
       " 'interest',\n",
       " 'man',\n",
       " 'from',\n",
       " 'america',\n",
       " 'interest',\n",
       " 'state',\n",
       " 'landmines',\n",
       " 'event',\n",
       " 'cap',\n",
       " 'hill',\n",
       " 'http']"
      ]
     },
     "execution_count": 134,
     "metadata": {},
     "output_type": "execute_result"
    }
   ],
   "source": [
    "#Another example for the frequency of the word is two ('interest')\n",
    "content['lemmatizer_token'][91]"
   ]
  },
  {
   "cell_type": "code",
   "execution_count": 135,
   "metadata": {},
   "outputs": [
    {
     "data": {
      "text/plain": [
       "[(1, 1),\n",
       " (18, 1),\n",
       " (78, 1),\n",
       " (92, 1),\n",
       " (360, 1),\n",
       " (436, 1),\n",
       " (491, 1),\n",
       " (732, 1),\n",
       " (733, 1),\n",
       " (734, 1),\n",
       " (735, 2),\n",
       " (736, 1),\n",
       " (737, 1)]"
      ]
     },
     "execution_count": 135,
     "metadata": {},
     "output_type": "execute_result"
    }
   ],
   "source": [
    "corpus[91]"
   ]
  },
  {
   "cell_type": "markdown",
   "metadata": {},
   "source": [
    ">* Q. What is the index number of the word 'interest'?"
   ]
  },
  {
   "cell_type": "markdown",
   "metadata": {},
   "source": [
    ">* The answer is 735. Note that the order of tuples in `corpus` does not follow the order of tokens.\n",
    ">* Gensim creates a unique id for each word in the document. "
   ]
  },
  {
   "cell_type": "code",
   "execution_count": 128,
   "metadata": {},
   "outputs": [
    {
     "data": {
      "text/plain": [
       "'interest'"
      ]
     },
     "execution_count": 128,
     "metadata": {},
     "output_type": "execute_result"
    }
   ],
   "source": [
    "id2word[735]"
   ]
  },
  {
   "cell_type": "markdown",
   "metadata": {},
   "source": [
    ">* Q. What is the word of index number 1?"
   ]
  },
  {
   "cell_type": "markdown",
   "metadata": {},
   "source": [
    ">* The answer is 'http' because it appeared in the first instance of the `content['lemmatizer_token']`."
   ]
  },
  {
   "cell_type": "code",
   "execution_count": 136,
   "metadata": {},
   "outputs": [
    {
     "data": {
      "text/plain": [
       "'http'"
      ]
     },
     "execution_count": 136,
     "metadata": {},
     "output_type": "execute_result"
    }
   ],
   "source": [
    "id2word[1]"
   ]
  },
  {
   "cell_type": "markdown",
   "metadata": {},
   "source": [
    ">* Now we build the model with the dictionary and the corpus.\n",
    ">* There are several parameters to set for the LDA model.\n",
    ">* The number of topics is one of the most important parameters to set. It will be specified under `num_topics`.\n",
    ">* We can set the number of topics to 5."
   ]
  },
  {
   "cell_type": "code",
   "execution_count": 168,
   "metadata": {},
   "outputs": [],
   "source": [
    "lda=LdaModel(corpus=corpus, id2word=id2word, num_topics=5)"
   ]
  },
  {
   "cell_type": "code",
   "execution_count": 166,
   "metadata": {},
   "outputs": [],
   "source": [
    "from pprint import pprint\n",
    "#This is just to show the topics in a more readable way"
   ]
  },
  {
   "cell_type": "code",
   "execution_count": 169,
   "metadata": {},
   "outputs": [
    {
     "name": "stdout",
     "output_type": "stream",
     "text": [
      "[(0,\n",
      "  '0.014*\"http\" + 0.008*\"health\" + 0.007*\"president\" + 0.006*\"sander\" + '\n",
      "  '0.006*\"congress\" + 0.005*\"state\" + 0.005*\"house\" + 0.005*\"vote\" + '\n",
      "  '0.005*\"care\" + 0.004*\"work\"'),\n",
      " (1,\n",
      "  '0.016*\"http\" + 0.009*\"american\" + 0.008*\"federal\" + 0.007*\"business\" + '\n",
      "  '0.007*\"today\" + 0.006*\"law\" + 0.005*\"obamacare\" + 0.005*\"help\" + '\n",
      "  '0.005*\"student\" + 0.005*\"community\"'),\n",
      " (2,\n",
      "  '0.014*\"http\" + 0.009*\"great\" + 0.009*\"today\" + 0.008*\"new\" + 0.005*\"bill\" + '\n",
      "  '0.005*\"school\" + 0.005*\"visit\" + 0.005*\"community\" + 0.005*\"state\" + '\n",
      "  '0.004*\"time\"'),\n",
      " (3,\n",
      "  '0.012*\"today\" + 0.010*\"http\" + 0.009*\"day\" + 0.009*\"veteran\" + 0.008*\"work\" '\n",
      "  '+ 0.008*\"house\" + 0.007*\"year\" + 0.007*\"great\" + 0.006*\"act\" + '\n",
      "  '0.006*\"family\"'),\n",
      " (4,\n",
      "  '0.012*\"http\" + 0.006*\"make\" + 0.006*\"take\" + 0.006*\"office\" + 0.006*\"today\" '\n",
      "  '+ 0.006*\"day\" + 0.005*\"family\" + 0.005*\"washington\" + 0.005*\"cut\" + '\n",
      "  '0.005*\"click\"')]\n"
     ]
    }
   ],
   "source": [
    "pprint(lda.print_topics())"
   ]
  },
  {
   "cell_type": "markdown",
   "metadata": {},
   "source": [
    ">* But you'll find that the topic words will change every time you run the model."
   ]
  },
  {
   "cell_type": "code",
   "execution_count": 170,
   "metadata": {},
   "outputs": [],
   "source": [
    "lda=LdaModel(corpus=corpus, id2word=id2word, num_topics=5)"
   ]
  },
  {
   "cell_type": "code",
   "execution_count": 171,
   "metadata": {},
   "outputs": [
    {
     "name": "stdout",
     "output_type": "stream",
     "text": [
      "[(0,\n",
      "  '0.011*\"http\" + 0.010*\"make\" + 0.009*\"american\" + 0.007*\"today\" + '\n",
      "  '0.007*\"work\" + 0.007*\"u\" + 0.007*\"act\" + 0.006*\"job\" + 0.005*\"family\" + '\n",
      "  '0.005*\"people\"'),\n",
      " (1,\n",
      "  '0.011*\"service\" + 0.008*\"http\" + 0.008*\"great\" + 0.007*\"thank\" + '\n",
      "  '0.006*\"day\" + 0.006*\"honor\" + 0.006*\"today\" + 0.005*\"county\" + 0.005*\"help\" '\n",
      "  '+ 0.005*\"see\"'),\n",
      " (2,\n",
      "  '0.017*\"http\" + 0.009*\"house\" + 0.009*\"law\" + 0.008*\"president\" + '\n",
      "  '0.006*\"today\" + 0.005*\"vote\" + 0.005*\"say\" + 0.005*\"year\" + 0.005*\"bill\" + '\n",
      "  '0.005*\"state\"'),\n",
      " (3,\n",
      "  '0.011*\"http\" + 0.007*\"work\" + 0.007*\"new\" + 0.006*\"state\" + 0.006*\"veteran\" '\n",
      "  '+ 0.006*\"job\" + 0.005*\"today\" + 0.005*\"business\" + 0.005*\"time\" + '\n",
      "  '0.005*\"obamacare\"'),\n",
      " (4,\n",
      "  '0.015*\"today\" + 0.014*\"http\" + 0.007*\"community\" + 0.007*\"great\" + '\n",
      "  '0.005*\"day\" + 0.005*\"need\" + 0.005*\"state\" + 0.005*\"family\" + 0.004*\"live\" '\n",
      "  '+ 0.004*\"morning\"')]\n"
     ]
    }
   ],
   "source": [
    "pprint(lda.print_topics())"
   ]
  },
  {
   "cell_type": "markdown",
   "metadata": {},
   "source": [
    ">* This is because the LDA model is a probabilistic model, so the results are not deterministic.\n",
    ">* To get the same results, you need to set the seed number.\n",
    ">* The seed number is set under `random_state`."
   ]
  },
  {
   "cell_type": "code",
   "execution_count": 172,
   "metadata": {},
   "outputs": [],
   "source": [
    "lda=LdaModel(corpus=corpus, id2word=id2word, num_topics=5, random_state=1)"
   ]
  },
  {
   "cell_type": "code",
   "execution_count": 173,
   "metadata": {},
   "outputs": [
    {
     "name": "stdout",
     "output_type": "stream",
     "text": [
      "[(0,\n",
      "  '0.011*\"http\" + 0.008*\"day\" + 0.008*\"work\" + 0.008*\"time\" + 0.007*\"act\" + '\n",
      "  '0.007*\"government\" + 0.007*\"health\" + 0.007*\"care\" + 0.007*\"vote\" + '\n",
      "  '0.006*\"house\"'),\n",
      " (1,\n",
      "  '0.011*\"http\" + 0.009*\"today\" + 0.008*\"great\" + 0.007*\"state\" + 0.006*\"job\" '\n",
      "  '+ 0.006*\"school\" + 0.005*\"american\" + 0.005*\"new\" + 0.005*\"help\" + '\n",
      "  '0.005*\"service\"'),\n",
      " (2,\n",
      "  '0.016*\"http\" + 0.011*\"today\" + 0.006*\"house\" + 0.005*\"new\" + '\n",
      "  '0.005*\"veteran\" + 0.005*\"year\" + 0.005*\"american\" + 0.004*\"help\" + '\n",
      "  '0.004*\"great\" + 0.004*\"need\"'),\n",
      " (3,\n",
      "  '0.009*\"http\" + 0.009*\"work\" + 0.007*\"would\" + 0.007*\"law\" + 0.006*\"make\" + '\n",
      "  '0.006*\"today\" + 0.006*\"tax\" + 0.005*\"keep\" + 0.005*\"legislation\" + '\n",
      "  '0.004*\"day\"'),\n",
      " (4,\n",
      "  '0.013*\"http\" + 0.006*\"family\" + 0.005*\"please\" + 0.005*\"work\" + '\n",
      "  '0.005*\"great\" + 0.004*\"de\" + 0.004*\"make\" + 0.004*\"today\" + 0.004*\"year\" + '\n",
      "  '0.004*\"hall\"')]\n"
     ]
    }
   ],
   "source": [
    "pprint(lda.print_topics())"
   ]
  },
  {
   "cell_type": "markdown",
   "metadata": {},
   "source": [
    ">* You can also increase the number of topics by changing the `num_topics` parameter.\n",
    ">* Let's set the number of topics to 10."
   ]
  },
  {
   "cell_type": "code",
   "execution_count": 174,
   "metadata": {},
   "outputs": [],
   "source": [
    "lda=LdaModel(corpus=corpus, id2word=id2word, num_topics=10, random_state=1)"
   ]
  },
  {
   "cell_type": "code",
   "execution_count": 175,
   "metadata": {},
   "outputs": [
    {
     "name": "stdout",
     "output_type": "stream",
     "text": [
      "[(0,\n",
      "  '0.014*\"day\" + 0.013*\"http\" + 0.010*\"first\" + 0.010*\"happy\" + 0.009*\"hall\" + '\n",
      "  '0.009*\"town\" + 0.007*\"point\" + 0.007*\"ii\" + 0.007*\"year\" + 0.006*\"change\"'),\n",
      " (1,\n",
      "  '0.017*\"http\" + 0.010*\"great\" + 0.008*\"affair\" + 0.008*\"today\" + '\n",
      "  '0.008*\"school\" + 0.008*\"meet\" + 0.008*\"share\" + 0.006*\"continue\" + '\n",
      "  '0.006*\"american\" + 0.006*\"park\"'),\n",
      " (2,\n",
      "  '0.019*\"http\" + 0.013*\"today\" + 0.008*\"great\" + 0.007*\"year\" + 0.007*\"new\" + '\n",
      "  '0.006*\"sander\" + 0.006*\"visit\" + 0.006*\"state\" + 0.005*\"i\" + '\n",
      "  '0.005*\"family\"'),\n",
      " (3,\n",
      "  '0.010*\"http\" + 0.008*\"must\" + 0.008*\"governor\" + 0.007*\"president\" + '\n",
      "  '0.007*\"legislation\" + 0.007*\"work\" + 0.006*\"today\" + 0.006*\"mental\" + '\n",
      "  '0.005*\"december\" + 0.005*\"del\"'),\n",
      " (4,\n",
      "  '0.017*\"http\" + 0.009*\"family\" + 0.007*\"click\" + 0.007*\"immigration\" + '\n",
      "  '0.007*\"de\" + 0.006*\"today\" + 0.006*\"reform\" + 0.006*\"great\" + 0.006*\"night\" '\n",
      "  '+ 0.005*\"government\"'),\n",
      " (5,\n",
      "  '0.018*\"law\" + 0.015*\"http\" + 0.013*\"health\" + 0.012*\"care\" + '\n",
      "  '0.011*\"president\" + 0.009*\"american\" + 0.009*\"day\" + 0.008*\"congress\" + '\n",
      "  '0.008*\"today\" + 0.008*\"house\"'),\n",
      " (6,\n",
      "  '0.012*\"http\" + 0.010*\"work\" + 0.010*\"time\" + 0.010*\"house\" + 0.010*\"bill\" + '\n",
      "  '0.009*\"make\" + 0.009*\"act\" + 0.009*\"job\" + 0.008*\"today\" + 0.007*\"senate\"'),\n",
      " (7,\n",
      "  '0.012*\"work\" + 0.009*\"know\" + 0.009*\"business\" + 0.008*\"american\" + '\n",
      "  '0.008*\"veteran\" + 0.008*\"people\" + 0.007*\"one\" + 0.007*\"provide\" + '\n",
      "  '0.006*\"http\" + 0.006*\"represent\"'),\n",
      " (8,\n",
      "  '0.013*\"money\" + 0.011*\"http\" + 0.008*\"congressman\" + 0.008*\"paso\" + '\n",
      "  '0.007*\"congresswoman\" + 0.007*\"year\" + 0.007*\"national\" + 0.006*\"nsa\" + '\n",
      "  '0.006*\"monday\" + 0.006*\"el\"'),\n",
      " (9,\n",
      "  '0.015*\"http\" + 0.008*\"u\" + 0.008*\"today\" + 0.008*\"state\" + 0.008*\"service\" '\n",
      "  '+ 0.007*\"house\" + 0.007*\"say\" + 0.006*\"new\" + 0.006*\"veteran\" + '\n",
      "  '0.005*\"committee\"')]\n"
     ]
    }
   ],
   "source": [
    "pprint(lda.print_topics())"
   ]
  },
  {
   "cell_type": "markdown",
   "metadata": {},
   "source": [
    ">* Q. Do you like the results of the LDA model? What do you find interesting?"
   ]
  },
  {
   "cell_type": "markdown",
   "metadata": {},
   "source": [
    ">* Finding the optimal number of topics is a challenging task.\n",
    ">* The topic coherence score and perplexity are two common metrics to evaluate the model.\n",
    ">* But this is beyond the scope of this course. Come find me if you're interested in learning more about it!"
   ]
  },
  {
   "cell_type": "markdown",
   "metadata": {},
   "source": [
    ">* The assumption of the LDA model is that each document is a mixture of topics.\n",
    ">* In this case with social media data, the document is an individual post and the topics are the themes of the post.\n",
    ">* However, given that the social media data is too short to have a mixture of topics, the LDA model may not work well.\n",
    ">* The LDA model is more suitable for long documents like research papers, articles, and books.\n",
    ">* Therefore, researchers developed another topic model called NMF (Non-negative Matrix Factorization) for short argumentative texts."
   ]
  },
  {
   "cell_type": "markdown",
   "metadata": {},
   "source": [
    ">* Let's learn NMF"
   ]
  },
  {
   "cell_type": "code",
   "execution_count": 176,
   "metadata": {},
   "outputs": [],
   "source": [
    "from gensim.models.nmf import Nmf"
   ]
  },
  {
   "cell_type": "code",
   "execution_count": 183,
   "metadata": {},
   "outputs": [],
   "source": [
    "nmf = Nmf(corpus=corpus, id2word=id2word, num_topics=5)"
   ]
  },
  {
   "cell_type": "code",
   "execution_count": 184,
   "metadata": {},
   "outputs": [
    {
     "name": "stdout",
     "output_type": "stream",
     "text": [
      "[(0,\n",
      "  '0.103*\"http\" + 0.017*\"today\" + 0.017*\"amp\" + 0.011*\"great\" + 0.011*\"bill\" + '\n",
      "  '0.006*\"new\" + 0.005*\"here\" + 0.005*\"talk\" + 0.005*\"u\" + 0.004*\"thanks\"'),\n",
      " (1,\n",
      "  '0.014*\"law\" + 0.013*\"work\" + 0.010*\"day\" + 0.009*\"tax\" + 0.008*\"make\" + '\n",
      "  '0.008*\"job\" + 0.007*\"american\" + 0.007*\"congress\" + 0.006*\"year\" + '\n",
      "  '0.006*\"say\"'),\n",
      " (2,\n",
      "  '0.018*\"today\" + 0.014*\"veteran\" + 0.011*\"make\" + 0.010*\"house\" + '\n",
      "  '0.010*\"bill\" + 0.009*\"http\" + 0.007*\"care\" + 0.007*\"american\" + '\n",
      "  '0.007*\"vote\" + 0.007*\"health\"'),\n",
      " (3,\n",
      "  '0.039*\"http\" + 0.015*\"get\" + 0.013*\"law\" + 0.012*\"go\" + 0.011*\"time\" + '\n",
      "  '0.011*\"say\" + 0.007*\"government\" + 0.007*\"gop\" + 0.007*\"plan\" + '\n",
      "  '0.006*\"year\"'),\n",
      " (4,\n",
      "  '0.024*\"law\" + 0.014*\"congress\" + 0.010*\"help\" + 0.008*\"great\" + 0.008*\"amp\" '\n",
      "  '+ 0.008*\"http\" + 0.008*\"do\" + 0.007*\"say\" + 0.007*\"i\" + 0.007*\"change\"')]\n"
     ]
    }
   ],
   "source": [
    "pprint(nmf.print_topics())"
   ]
  },
  {
   "cell_type": "markdown",
   "metadata": {},
   "source": [
    ">* Similar to LDA, NMF returns the topic words each time you run the model."
   ]
  },
  {
   "cell_type": "code",
   "execution_count": 185,
   "metadata": {},
   "outputs": [],
   "source": [
    "nmf = Nmf(corpus=corpus, id2word=id2word, num_topics=5)"
   ]
  },
  {
   "cell_type": "code",
   "execution_count": 186,
   "metadata": {},
   "outputs": [
    {
     "name": "stdout",
     "output_type": "stream",
     "text": [
      "[(0,\n",
      "  '0.028*\"law\" + 0.014*\"congress\" + 0.010*\"say\" + 0.010*\"make\" + 0.010*\"work\" '\n",
      "  '+ 0.009*\"get\" + 0.009*\"job\" + 0.008*\"do\" + 0.008*\"president\" + '\n",
      "  '0.008*\"change\"'),\n",
      " (1,\n",
      "  '0.022*\"today\" + 0.015*\"house\" + 0.013*\"veteran\" + 0.012*\"bill\" + '\n",
      "  '0.011*\"vote\" + 0.010*\"act\" + 0.009*\"american\" + 0.007*\"senate\" + '\n",
      "  '0.006*\"http\" + 0.006*\"honor\"'),\n",
      " (2,\n",
      "  '0.104*\"http\" + 0.023*\"amp\" + 0.020*\"work\" + 0.014*\"family\" + 0.013*\"time\" + '\n",
      "  '0.008*\"obamacare\" + 0.006*\"visit\" + 0.005*\"icymi\" + 0.005*\"talk\" + '\n",
      "  '0.004*\"u\"'),\n",
      " (3,\n",
      "  '0.023*\"http\" + 0.020*\"new\" + 0.008*\"tax\" + 0.007*\"business\" + 0.006*\"make\" '\n",
      "  '+ 0.006*\"one\" + 0.006*\"student\" + 0.006*\"high\" + 0.005*\"week\" + '\n",
      "  '0.005*\"like\"'),\n",
      " (4,\n",
      "  '0.073*\"http\" + 0.013*\"great\" + 0.012*\"get\" + 0.007*\"gop\" + 0.007*\"here\" + '\n",
      "  '0.007*\"student\" + 0.005*\"bill\" + 0.005*\"federal\" + 0.005*\"debt\" + '\n",
      "  '0.005*\"must\"')]\n"
     ]
    }
   ],
   "source": [
    "pprint(nmf.print_topics())"
   ]
  },
  {
   "cell_type": "markdown",
   "metadata": {},
   "source": [
    ">* To avoid this randomness, you can set the seed number under `random_state`."
   ]
  },
  {
   "cell_type": "code",
   "execution_count": 190,
   "metadata": {},
   "outputs": [],
   "source": [
    "nmf=Nmf(corpus=corpus, id2word=id2word, num_topics=5, random_state=5)"
   ]
  },
  {
   "cell_type": "code",
   "execution_count": 191,
   "metadata": {},
   "outputs": [
    {
     "name": "stdout",
     "output_type": "stream",
     "text": [
      "[(0,\n",
      "  '0.037*\"http\" + 0.029*\"today\" + 0.014*\"great\" + 0.013*\"day\" + 0.010*\"state\" '\n",
      "  '+ 0.006*\"time\" + 0.006*\"here\" + 0.006*\"new\" + 0.006*\"read\" + 0.005*\"year\"'),\n",
      " (1,\n",
      "  '0.024*\"http\" + 0.021*\"job\" + 0.017*\"american\" + 0.016*\"get\" + 0.014*\"work\" '\n",
      "  '+ 0.010*\"people\" + 0.010*\"law\" + 0.007*\"would\" + 0.006*\"economy\" + '\n",
      "  '0.006*\"rate\"'),\n",
      " (2,\n",
      "  '0.038*\"law\" + 0.021*\"congress\" + 0.014*\"president\" + 0.012*\"say\" + '\n",
      "  '0.011*\"do\" + 0.010*\"change\" + 0.010*\"get\" + 0.009*\"go\" + 0.009*\"thing\" + '\n",
      "  '0.009*\"executive\"'),\n",
      " (3,\n",
      "  '0.010*\"make\" + 0.009*\"vote\" + 0.007*\"house\" + 0.007*\"work\" + 0.007*\"tax\" + '\n",
      "  '0.006*\"act\" + 0.006*\"u\" + 0.006*\"year\" + 0.006*\"legislation\" + '\n",
      "  '0.006*\"need\"'),\n",
      " (4,\n",
      "  '0.109*\"http\" + 0.030*\"amp\" + 0.009*\"hear\" + 0.009*\"gop\" + 0.006*\"support\" + '\n",
      "  '0.005*\"talk\" + 0.005*\"floor\" + 0.004*\"tune\" + 0.004*\"family\" + '\n",
      "  '0.004*\"house\"')]\n"
     ]
    }
   ],
   "source": [
    "pprint(nmf.print_topics())"
   ]
  },
  {
   "cell_type": "markdown",
   "metadata": {},
   "source": [
    ">* You can also increase the number of topics by changing the `n_topics` parameter."
   ]
  },
  {
   "cell_type": "code",
   "execution_count": 192,
   "metadata": {},
   "outputs": [],
   "source": [
    "nmf=Nmf(corpus=corpus, id2word=id2word, num_topics=10, random_state=5)"
   ]
  },
  {
   "cell_type": "code",
   "execution_count": 193,
   "metadata": {},
   "outputs": [
    {
     "name": "stdout",
     "output_type": "stream",
     "text": [
      "[(0,\n",
      "  '0.020*\"bill\" + 0.019*\"veteran\" + 0.018*\"today\" + 0.008*\"service\" + '\n",
      "  '0.008*\"va\" + 0.008*\"honor\" + 0.008*\"congress\" + 0.007*\"new\" + '\n",
      "  '0.007*\"family\" + 0.007*\"president\"'),\n",
      " (1,\n",
      "  '0.017*\"job\" + 0.010*\"work\" + 0.010*\"make\" + 0.010*\"american\" + 0.010*\"tax\" '\n",
      "  '+ 0.009*\"house\" + 0.009*\"would\" + 0.009*\"year\" + 0.008*\"legislation\" + '\n",
      "  '0.008*\"business\"'),\n",
      " (2,\n",
      "  '0.013*\"state\" + 0.012*\"http\" + 0.011*\"time\" + 0.010*\"school\" + '\n",
      "  '0.010*\"obamacare\" + 0.009*\"day\" + 0.008*\"national\" + 0.008*\"here\" + '\n",
      "  '0.007*\"year\" + 0.007*\"live\"'),\n",
      " (3,\n",
      "  '0.022*\"today\" + 0.020*\"great\" + 0.014*\"get\" + 0.014*\"vote\" + 0.009*\"go\" + '\n",
      "  '0.009*\"law\" + 0.007*\"hear\" + 0.007*\"talk\" + 0.007*\"make\" + 0.007*\"one\"'),\n",
      " (4,\n",
      "  '0.049*\"law\" + 0.021*\"congress\" + 0.016*\"president\" + 0.016*\"say\" + '\n",
      "  '0.015*\"do\" + 0.013*\"change\" + 0.012*\"go\" + 0.012*\"get\" + 0.012*\"thing\" + '\n",
      "  '0.011*\"make\"'),\n",
      " (5,\n",
      "  '0.107*\"http\" + 0.020*\"help\" + 0.013*\"here\" + 0.010*\"health\" + 0.010*\"watch\" '\n",
      "  '+ 0.009*\"bill\" + 0.008*\"american\" + 0.008*\"student\" + 0.007*\"business\" + '\n",
      "  '0.006*\"small\"'),\n",
      " (6,\n",
      "  '0.051*\"http\" + 0.028*\"house\" + 0.027*\"work\" + 0.021*\"great\" + 0.011*\"week\" '\n",
      "  '+ 0.010*\"family\" + 0.009*\"act\" + 0.009*\"new\" + 0.007*\"support\" + '\n",
      "  '0.007*\"protect\"'),\n",
      " (7,\n",
      "  '0.101*\"http\" + 0.016*\"obama\" + 0.014*\"budget\" + 0.013*\"thanks\" + '\n",
      "  '0.012*\"gop\" + 0.011*\"make\" + 0.009*\"government\" + 0.008*\"shutdown\" + '\n",
      "  '0.007*\"time\" + 0.007*\"today\"'),\n",
      " (8,\n",
      "  '0.037*\"http\" + 0.020*\"amp\" + 0.018*\"tax\" + 0.018*\"u\" + 0.016*\"hall\" + '\n",
      "  '0.014*\"join\" + 0.013*\"town\" + 0.008*\"credit\" + 0.007*\"infrastructure\" + '\n",
      "  '0.005*\"community\"'),\n",
      " (9,\n",
      "  '0.061*\"amp\" + 0.024*\"veteran\" + 0.014*\"job\" + 0.011*\"http\" + '\n",
      "  '0.008*\"service\" + 0.008*\"help\" + 0.006*\"look\" + 0.006*\"proud\" + '\n",
      "  '0.006*\"office\" + 0.006*\"va\"')]\n"
     ]
    }
   ],
   "source": [
    "pprint(nmf.print_topics())"
   ]
  },
  {
   "cell_type": "markdown",
   "metadata": {},
   "source": [
    ">* Q. Which model do you like better? LDA or NMF?"
   ]
  },
  {
   "cell_type": "markdown",
   "metadata": {},
   "source": [
    ">* Topic modeling helps you understand the overall abstract level of the text data.\n",
    ">* When you want to know about what the text is about, you can use topic modeling to extract the topics."
   ]
  },
  {
   "cell_type": "markdown",
   "metadata": {},
   "source": [
    ">* We are moving on to the word level understanding of the text data.\n",
    ">* The words that appear together frequently are likely to have a strong relationship.\n",
    ">* With this we can understand how the word was used in the context.\n",
    ">* Word embedding is a technique to represent words in a relation to other words in the text data.\n",
    ">* To do so, each word is represented as a dense vector in a high-dimensional space.\n",
    ">* The distance between the vectors represents the relationship between the words.\n",
    ">* Similar words will be located close to each other in the vector space."
   ]
  }
 ],
 "metadata": {
  "kernelspec": {
   "display_name": "is6750",
   "language": "python",
   "name": "python3"
  },
  "language_info": {
   "codemirror_mode": {
    "name": "ipython",
    "version": 3
   },
   "file_extension": ".py",
   "mimetype": "text/x-python",
   "name": "python",
   "nbconvert_exporter": "python",
   "pygments_lexer": "ipython3",
   "version": "3.12.4"
  }
 },
 "nbformat": 4,
 "nbformat_minor": 2
}
